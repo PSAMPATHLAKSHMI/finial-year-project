{
 "cells": [
  {
   "cell_type": "code",
   "execution_count": 1,
   "id": "6dcbf64a",
   "metadata": {
    "execution": {
     "iopub.execute_input": "2022-10-27T02:30:11.345615Z",
     "iopub.status.busy": "2022-10-27T02:30:11.344865Z",
     "iopub.status.idle": "2022-10-27T02:30:12.938257Z",
     "shell.execute_reply": "2022-10-27T02:30:12.936945Z"
    },
    "papermill": {
     "duration": 1.628978,
     "end_time": "2022-10-27T02:30:12.941095",
     "exception": false,
     "start_time": "2022-10-27T02:30:11.312117",
     "status": "completed"
    },
    "tags": []
   },
   "outputs": [],
   "source": [
    "import pandas as pd\n",
    "import numpy as np\n",
    "import matplotlib.pyplot as plt\n",
    "import seaborn as sns\n",
    "from sklearn.preprocessing import StandardScaler\n",
    "from sklearn.model_selection import train_test_split\n",
    "from sklearn.linear_model import LinearRegression,Ridge,LogisticRegression\n",
    "from sklearn.metrics import r2_score , mean_squared_error ,confusion_matrix,accuracy_score\n",
    "import string as st\n",
    "from sklearn.preprocessing import LabelEncoder\n",
    "from sklearn.decomposition import PCA\n",
    "from sklearn.cluster import KMeans \n",
    "from sklearn.ensemble import RandomForestClassifier\n",
    "from lib.utils import *\n",
    "from sklearn.linear_model import LogisticRegression\n",
    "import warnings\n",
    "warnings.filterwarnings(\"ignore\")\n"
   ]
  },
  {
   "cell_type": "code",
   "execution_count": 2,
   "id": "29f17fe8",
   "metadata": {
    "execution": {
     "iopub.execute_input": "2022-10-27T02:30:13.081114Z",
     "iopub.status.busy": "2022-10-27T02:30:13.079761Z",
     "iopub.status.idle": "2022-10-27T02:30:13.300201Z",
     "shell.execute_reply": "2022-10-27T02:30:13.299069Z"
    },
    "papermill": {
     "duration": 0.259431,
     "end_time": "2022-10-27T02:30:13.303069",
     "exception": false,
     "start_time": "2022-10-27T02:30:13.043638",
     "status": "completed"
    },
    "tags": []
   },
   "outputs": [],
   "source": [
    "pd.set_option('display.max_columns',500)\n",
    "pd.set_option('display.max_rows',200)\n",
    "df = pd.read_csv(\"dataset.csv\", encoding = 'ISO-8859-1')"
   ]
  },
  {
   "cell_type": "code",
   "execution_count": 3,
   "id": "338509f2",
   "metadata": {
    "execution": {
     "iopub.execute_input": "2022-10-27T02:30:13.373054Z",
     "iopub.status.busy": "2022-10-27T02:30:13.372055Z",
     "iopub.status.idle": "2022-10-27T02:30:13.387940Z",
     "shell.execute_reply": "2022-10-27T02:30:13.386729Z"
    },
    "papermill": {
     "duration": 0.054164,
     "end_time": "2022-10-27T02:30:13.390543",
     "exception": false,
     "start_time": "2022-10-27T02:30:13.336379",
     "status": "completed"
    },
    "scrolled": true,
    "tags": []
   },
   "outputs": [
    {
     "data": {
      "text/plain": [
       "0        0\n",
       "1        2\n",
       "2        2\n",
       "3        0\n",
       "4        1\n",
       "        ..\n",
       "13459    0\n",
       "13460    3\n",
       "13461    0\n",
       "13462    2\n",
       "13463    1\n",
       "Name: GAD2, Length: 13464, dtype: int64"
      ]
     },
     "execution_count": 3,
     "metadata": {},
     "output_type": "execute_result"
    }
   ],
   "source": [
    "df.GAD2"
   ]
  },
  {
   "cell_type": "code",
   "execution_count": 4,
   "id": "3aef0a70",
   "metadata": {
    "execution": {
     "iopub.execute_input": "2022-10-27T02:30:13.459498Z",
     "iopub.status.busy": "2022-10-27T02:30:13.458306Z",
     "iopub.status.idle": "2022-10-27T02:30:13.474471Z",
     "shell.execute_reply": "2022-10-27T02:30:13.473471Z"
    },
    "papermill": {
     "duration": 0.053391,
     "end_time": "2022-10-27T02:30:13.477238",
     "exception": false,
     "start_time": "2022-10-27T02:30:13.423847",
     "status": "completed"
    },
    "tags": []
   },
   "outputs": [],
   "source": [
    "df.drop(['S. No.' , 'Timestamp'] , axis = 1 , inplace = True)"
   ]
  },
  {
   "cell_type": "code",
   "execution_count": 5,
   "id": "ce4efd42",
   "metadata": {
    "execution": {
     "iopub.execute_input": "2022-10-27T02:30:13.604961Z",
     "iopub.status.busy": "2022-10-27T02:30:13.604296Z",
     "iopub.status.idle": "2022-10-27T02:30:13.743829Z",
     "shell.execute_reply": "2022-10-27T02:30:13.741270Z"
    },
    "papermill": {
     "duration": 0.176567,
     "end_time": "2022-10-27T02:30:13.748222",
     "exception": false,
     "start_time": "2022-10-27T02:30:13.571655",
     "status": "completed"
    },
    "scrolled": true,
    "tags": []
   },
   "outputs": [
    {
     "data": {
      "text/html": [
       "<div>\n",
       "<style scoped>\n",
       "    .dataframe tbody tr th:only-of-type {\n",
       "        vertical-align: middle;\n",
       "    }\n",
       "\n",
       "    .dataframe tbody tr th {\n",
       "        vertical-align: top;\n",
       "    }\n",
       "\n",
       "    .dataframe thead th {\n",
       "        text-align: right;\n",
       "    }\n",
       "</style>\n",
       "<table border=\"1\" class=\"dataframe\">\n",
       "  <thead>\n",
       "    <tr style=\"text-align: right;\">\n",
       "      <th></th>\n",
       "      <th>count</th>\n",
       "      <th>mean</th>\n",
       "      <th>std</th>\n",
       "      <th>min</th>\n",
       "      <th>25%</th>\n",
       "      <th>50%</th>\n",
       "      <th>75%</th>\n",
       "      <th>max</th>\n",
       "    </tr>\n",
       "  </thead>\n",
       "  <tbody>\n",
       "    <tr>\n",
       "      <th>GAD1</th>\n",
       "      <td>13464.0</td>\n",
       "      <td>0.860963</td>\n",
       "      <td>0.926542</td>\n",
       "      <td>0.0</td>\n",
       "      <td>0.0</td>\n",
       "      <td>1.0</td>\n",
       "      <td>1.0</td>\n",
       "      <td>3.0</td>\n",
       "    </tr>\n",
       "    <tr>\n",
       "      <th>GAD2</th>\n",
       "      <td>13464.0</td>\n",
       "      <td>0.673351</td>\n",
       "      <td>0.915724</td>\n",
       "      <td>0.0</td>\n",
       "      <td>0.0</td>\n",
       "      <td>0.0</td>\n",
       "      <td>1.0</td>\n",
       "      <td>3.0</td>\n",
       "    </tr>\n",
       "    <tr>\n",
       "      <th>GAD3</th>\n",
       "      <td>13464.0</td>\n",
       "      <td>0.965761</td>\n",
       "      <td>0.982776</td>\n",
       "      <td>0.0</td>\n",
       "      <td>0.0</td>\n",
       "      <td>1.0</td>\n",
       "      <td>2.0</td>\n",
       "      <td>3.0</td>\n",
       "    </tr>\n",
       "    <tr>\n",
       "      <th>GAD4</th>\n",
       "      <td>13464.0</td>\n",
       "      <td>0.724079</td>\n",
       "      <td>0.921971</td>\n",
       "      <td>0.0</td>\n",
       "      <td>0.0</td>\n",
       "      <td>0.0</td>\n",
       "      <td>1.0</td>\n",
       "      <td>3.0</td>\n",
       "    </tr>\n",
       "    <tr>\n",
       "      <th>GAD5</th>\n",
       "      <td>13464.0</td>\n",
       "      <td>0.488042</td>\n",
       "      <td>0.837014</td>\n",
       "      <td>0.0</td>\n",
       "      <td>0.0</td>\n",
       "      <td>0.0</td>\n",
       "      <td>1.0</td>\n",
       "      <td>3.0</td>\n",
       "    </tr>\n",
       "    <tr>\n",
       "      <th>GAD6</th>\n",
       "      <td>13464.0</td>\n",
       "      <td>0.911022</td>\n",
       "      <td>0.931168</td>\n",
       "      <td>0.0</td>\n",
       "      <td>0.0</td>\n",
       "      <td>1.0</td>\n",
       "      <td>1.0</td>\n",
       "      <td>3.0</td>\n",
       "    </tr>\n",
       "    <tr>\n",
       "      <th>GAD7</th>\n",
       "      <td>13464.0</td>\n",
       "      <td>0.588755</td>\n",
       "      <td>0.894408</td>\n",
       "      <td>0.0</td>\n",
       "      <td>0.0</td>\n",
       "      <td>0.0</td>\n",
       "      <td>1.0</td>\n",
       "      <td>3.0</td>\n",
       "    </tr>\n",
       "    <tr>\n",
       "      <th>SWL1</th>\n",
       "      <td>13464.0</td>\n",
       "      <td>3.720440</td>\n",
       "      <td>1.736264</td>\n",
       "      <td>1.0</td>\n",
       "      <td>2.0</td>\n",
       "      <td>4.0</td>\n",
       "      <td>5.0</td>\n",
       "      <td>7.0</td>\n",
       "    </tr>\n",
       "    <tr>\n",
       "      <th>SWL2</th>\n",
       "      <td>13464.0</td>\n",
       "      <td>4.602050</td>\n",
       "      <td>1.696276</td>\n",
       "      <td>1.0</td>\n",
       "      <td>3.0</td>\n",
       "      <td>5.0</td>\n",
       "      <td>6.0</td>\n",
       "      <td>7.0</td>\n",
       "    </tr>\n",
       "    <tr>\n",
       "      <th>SWL3</th>\n",
       "      <td>13464.0</td>\n",
       "      <td>4.345440</td>\n",
       "      <td>1.809430</td>\n",
       "      <td>1.0</td>\n",
       "      <td>3.0</td>\n",
       "      <td>5.0</td>\n",
       "      <td>6.0</td>\n",
       "      <td>7.0</td>\n",
       "    </tr>\n",
       "    <tr>\n",
       "      <th>SWL4</th>\n",
       "      <td>13464.0</td>\n",
       "      <td>3.762032</td>\n",
       "      <td>1.818136</td>\n",
       "      <td>1.0</td>\n",
       "      <td>2.0</td>\n",
       "      <td>4.0</td>\n",
       "      <td>5.0</td>\n",
       "      <td>7.0</td>\n",
       "    </tr>\n",
       "    <tr>\n",
       "      <th>SWL5</th>\n",
       "      <td>13464.0</td>\n",
       "      <td>3.358883</td>\n",
       "      <td>1.916319</td>\n",
       "      <td>1.0</td>\n",
       "      <td>2.0</td>\n",
       "      <td>3.0</td>\n",
       "      <td>5.0</td>\n",
       "      <td>7.0</td>\n",
       "    </tr>\n",
       "    <tr>\n",
       "      <th>Hours</th>\n",
       "      <td>13434.0</td>\n",
       "      <td>22.247357</td>\n",
       "      <td>70.284502</td>\n",
       "      <td>0.0</td>\n",
       "      <td>12.0</td>\n",
       "      <td>20.0</td>\n",
       "      <td>28.0</td>\n",
       "      <td>8000.0</td>\n",
       "    </tr>\n",
       "    <tr>\n",
       "      <th>highestleague</th>\n",
       "      <td>0.0</td>\n",
       "      <td>NaN</td>\n",
       "      <td>NaN</td>\n",
       "      <td>NaN</td>\n",
       "      <td>NaN</td>\n",
       "      <td>NaN</td>\n",
       "      <td>NaN</td>\n",
       "      <td>NaN</td>\n",
       "    </tr>\n",
       "    <tr>\n",
       "      <th>streams</th>\n",
       "      <td>13364.0</td>\n",
       "      <td>11.233538</td>\n",
       "      <td>78.549209</td>\n",
       "      <td>0.0</td>\n",
       "      <td>4.0</td>\n",
       "      <td>8.0</td>\n",
       "      <td>15.0</td>\n",
       "      <td>9001.0</td>\n",
       "    </tr>\n",
       "    <tr>\n",
       "      <th>SPIN1</th>\n",
       "      <td>13340.0</td>\n",
       "      <td>0.856897</td>\n",
       "      <td>0.907351</td>\n",
       "      <td>0.0</td>\n",
       "      <td>0.0</td>\n",
       "      <td>1.0</td>\n",
       "      <td>1.0</td>\n",
       "      <td>4.0</td>\n",
       "    </tr>\n",
       "    <tr>\n",
       "      <th>SPIN2</th>\n",
       "      <td>13310.0</td>\n",
       "      <td>1.210969</td>\n",
       "      <td>1.144054</td>\n",
       "      <td>0.0</td>\n",
       "      <td>0.0</td>\n",
       "      <td>1.0</td>\n",
       "      <td>2.0</td>\n",
       "      <td>4.0</td>\n",
       "    </tr>\n",
       "    <tr>\n",
       "      <th>SPIN3</th>\n",
       "      <td>13324.0</td>\n",
       "      <td>1.095392</td>\n",
       "      <td>1.164982</td>\n",
       "      <td>0.0</td>\n",
       "      <td>0.0</td>\n",
       "      <td>1.0</td>\n",
       "      <td>2.0</td>\n",
       "      <td>4.0</td>\n",
       "    </tr>\n",
       "    <tr>\n",
       "      <th>SPIN4</th>\n",
       "      <td>13305.0</td>\n",
       "      <td>1.682976</td>\n",
       "      <td>1.229730</td>\n",
       "      <td>0.0</td>\n",
       "      <td>1.0</td>\n",
       "      <td>2.0</td>\n",
       "      <td>3.0</td>\n",
       "      <td>4.0</td>\n",
       "    </tr>\n",
       "    <tr>\n",
       "      <th>SPIN5</th>\n",
       "      <td>13298.0</td>\n",
       "      <td>1.248985</td>\n",
       "      <td>1.221828</td>\n",
       "      <td>0.0</td>\n",
       "      <td>0.0</td>\n",
       "      <td>1.0</td>\n",
       "      <td>2.0</td>\n",
       "      <td>4.0</td>\n",
       "    </tr>\n",
       "    <tr>\n",
       "      <th>SPIN6</th>\n",
       "      <td>13308.0</td>\n",
       "      <td>1.348287</td>\n",
       "      <td>1.279251</td>\n",
       "      <td>0.0</td>\n",
       "      <td>0.0</td>\n",
       "      <td>1.0</td>\n",
       "      <td>2.0</td>\n",
       "      <td>4.0</td>\n",
       "    </tr>\n",
       "    <tr>\n",
       "      <th>SPIN7</th>\n",
       "      <td>13326.0</td>\n",
       "      <td>1.050503</td>\n",
       "      <td>1.221171</td>\n",
       "      <td>0.0</td>\n",
       "      <td>0.0</td>\n",
       "      <td>1.0</td>\n",
       "      <td>2.0</td>\n",
       "      <td>4.0</td>\n",
       "    </tr>\n",
       "    <tr>\n",
       "      <th>SPIN8</th>\n",
       "      <td>13320.0</td>\n",
       "      <td>1.405030</td>\n",
       "      <td>1.372777</td>\n",
       "      <td>0.0</td>\n",
       "      <td>0.0</td>\n",
       "      <td>1.0</td>\n",
       "      <td>2.0</td>\n",
       "      <td>4.0</td>\n",
       "    </tr>\n",
       "    <tr>\n",
       "      <th>SPIN9</th>\n",
       "      <td>13306.0</td>\n",
       "      <td>1.567338</td>\n",
       "      <td>1.383539</td>\n",
       "      <td>0.0</td>\n",
       "      <td>0.0</td>\n",
       "      <td>1.0</td>\n",
       "      <td>3.0</td>\n",
       "      <td>4.0</td>\n",
       "    </tr>\n",
       "    <tr>\n",
       "      <th>SPIN10</th>\n",
       "      <td>13304.0</td>\n",
       "      <td>0.917769</td>\n",
       "      <td>1.125849</td>\n",
       "      <td>0.0</td>\n",
       "      <td>0.0</td>\n",
       "      <td>1.0</td>\n",
       "      <td>1.0</td>\n",
       "      <td>4.0</td>\n",
       "    </tr>\n",
       "    <tr>\n",
       "      <th>SPIN11</th>\n",
       "      <td>13277.0</td>\n",
       "      <td>1.827446</td>\n",
       "      <td>1.488372</td>\n",
       "      <td>0.0</td>\n",
       "      <td>0.0</td>\n",
       "      <td>2.0</td>\n",
       "      <td>3.0</td>\n",
       "      <td>4.0</td>\n",
       "    </tr>\n",
       "    <tr>\n",
       "      <th>SPIN12</th>\n",
       "      <td>13296.0</td>\n",
       "      <td>0.892148</td>\n",
       "      <td>1.158235</td>\n",
       "      <td>0.0</td>\n",
       "      <td>0.0</td>\n",
       "      <td>0.0</td>\n",
       "      <td>1.0</td>\n",
       "      <td>4.0</td>\n",
       "    </tr>\n",
       "    <tr>\n",
       "      <th>SPIN13</th>\n",
       "      <td>13277.0</td>\n",
       "      <td>0.538827</td>\n",
       "      <td>0.944180</td>\n",
       "      <td>0.0</td>\n",
       "      <td>0.0</td>\n",
       "      <td>0.0</td>\n",
       "      <td>1.0</td>\n",
       "      <td>4.0</td>\n",
       "    </tr>\n",
       "    <tr>\n",
       "      <th>SPIN14</th>\n",
       "      <td>13308.0</td>\n",
       "      <td>1.252405</td>\n",
       "      <td>1.207463</td>\n",
       "      <td>0.0</td>\n",
       "      <td>0.0</td>\n",
       "      <td>1.0</td>\n",
       "      <td>2.0</td>\n",
       "      <td>4.0</td>\n",
       "    </tr>\n",
       "    <tr>\n",
       "      <th>SPIN15</th>\n",
       "      <td>13317.0</td>\n",
       "      <td>1.411054</td>\n",
       "      <td>1.349874</td>\n",
       "      <td>0.0</td>\n",
       "      <td>0.0</td>\n",
       "      <td>1.0</td>\n",
       "      <td>2.0</td>\n",
       "      <td>4.0</td>\n",
       "    </tr>\n",
       "    <tr>\n",
       "      <th>SPIN16</th>\n",
       "      <td>13317.0</td>\n",
       "      <td>0.620635</td>\n",
       "      <td>0.961853</td>\n",
       "      <td>0.0</td>\n",
       "      <td>0.0</td>\n",
       "      <td>0.0</td>\n",
       "      <td>1.0</td>\n",
       "      <td>4.0</td>\n",
       "    </tr>\n",
       "    <tr>\n",
       "      <th>SPIN17</th>\n",
       "      <td>13289.0</td>\n",
       "      <td>0.935962</td>\n",
       "      <td>1.180456</td>\n",
       "      <td>0.0</td>\n",
       "      <td>0.0</td>\n",
       "      <td>0.0</td>\n",
       "      <td>2.0</td>\n",
       "      <td>4.0</td>\n",
       "    </tr>\n",
       "    <tr>\n",
       "      <th>Narcissism</th>\n",
       "      <td>13441.0</td>\n",
       "      <td>2.027677</td>\n",
       "      <td>1.061842</td>\n",
       "      <td>1.0</td>\n",
       "      <td>1.0</td>\n",
       "      <td>2.0</td>\n",
       "      <td>3.0</td>\n",
       "      <td>5.0</td>\n",
       "    </tr>\n",
       "    <tr>\n",
       "      <th>Age</th>\n",
       "      <td>13464.0</td>\n",
       "      <td>20.930407</td>\n",
       "      <td>3.300897</td>\n",
       "      <td>18.0</td>\n",
       "      <td>18.0</td>\n",
       "      <td>20.0</td>\n",
       "      <td>22.0</td>\n",
       "      <td>63.0</td>\n",
       "    </tr>\n",
       "    <tr>\n",
       "      <th>GAD_T</th>\n",
       "      <td>13464.0</td>\n",
       "      <td>5.211973</td>\n",
       "      <td>4.713267</td>\n",
       "      <td>0.0</td>\n",
       "      <td>2.0</td>\n",
       "      <td>4.0</td>\n",
       "      <td>8.0</td>\n",
       "      <td>21.0</td>\n",
       "    </tr>\n",
       "    <tr>\n",
       "      <th>SWL_T</th>\n",
       "      <td>13464.0</td>\n",
       "      <td>19.788844</td>\n",
       "      <td>7.229243</td>\n",
       "      <td>5.0</td>\n",
       "      <td>14.0</td>\n",
       "      <td>20.0</td>\n",
       "      <td>26.0</td>\n",
       "      <td>35.0</td>\n",
       "    </tr>\n",
       "    <tr>\n",
       "      <th>SPIN_T</th>\n",
       "      <td>12814.0</td>\n",
       "      <td>19.848525</td>\n",
       "      <td>13.467493</td>\n",
       "      <td>0.0</td>\n",
       "      <td>9.0</td>\n",
       "      <td>17.0</td>\n",
       "      <td>28.0</td>\n",
       "      <td>68.0</td>\n",
       "    </tr>\n",
       "  </tbody>\n",
       "</table>\n",
       "</div>"
      ],
      "text/plain": [
       "                 count       mean        std   min   25%   50%   75%     max\n",
       "GAD1           13464.0   0.860963   0.926542   0.0   0.0   1.0   1.0     3.0\n",
       "GAD2           13464.0   0.673351   0.915724   0.0   0.0   0.0   1.0     3.0\n",
       "GAD3           13464.0   0.965761   0.982776   0.0   0.0   1.0   2.0     3.0\n",
       "GAD4           13464.0   0.724079   0.921971   0.0   0.0   0.0   1.0     3.0\n",
       "GAD5           13464.0   0.488042   0.837014   0.0   0.0   0.0   1.0     3.0\n",
       "GAD6           13464.0   0.911022   0.931168   0.0   0.0   1.0   1.0     3.0\n",
       "GAD7           13464.0   0.588755   0.894408   0.0   0.0   0.0   1.0     3.0\n",
       "SWL1           13464.0   3.720440   1.736264   1.0   2.0   4.0   5.0     7.0\n",
       "SWL2           13464.0   4.602050   1.696276   1.0   3.0   5.0   6.0     7.0\n",
       "SWL3           13464.0   4.345440   1.809430   1.0   3.0   5.0   6.0     7.0\n",
       "SWL4           13464.0   3.762032   1.818136   1.0   2.0   4.0   5.0     7.0\n",
       "SWL5           13464.0   3.358883   1.916319   1.0   2.0   3.0   5.0     7.0\n",
       "Hours          13434.0  22.247357  70.284502   0.0  12.0  20.0  28.0  8000.0\n",
       "highestleague      0.0        NaN        NaN   NaN   NaN   NaN   NaN     NaN\n",
       "streams        13364.0  11.233538  78.549209   0.0   4.0   8.0  15.0  9001.0\n",
       "SPIN1          13340.0   0.856897   0.907351   0.0   0.0   1.0   1.0     4.0\n",
       "SPIN2          13310.0   1.210969   1.144054   0.0   0.0   1.0   2.0     4.0\n",
       "SPIN3          13324.0   1.095392   1.164982   0.0   0.0   1.0   2.0     4.0\n",
       "SPIN4          13305.0   1.682976   1.229730   0.0   1.0   2.0   3.0     4.0\n",
       "SPIN5          13298.0   1.248985   1.221828   0.0   0.0   1.0   2.0     4.0\n",
       "SPIN6          13308.0   1.348287   1.279251   0.0   0.0   1.0   2.0     4.0\n",
       "SPIN7          13326.0   1.050503   1.221171   0.0   0.0   1.0   2.0     4.0\n",
       "SPIN8          13320.0   1.405030   1.372777   0.0   0.0   1.0   2.0     4.0\n",
       "SPIN9          13306.0   1.567338   1.383539   0.0   0.0   1.0   3.0     4.0\n",
       "SPIN10         13304.0   0.917769   1.125849   0.0   0.0   1.0   1.0     4.0\n",
       "SPIN11         13277.0   1.827446   1.488372   0.0   0.0   2.0   3.0     4.0\n",
       "SPIN12         13296.0   0.892148   1.158235   0.0   0.0   0.0   1.0     4.0\n",
       "SPIN13         13277.0   0.538827   0.944180   0.0   0.0   0.0   1.0     4.0\n",
       "SPIN14         13308.0   1.252405   1.207463   0.0   0.0   1.0   2.0     4.0\n",
       "SPIN15         13317.0   1.411054   1.349874   0.0   0.0   1.0   2.0     4.0\n",
       "SPIN16         13317.0   0.620635   0.961853   0.0   0.0   0.0   1.0     4.0\n",
       "SPIN17         13289.0   0.935962   1.180456   0.0   0.0   0.0   2.0     4.0\n",
       "Narcissism     13441.0   2.027677   1.061842   1.0   1.0   2.0   3.0     5.0\n",
       "Age            13464.0  20.930407   3.300897  18.0  18.0  20.0  22.0    63.0\n",
       "GAD_T          13464.0   5.211973   4.713267   0.0   2.0   4.0   8.0    21.0\n",
       "SWL_T          13464.0  19.788844   7.229243   5.0  14.0  20.0  26.0    35.0\n",
       "SPIN_T         12814.0  19.848525  13.467493   0.0   9.0  17.0  28.0    68.0"
      ]
     },
     "execution_count": 5,
     "metadata": {},
     "output_type": "execute_result"
    }
   ],
   "source": [
    "df.describe().T"
   ]
  },
  {
   "cell_type": "code",
   "execution_count": 6,
   "id": "d183a6e3",
   "metadata": {
    "execution": {
     "iopub.execute_input": "2022-10-27T02:30:13.839231Z",
     "iopub.status.busy": "2022-10-27T02:30:13.838321Z",
     "iopub.status.idle": "2022-10-27T02:30:13.848266Z",
     "shell.execute_reply": "2022-10-27T02:30:13.847132Z"
    },
    "papermill": {
     "duration": 0.054139,
     "end_time": "2022-10-27T02:30:13.850616",
     "exception": false,
     "start_time": "2022-10-27T02:30:13.796477",
     "status": "completed"
    },
    "scrolled": true,
    "tags": []
   },
   "outputs": [
    {
     "data": {
      "text/plain": [
       "GAD1                 int64\n",
       "GAD2                 int64\n",
       "GAD3                 int64\n",
       "GAD4                 int64\n",
       "GAD5                 int64\n",
       "GAD6                 int64\n",
       "GAD7                 int64\n",
       "GADE                object\n",
       "SWL1                 int64\n",
       "SWL2                 int64\n",
       "SWL3                 int64\n",
       "SWL4                 int64\n",
       "SWL5                 int64\n",
       "Game                object\n",
       "Platform            object\n",
       "Hours              float64\n",
       "earnings            object\n",
       "whyplay             object\n",
       "League              object\n",
       "highestleague      float64\n",
       "streams            float64\n",
       "SPIN1              float64\n",
       "SPIN2              float64\n",
       "SPIN3              float64\n",
       "SPIN4              float64\n",
       "SPIN5              float64\n",
       "SPIN6              float64\n",
       "SPIN7              float64\n",
       "SPIN8              float64\n",
       "SPIN9              float64\n",
       "SPIN10             float64\n",
       "SPIN11             float64\n",
       "SPIN12             float64\n",
       "SPIN13             float64\n",
       "SPIN14             float64\n",
       "SPIN15             float64\n",
       "SPIN16             float64\n",
       "SPIN17             float64\n",
       "Narcissism         float64\n",
       "Gender              object\n",
       "Age                  int64\n",
       "Work                object\n",
       "Degree              object\n",
       "Birthplace          object\n",
       "Residence           object\n",
       "Reference           object\n",
       "Playstyle           object\n",
       "accept              object\n",
       "GAD_T                int64\n",
       "SWL_T                int64\n",
       "SPIN_T             float64\n",
       "Residence_ISO3      object\n",
       "Birthplace_ISO3     object\n",
       "dtype: object"
      ]
     },
     "execution_count": 6,
     "metadata": {},
     "output_type": "execute_result"
    }
   ],
   "source": [
    "df.dtypes"
   ]
  },
  {
   "cell_type": "code",
   "execution_count": 7,
   "id": "a00e57cd",
   "metadata": {
    "execution": {
     "iopub.execute_input": "2022-10-27T02:30:13.916604Z",
     "iopub.status.busy": "2022-10-27T02:30:13.915926Z",
     "iopub.status.idle": "2022-10-27T02:30:13.946128Z",
     "shell.execute_reply": "2022-10-27T02:30:13.945182Z"
    },
    "papermill": {
     "duration": 0.066416,
     "end_time": "2022-10-27T02:30:13.949154",
     "exception": false,
     "start_time": "2022-10-27T02:30:13.882738",
     "status": "completed"
    },
    "scrolled": true,
    "tags": []
   },
   "outputs": [
    {
     "name": "stdout",
     "output_type": "stream",
     "text": [
      "<class 'pandas.core.frame.DataFrame'>\n",
      "RangeIndex: 13464 entries, 0 to 13463\n",
      "Data columns (total 53 columns):\n",
      "GAD1               13464 non-null int64\n",
      "GAD2               13464 non-null int64\n",
      "GAD3               13464 non-null int64\n",
      "GAD4               13464 non-null int64\n",
      "GAD5               13464 non-null int64\n",
      "GAD6               13464 non-null int64\n",
      "GAD7               13464 non-null int64\n",
      "GADE               12815 non-null object\n",
      "SWL1               13464 non-null int64\n",
      "SWL2               13464 non-null int64\n",
      "SWL3               13464 non-null int64\n",
      "SWL4               13464 non-null int64\n",
      "SWL5               13464 non-null int64\n",
      "Game               13464 non-null object\n",
      "Platform           13464 non-null object\n",
      "Hours              13434 non-null float64\n",
      "earnings           13464 non-null object\n",
      "whyplay            13464 non-null object\n",
      "League             11626 non-null object\n",
      "highestleague      0 non-null float64\n",
      "streams            13364 non-null float64\n",
      "SPIN1              13340 non-null float64\n",
      "SPIN2              13310 non-null float64\n",
      "SPIN3              13324 non-null float64\n",
      "SPIN4              13305 non-null float64\n",
      "SPIN5              13298 non-null float64\n",
      "SPIN6              13308 non-null float64\n",
      "SPIN7              13326 non-null float64\n",
      "SPIN8              13320 non-null float64\n",
      "SPIN9              13306 non-null float64\n",
      "SPIN10             13304 non-null float64\n",
      "SPIN11             13277 non-null float64\n",
      "SPIN12             13296 non-null float64\n",
      "SPIN13             13277 non-null float64\n",
      "SPIN14             13308 non-null float64\n",
      "SPIN15             13317 non-null float64\n",
      "SPIN16             13317 non-null float64\n",
      "SPIN17             13289 non-null float64\n",
      "Narcissism         13441 non-null float64\n",
      "Gender             13464 non-null object\n",
      "Age                13464 non-null int64\n",
      "Work               13426 non-null object\n",
      "Degree             13464 non-null object\n",
      "Birthplace         13464 non-null object\n",
      "Residence          13464 non-null object\n",
      "Reference          13449 non-null object\n",
      "Playstyle          13464 non-null object\n",
      "accept             13050 non-null object\n",
      "GAD_T              13464 non-null int64\n",
      "SWL_T              13464 non-null int64\n",
      "SPIN_T             12814 non-null float64\n",
      "Residence_ISO3     13354 non-null object\n",
      "Birthplace_ISO3    13343 non-null object\n",
      "dtypes: float64(22), int64(15), object(16)\n",
      "memory usage: 5.4+ MB\n"
     ]
    }
   ],
   "source": [
    "df.info()"
   ]
  },
  {
   "cell_type": "code",
   "execution_count": 8,
   "id": "4f5a7d03",
   "metadata": {
    "execution": {
     "iopub.execute_input": "2022-10-27T02:30:14.018875Z",
     "iopub.status.busy": "2022-10-27T02:30:14.017877Z",
     "iopub.status.idle": "2022-10-27T02:30:14.039834Z",
     "shell.execute_reply": "2022-10-27T02:30:14.038657Z"
    },
    "papermill": {
     "duration": 0.05991,
     "end_time": "2022-10-27T02:30:14.042316",
     "exception": false,
     "start_time": "2022-10-27T02:30:13.982406",
     "status": "completed"
    },
    "scrolled": true,
    "tags": []
   },
   "outputs": [
    {
     "data": {
      "text/plain": [
       "GAD1                   0\n",
       "GAD2                   0\n",
       "GAD3                   0\n",
       "GAD4                   0\n",
       "GAD5                   0\n",
       "GAD6                   0\n",
       "GAD7                   0\n",
       "GADE                 649\n",
       "SWL1                   0\n",
       "SWL2                   0\n",
       "SWL3                   0\n",
       "SWL4                   0\n",
       "SWL5                   0\n",
       "Game                   0\n",
       "Platform               0\n",
       "Hours                 30\n",
       "earnings               0\n",
       "whyplay                0\n",
       "League              1838\n",
       "highestleague      13464\n",
       "streams              100\n",
       "SPIN1                124\n",
       "SPIN2                154\n",
       "SPIN3                140\n",
       "SPIN4                159\n",
       "SPIN5                166\n",
       "SPIN6                156\n",
       "SPIN7                138\n",
       "SPIN8                144\n",
       "SPIN9                158\n",
       "SPIN10               160\n",
       "SPIN11               187\n",
       "SPIN12               168\n",
       "SPIN13               187\n",
       "SPIN14               156\n",
       "SPIN15               147\n",
       "SPIN16               147\n",
       "SPIN17               175\n",
       "Narcissism            23\n",
       "Gender                 0\n",
       "Age                    0\n",
       "Work                  38\n",
       "Degree                 0\n",
       "Birthplace             0\n",
       "Residence              0\n",
       "Reference             15\n",
       "Playstyle              0\n",
       "accept               414\n",
       "GAD_T                  0\n",
       "SWL_T                  0\n",
       "SPIN_T               650\n",
       "Residence_ISO3       110\n",
       "Birthplace_ISO3      121\n",
       "dtype: int64"
      ]
     },
     "execution_count": 8,
     "metadata": {},
     "output_type": "execute_result"
    }
   ],
   "source": [
    "df.isnull().sum()"
   ]
  },
  {
   "cell_type": "code",
   "execution_count": 9,
   "id": "df0f9706",
   "metadata": {
    "execution": {
     "iopub.execute_input": "2022-10-27T02:30:14.178149Z",
     "iopub.status.busy": "2022-10-27T02:30:14.177240Z",
     "iopub.status.idle": "2022-10-27T02:30:14.254119Z",
     "shell.execute_reply": "2022-10-27T02:30:14.253289Z"
    },
    "papermill": {
     "duration": 0.113556,
     "end_time": "2022-10-27T02:30:14.256595",
     "exception": false,
     "start_time": "2022-10-27T02:30:14.143039",
     "status": "completed"
    },
    "tags": []
   },
   "outputs": [
    {
     "name": "stdout",
     "output_type": "stream",
     "text": [
      "-------------\n",
      "0    5694\n",
      "1    5099\n",
      "2    1520\n",
      "3    1151\n",
      "Name: GAD1, dtype: int64\n",
      "-------------\n",
      "-------------\n",
      "0    7616\n",
      "1    3576\n",
      "2    1326\n",
      "3     946\n",
      "Name: GAD2, dtype: int64\n",
      "-------------\n",
      "-------------\n",
      "0    5319\n",
      "1    4708\n",
      "2    2016\n",
      "3    1421\n",
      "Name: GAD3, dtype: int64\n",
      "-------------\n",
      "-------------\n",
      "0    7129\n",
      "1    3884\n",
      "2    1488\n",
      "3     963\n",
      "Name: GAD4, dtype: int64\n",
      "-------------\n",
      "-------------\n",
      "0    9236\n",
      "1    2576\n",
      "2     961\n",
      "3     691\n",
      "Name: GAD5, dtype: int64\n",
      "-------------\n",
      "-------------\n",
      "0    5386\n",
      "1    4993\n",
      "2    1982\n",
      "3    1103\n",
      "Name: GAD6, dtype: int64\n",
      "-------------\n",
      "-------------\n",
      "0    8444\n",
      "1    2961\n",
      "2    1211\n",
      "3     848\n",
      "Name: GAD7, dtype: int64\n",
      "-------------\n",
      "-------------\n",
      "Not difficult at all    6236\n",
      "Somewhat difficult      5148\n",
      "Very difficult          1012\n",
      "Extremely difficult      419\n",
      "Name: GADE, dtype: int64\n",
      "-------------\n",
      "-------------\n",
      "2    3043\n",
      "5    2727\n",
      "6    2218\n",
      "3    2099\n",
      "4    1625\n",
      "1    1333\n",
      "7     419\n",
      "Name: SWL1, dtype: int64\n",
      "-------------\n",
      "-------------\n",
      "6    3715\n",
      "5    2869\n",
      "4    1724\n",
      "3    1660\n",
      "2    1447\n",
      "7    1418\n",
      "1     631\n",
      "Name: SWL2, dtype: int64\n",
      "-------------\n",
      "-------------\n",
      "6    3417\n",
      "5    2589\n",
      "3    1785\n",
      "2    1756\n",
      "4    1626\n",
      "7    1233\n",
      "1    1058\n",
      "Name: SWL3, dtype: int64\n",
      "-------------\n",
      "-------------\n",
      "2    2738\n",
      "5    2396\n",
      "6    2068\n",
      "3    1992\n",
      "4    1864\n",
      "1    1581\n",
      "7     825\n",
      "Name: SWL4, dtype: int64\n",
      "-------------\n",
      "-------------\n",
      "2    2878\n",
      "1    2740\n",
      "3    2316\n",
      "5    1690\n",
      "6    1557\n",
      "4    1331\n",
      "7     952\n",
      "Name: SWL5, dtype: int64\n",
      "-------------\n",
      "-------------\n",
      "League of Legends      11314\n",
      "Other                   1021\n",
      "Starcraft 2              345\n",
      "Counter Strike           318\n",
      "World of Warcraft        152\n",
      "Hearthstone              101\n",
      "Diablo 3                  89\n",
      "Heroes of the Storm       41\n",
      "Guild Wars 2              37\n",
      "Skyrim                    28\n",
      "Destiny                   18\n",
      "Name: Game, dtype: int64\n",
      "-------------\n",
      "-------------\n",
      "PC                         13219\n",
      "Console (PS, Xbox, ...)      222\n",
      "Smartphone / Tablet           23\n",
      "Name: Platform, dtype: int64\n",
      "-------------\n",
      "-------------\n",
      "20.0    2293\n",
      "10.0    1375\n",
      "30.0    1186\n",
      "15.0    1115\n",
      "25.0     831\n",
      "40.0     598\n",
      "14.0     549\n",
      "12.0     492\n",
      "35.0     468\n",
      "21.0     434\n",
      "8.0      386\n",
      "5.0      380\n",
      "18.0     322\n",
      "16.0     293\n",
      "50.0     289\n",
      "Name: Hours, dtype: int64\n",
      "-------------\n",
      "-------------\n",
      "I play for fun                                                                               12112\n",
      "I play mostly for fun but earn a little on the side (tournament winnings, streaming, etc)      990\n",
      "I earn a living by playing this game                                                            48\n",
      "I play to win                                                                                    3\n",
      "i try                                                                                            2\n",
      "for being better at the game                                                                     1\n",
      "I've won a few tournaments but I don't play those anymore                                        1\n",
      "I play for glory (and fun)                                                                       1\n",
      "Attempting to go pro                                                                             1\n",
      "Play for fun, but compete sometimes                                                              1\n",
      "Want to be a pro-player                                                                          1\n",
      "Timesink                                                                                         1\n",
      "I play because I have nothing else to do                                                         1\n",
      "I play this game for fun but have competitive background                                         1\n",
      "Trying to get to a point where I can earn money from playing.                                    1\n",
      "Name: earnings, dtype: int64\n",
      "-------------\n",
      "-------------\n",
      "having fun                      5289\n",
      "improving                       4927\n",
      "winning                         2091\n",
      "relaxing                         654\n",
      "All of the above                  26\n",
      "all of the above                  22\n",
      "Improving and having fun          10\n",
      "improving and having fun           8\n",
      "winning and improving              6\n",
      "having fun and improving           5\n",
      "Wasting time                       4\n",
      "distraction                        4\n",
      "relaxing and having fun            3\n",
      "All                                3\n",
      "both relaxing and having fun       3\n",
      "Name: whyplay, dtype: int64\n",
      "-------------\n",
      "-------------\n",
      "Gold         970\n",
      "Silver       650\n",
      "Platinum     635\n",
      "Diamond      549\n",
      "gold         316\n",
      "Unranked     264\n",
      "Diamond 5    217\n",
      "silver       212\n",
      "Gold V       205\n",
      "Gold 1       202\n",
      "Silver 1     197\n",
      "Gold 3       197\n",
      "Gold 5       194\n",
      "Silver 2     179\n",
      "Gold 2       171\n",
      "Name: League, dtype: int64\n",
      "-------------\n",
      "-------------\n",
      "Series([], Name: highestleague, dtype: int64)\n",
      "-------------\n",
      "-------------\n",
      "10.0    2181\n",
      "5.0     1670\n",
      "20.0    1182\n",
      "2.0      990\n",
      "15.0     953\n",
      "3.0      832\n",
      "0.0      826\n",
      "4.0      714\n",
      "8.0      576\n",
      "1.0      510\n",
      "6.0      505\n",
      "30.0     399\n",
      "7.0      325\n",
      "12.0     300\n",
      "25.0     242\n",
      "Name: streams, dtype: int64\n",
      "-------------\n",
      "-------------\n",
      "0.0    5677\n",
      "1.0    4665\n",
      "2.0    2363\n",
      "3.0     500\n",
      "4.0     135\n",
      "Name: SPIN1, dtype: int64\n",
      "-------------\n",
      "-------------\n",
      "0.0    4579\n",
      "1.0    3883\n",
      "2.0    2793\n",
      "3.0    1571\n",
      "4.0     484\n",
      "Name: SPIN2, dtype: int64\n",
      "-------------\n",
      "-------------\n",
      "0.0    5337\n",
      "1.0    3863\n",
      "2.0    2285\n",
      "3.0    1194\n",
      "4.0     645\n",
      "Name: SPIN3, dtype: int64\n",
      "-------------\n",
      "-------------\n",
      "1.0    3672\n",
      "2.0    3192\n",
      "0.0    2692\n",
      "3.0    2660\n",
      "4.0    1089\n",
      "Name: SPIN4, dtype: int64\n",
      "-------------\n",
      "-------------\n",
      "0.0    4677\n",
      "1.0    3853\n",
      "2.0    2333\n",
      "3.0    1650\n",
      "4.0     785\n",
      "Name: SPIN5, dtype: int64\n",
      "-------------\n",
      "-------------\n",
      "0.0    4463\n",
      "1.0    3659\n",
      "2.0    2277\n",
      "3.0    1906\n",
      "4.0    1003\n",
      "Name: SPIN6, dtype: int64\n",
      "-------------\n",
      "-------------\n",
      "0.0    6113\n",
      "1.0    3218\n",
      "2.0    1916\n",
      "3.0    1367\n",
      "4.0     712\n",
      "Name: SPIN7, dtype: int64\n",
      "-------------\n",
      "-------------\n",
      "0.0    4768\n",
      "1.0    3101\n",
      "2.0    2204\n",
      "3.0    1782\n",
      "4.0    1465\n",
      "Name: SPIN8, dtype: int64\n",
      "-------------\n",
      "-------------\n",
      "0.0    4009\n",
      "1.0    3158\n",
      "2.0    2393\n",
      "3.0    2073\n",
      "4.0    1673\n",
      "Name: SPIN9, dtype: int64\n",
      "-------------\n",
      "-------------\n",
      "0.0    6412\n",
      "1.0    3647\n",
      "2.0    1710\n",
      "3.0     997\n",
      "4.0     538\n",
      "Name: SPIN10, dtype: int64\n",
      "-------------\n",
      "-------------\n",
      "0.0    3574\n",
      "1.0    2730\n",
      "4.0    2596\n",
      "3.0    2395\n",
      "2.0    1982\n",
      "Name: SPIN11, dtype: int64\n",
      "-------------\n",
      "-------------\n",
      "0.0    6871\n",
      "1.0    3196\n",
      "2.0    1654\n",
      "3.0     942\n",
      "4.0     633\n",
      "Name: SPIN12, dtype: int64\n",
      "-------------\n",
      "-------------\n",
      "0.0    9146\n",
      "1.0    2096\n",
      "2.0    1304\n",
      "3.0     474\n",
      "4.0     257\n",
      "Name: SPIN13, dtype: int64\n",
      "-------------\n",
      "-------------\n",
      "0.0    4501\n",
      "1.0    4127\n",
      "2.0    2264\n",
      "3.0    1652\n",
      "4.0     764\n",
      "Name: SPIN14, dtype: int64\n",
      "-------------\n",
      "-------------\n",
      "0.0    4557\n",
      "1.0    3351\n",
      "2.0    2128\n",
      "3.0    1940\n",
      "4.0    1341\n",
      "Name: SPIN15, dtype: int64\n",
      "-------------\n",
      "-------------\n",
      "0.0    8281\n",
      "1.0    2911\n",
      "2.0    1280\n",
      "3.0     586\n",
      "4.0     259\n",
      "Name: SPIN16, dtype: int64\n",
      "-------------\n",
      "-------------\n",
      "0.0    6738\n",
      "1.0    3038\n",
      "2.0    1738\n",
      "3.0    1176\n",
      "4.0     599\n",
      "Name: SPIN17, dtype: int64\n",
      "-------------\n",
      "-------------\n",
      "1.0    5259\n",
      "2.0    4360\n",
      "3.0    2341\n",
      "4.0    1153\n",
      "5.0     328\n",
      "Name: Narcissism, dtype: int64\n",
      "-------------\n",
      "-------------\n",
      "Male      12699\n",
      "Female      713\n",
      "Other        52\n",
      "Name: Gender, dtype: int64\n",
      "-------------\n",
      "-------------\n",
      "18    3588\n",
      "19    2159\n",
      "20    1855\n",
      "21    1507\n",
      "22    1135\n",
      "23     872\n",
      "24     660\n",
      "25     514\n",
      "26     338\n",
      "27     231\n",
      "28     157\n",
      "29     119\n",
      "30      89\n",
      "31      58\n",
      "32      53\n",
      "Name: Age, dtype: int64\n",
      "-------------\n",
      "-------------\n",
      "Student at college / university    7073\n",
      "Employed                           2734\n",
      "Student at school                  2229\n",
      "Unemployed / between jobs          1390\n",
      "Name: Work, dtype: int64\n",
      "-------------\n",
      "-------------\n",
      "High school diploma (or equivalent)    8560\n",
      "Bachelor (or equivalent)               2687\n",
      "None                                   1577\n",
      "Master (or equivalent)                  546\n",
      "Ph.D., Psy. D., MD (or equivalent)       94\n",
      "Name: Degree, dtype: int64\n",
      "-------------\n",
      "-------------\n",
      "USA            4261\n",
      "Germany        1376\n",
      "UK              940\n",
      "Canada          842\n",
      "Netherlands     503\n",
      "France          411\n",
      "Sweden          364\n",
      "Poland          281\n",
      "Brazil          260\n",
      "Portugal        241\n",
      "Denmark         240\n",
      "Australia       232\n",
      "Spain           196\n",
      "Finland         195\n",
      "Norway          186\n",
      "Name: Birthplace, dtype: int64\n",
      "-------------\n",
      "-------------\n",
      "USA            4569\n",
      "Germany        1413\n",
      "UK             1032\n",
      "Canada          994\n",
      "Netherlands     506\n",
      "France          391\n",
      "Sweden          379\n",
      "Denmark         254\n",
      "Brazil          253\n",
      "Australia       245\n",
      "Poland          243\n",
      "Portugal        229\n",
      "Spain           203\n",
      "Norway          193\n",
      "Belgium         189\n",
      "Name: Residence, dtype: int64\n",
      "-------------\n",
      "-------------\n",
      "Reddit            13324\n",
      "Other                67\n",
      "TeamLiquid.net       55\n",
      "CrowdFlower           3\n",
      "Name: Reference, dtype: int64\n",
      "-------------\n",
      "-------------\n",
      "Multiplayer - online - with real life friends                                                   5564\n",
      "Multiplayer - online - with strangers                                                           4134\n",
      "Multiplayer - online - with online acquaintances or teammates                                   2652\n",
      "Singleplayer                                                                                     762\n",
      "Multiplayer - offline (people in the same room)                                                   48\n",
      "all of the above                                                                                   7\n",
      "All of the above                                                                                   6\n",
      "alone but on skype                                                                                 1\n",
      "Multiplayer-online - with real life friends and friends I've never met in person                   1\n",
      "All the above                                                                                      1\n",
      "Strangers and friends alike                                                                        1\n",
      "A mixture of all of them                                                                           1\n",
      "all of above                                                                                       1\n",
      "Multiplayer-online-with both friends and strangers equally                                         1\n",
      "Multiplayer - online - with strangers, real life friends, and online acquaintances/teammates       1\n",
      "Name: Playstyle, dtype: int64\n",
      "-------------\n",
      "-------------\n",
      "Accept    13050\n",
      "Name: accept, dtype: int64\n",
      "-------------\n",
      "-------------\n",
      "0     1669\n",
      "2     1618\n",
      "1     1485\n",
      "3     1455\n",
      "4     1219\n",
      "5     1024\n",
      "6      849\n",
      "7      720\n",
      "8      598\n",
      "9      475\n",
      "10     407\n",
      "11     367\n",
      "12     308\n",
      "13     292\n",
      "14     239\n",
      "Name: GAD_T, dtype: int64\n",
      "-------------\n",
      "-------------\n",
      "24    636\n",
      "20    607\n",
      "18    606\n",
      "22    600\n",
      "21    595\n",
      "15    590\n",
      "19    588\n",
      "23    587\n",
      "17    580\n",
      "16    576\n",
      "25    569\n",
      "26    568\n",
      "14    550\n",
      "27    540\n",
      "28    525\n",
      "Name: SWL_T, dtype: int64\n",
      "-------------\n",
      "-------------\n",
      "14.0    444\n",
      "11.0    443\n",
      "12.0    440\n",
      "7.0     426\n",
      "13.0    413\n",
      "8.0     409\n",
      "10.0    408\n",
      "9.0     401\n",
      "17.0    395\n",
      "15.0    388\n",
      "16.0    380\n",
      "5.0     357\n",
      "18.0    351\n",
      "19.0    351\n",
      "6.0     349\n",
      "Name: SPIN_T, dtype: int64\n",
      "-------------\n",
      "-------------\n",
      "USA    4569\n",
      "DEU    1413\n",
      "GBR    1032\n",
      "CAN     994\n",
      "NLD     506\n",
      "FRA     391\n",
      "SWE     379\n",
      "DNK     254\n",
      "BRA     253\n",
      "AUS     245\n",
      "POL     243\n",
      "PRT     229\n",
      "ESP     203\n",
      "NOR     193\n",
      "BEL     189\n",
      "Name: Residence_ISO3, dtype: int64\n",
      "-------------\n",
      "-------------\n",
      "USA    4261\n",
      "DEU    1376\n",
      "GBR     940\n",
      "CAN     842\n",
      "NLD     503\n",
      "FRA     411\n",
      "SWE     364\n",
      "POL     281\n",
      "BRA     260\n",
      "PRT     241\n",
      "DNK     240\n",
      "AUS     232\n",
      "ESP     196\n",
      "FIN     195\n",
      "NOR     186\n",
      "Name: Birthplace_ISO3, dtype: int64\n",
      "-------------\n"
     ]
    }
   ],
   "source": [
    "for i in df:\n",
    "    print('-------------')\n",
    "    print(df[i].value_counts().head(15))\n",
    "    print('-------------')"
   ]
  },
  {
   "cell_type": "code",
   "execution_count": 10,
   "id": "c0c164d3",
   "metadata": {
    "execution": {
     "iopub.execute_input": "2022-10-27T02:30:14.331385Z",
     "iopub.status.busy": "2022-10-27T02:30:14.330953Z",
     "iopub.status.idle": "2022-10-27T02:30:14.372792Z",
     "shell.execute_reply": "2022-10-27T02:30:14.371402Z"
    },
    "papermill": {
     "duration": 0.082756,
     "end_time": "2022-10-27T02:30:14.376988",
     "exception": false,
     "start_time": "2022-10-27T02:30:14.294232",
     "status": "completed"
    },
    "tags": []
   },
   "outputs": [
    {
     "name": "stdout",
     "output_type": "stream",
     "text": [
      "------ GAD1 ------\n",
      "[0 1 2 3]\n",
      "-------------\n",
      "------ GAD2 ------\n",
      "[0 2 1 3]\n",
      "-------------\n",
      "------ GAD3 ------\n",
      "[0 2 3 1]\n",
      "-------------\n",
      "------ GAD4 ------\n",
      "[0 2 3 1]\n",
      "-------------\n",
      "------ GAD5 ------\n",
      "[1 0 2 3]\n",
      "-------------\n",
      "------ GAD6 ------\n",
      "[0 1 3 2]\n",
      "-------------\n",
      "------ GAD7 ------\n",
      "[0 1 2 3]\n",
      "-------------\n",
      "------ GADE ------\n",
      "['Not difficult at all' 'Somewhat difficult' 'Very difficult' nan\n",
      " 'Extremely difficult']\n",
      "-------------\n",
      "------ SWL1 ------\n",
      "[3 2 5 7 6 1 4]\n",
      "-------------\n",
      "------ SWL2 ------\n",
      "[5 6 2 4 3 7 1]\n",
      "-------------\n",
      "------ SWL3 ------\n",
      "[5 2 4 3 6 7 1]\n",
      "-------------\n",
      "------ SWL4 ------\n",
      "[5 2 3 6 1 7 4]\n",
      "-------------\n",
      "------ SWL5 ------\n",
      "[5 1 2 3 7 6 4]\n",
      "-------------\n",
      "------ Game ------\n",
      "['Skyrim' 'Other' 'World of Warcraft' 'League of Legends' 'Starcraft 2'\n",
      " 'Counter Strike' 'Destiny' 'Diablo 3' 'Heroes of the Storm' 'Hearthstone'\n",
      " 'Guild Wars 2']\n",
      "-------------\n",
      "------ Platform ------\n",
      "['Console (PS, Xbox, ...)' 'PC' 'Smartphone / Tablet']\n",
      "-------------\n",
      "------ Hours ------\n",
      "[15.  8.  0. 20.  4. 30. 25.  2. 14. 10.  6.  7. 60. 21.  5. 40.  9. 18.\n",
      " 12. nan 11.  1. 45. 16. 50. 28. 42. 80. 17. 13.]\n",
      "-------------\n",
      "------ earnings ------\n",
      "['I play for fun'\n",
      " 'I play mostly for fun but earn a little on the side (tournament winnings, streaming, etc)'\n",
      " 'for fun and to get better'\n",
      " 'I intend to do both if I become good enough at some point.'\n",
      " 'for fun and improvement'\n",
      " 'i play for fun atm, but i pretend to earn a little by streaming.'\n",
      " 'I earn a living by playing this game' 'Escapism'\n",
      " 'I play to try and get to the point of making money.'\n",
      " 'I play to escape life' 'Want to be a shoutcaster'\n",
      " 'I play to forget about real life' 'Play for fun and to get better at it'\n",
      " 'I play for the competitive aspect'\n",
      " 'play for fun, would like to earn money for it'\n",
      " 'wants money but dont get it.'\n",
      " 'I play with unrealistic dreams of making money' 'Eloboosting.'\n",
      " \"I think I might be addicted in the way that I think playing will be fun, but when I play I realize it's not.\"\n",
      " \"I love it. I play for fun, but League is so much more than just the fun of playing it. The community, Reddit, LCS, everything. It's just so big and beautiful.\"\n",
      " 'boosting idiots because they suck and i can make living from it.'\n",
      " 'Eloboosting service, Yes' 'want to play for money'\n",
      " 'I play for the competitive edge. I enjoy competition.'\n",
      " \"I fucking hate this game so much, I only play it because its the only game I'm good at, and my friends play.\"\n",
      " 'I play as a part in socializing with friends far away'\n",
      " 'I play to suppress memories/feelings'\n",
      " 'I play for fun hoping to one day make money from it' 'Boredom'\n",
      " \"I'm trying to get money for playing it\"]\n",
      "-------------\n",
      "------ whyplay ------\n",
      "['having fun' 'improving' 'relaxing' 'winning' 'improving, having fun'\n",
      " 'All'\n",
      " \"I play it as I watch TV or movies.  I've gone through many a Netflix binge with Isaac.\"\n",
      " 'Reaching goal i.e. GM '\n",
      " 'Improving AND having fun (kinda wish I could pick more than one)'\n",
      " 'all of the above' 'passing the time' 'having fun and improving'\n",
      " 'Forgetting troubles' 'All of them' 'Being with friends'\n",
      " 'getting good loot' 'have fun and win' 'Winning 55% improving 45%'\n",
      " 'Wasting time' 'talking to irl friends'\n",
      " 'Forgetting about my drug addiction'\n",
      " 'Having fun and improving at the same time' 'Improving and having fun.'\n",
      " 'improving while having fun' 'All of the above!' 'socializing'\n",
      " 'all above' 'playing well' 'winning + having fun' 'having a distraction']\n",
      "-------------\n",
      "------ League ------\n",
      "[nan '-' 'Gold' 'none' 'na' 'Diamond/Master' 'Not Applicable.' 'Bronze'\n",
      " 'None' 'Silver 4' 'N/a' 'Gold Nova' 'Unranked - Low ELO' 'Not applicable'\n",
      " '0' 'Silver 2' 'not applicable' \"I don't know what that means\" '/' 'bad'\n",
      " '_' 'Legendary Eagle at CS, no league yet at LoL' 'Global top 0.5%'\n",
      " 'Bronze 5' 'potato' 'diamond' 'Diamond' 'Master' 'SilverII' 'Platinum 3']\n",
      "-------------\n",
      "------ highestleague ------\n",
      "[nan]\n",
      "-------------\n",
      "------ streams ------\n",
      "[ 0.  2.  5.  1.  8. 10.  4.  3. 20. 35. 18.  6. 25. 15. 50. 14. 40. 30.\n",
      " 16. nan 12.  7. 80. 90.  9. 11. 41. 21. 42. 29.]\n",
      "-------------\n",
      "------ SPIN1 ------\n",
      "[ 1.  2.  0.  3.  4. nan]\n",
      "-------------\n",
      "------ SPIN2 ------\n",
      "[ 0.  1.  2.  3.  4. nan]\n",
      "-------------\n",
      "------ SPIN3 ------\n",
      "[ 0.  1.  2.  4.  3. nan]\n",
      "-------------\n",
      "------ SPIN4 ------\n",
      "[ 1.  3.  2.  0.  4. nan]\n",
      "-------------\n",
      "------ SPIN5 ------\n",
      "[ 0.  2.  3.  1.  4. nan]\n",
      "-------------\n",
      "------ SPIN6 ------\n",
      "[ 0.  3.  4.  1.  2. nan]\n",
      "-------------\n",
      "------ SPIN7 ------\n",
      "[ 1.  2.  0.  4.  3. nan]\n",
      "-------------\n",
      "------ SPIN8 ------\n",
      "[ 0.  3.  1.  4.  2. nan]\n",
      "-------------\n",
      "------ SPIN9 ------\n",
      "[ 0.  4.  2.  3.  1. nan]\n",
      "-------------\n",
      "------ SPIN10 ------\n",
      "[ 0.  1.  3.  2.  4. nan]\n",
      "-------------\n",
      "------ SPIN11 ------\n",
      "[ 0.  3.  1.  4.  2. nan]\n",
      "-------------\n",
      "------ SPIN12 ------\n",
      "[ 0.  3.  1.  4.  2. nan]\n",
      "-------------\n",
      "------ SPIN13 ------\n",
      "[ 0.  1. nan  2.  3.  4.]\n",
      "-------------\n",
      "------ SPIN14 ------\n",
      "[ 1.  3.  2.  0.  4. nan]\n",
      "-------------\n",
      "------ SPIN15 ------\n",
      "[ 0.  3.  4.  1.  2. nan]\n",
      "-------------\n",
      "------ SPIN16 ------\n",
      "[ 1.  4.  0.  3.  2. nan]\n",
      "-------------\n",
      "------ SPIN17 ------\n",
      "[ 0.  2.  1.  3.  4. nan]\n",
      "-------------\n",
      "------ Narcissism ------\n",
      "[ 1.  4.  2.  5.  3. nan]\n",
      "-------------\n",
      "------ Gender ------\n",
      "['Male' 'Female' 'Other']\n",
      "-------------\n",
      "------ Age ------\n",
      "[25 41 32 28 19 24 29 23 27 21 18 35 30 22 20 33 26 36 40 34 50 39 31 63\n",
      " 38 37 42 49 44 56]\n",
      "-------------\n",
      "------ Work ------\n",
      "['Unemployed / between jobs' 'Employed' 'Student at college / university'\n",
      " 'Student at school' nan]\n",
      "-------------\n",
      "------ Degree ------\n",
      "['Bachelor\\xa0(or equivalent)' 'High school diploma (or equivalent)'\n",
      " 'Ph.D., Psy. D., MD (or equivalent)' 'Master\\xa0(or equivalent)' 'None']\n",
      "-------------\n",
      "------ Birthplace ------\n",
      "['USA' 'Germany' 'Finland' 'Canada' 'Australia' 'UK'\n",
      " 'Bosnia and Herzegovina' 'South Korea' 'Romania' 'Sweden' 'Greece'\n",
      " 'Ireland' 'Switzerland' 'Turkey' 'Bulgaria' 'Belgium' 'Latvia' 'Austria'\n",
      " 'South Africa' 'Croatia' 'India' 'Netherlands' 'Denmark' 'Portugal'\n",
      " 'France' 'Argentina' 'Colombia' 'Estonia' 'Russia' 'Slovakia']\n",
      "-------------\n",
      "------ Residence ------\n",
      "['USA' 'Germany' 'South Korea' 'Japan' 'Finland' 'Canada' 'Australia' 'UK'\n",
      " 'Bosnia and Herzegovina' 'Ireland' 'Malaysia' 'Romania' 'Sweden' 'Greece'\n",
      " 'Turkey' 'Belgium' 'Latvia' 'Austria' 'South Africa' 'Croatia'\n",
      " 'Switzerland' 'India' 'Netherlands' 'Denmark' 'Portugal' 'France'\n",
      " 'Argentina' 'Estonia' 'Russia' 'Czech Republic']\n",
      "-------------\n",
      "------ Reference ------\n",
      "['Reddit' 'Other' 'TeamLiquid.net' 'CrowdFlower' nan]\n",
      "-------------\n",
      "------ Playstyle ------\n",
      "['Singleplayer' 'Multiplayer - online - with strangers'\n",
      " 'Multiplayer - online - with online acquaintances or teammates'\n",
      " 'Multiplayer - online - with real life friends'\n",
      " 'Multiplayer - offline (people in the same room)' 'all of the above'\n",
      " 'Multiplayer - Online - With real friends, and with online acquaintances, and strangers'\n",
      " 'With strangers and friends' 'Singleplayer - online' 'watching'\n",
      " ' Multiplayer - online - with online acquaintances or teammates and with real life friends'\n",
      " 'Multiplayer - online with friends, teammates and strangers'\n",
      " 'Sometimes alone (Ranked), sometimes with friends. Everytime there are strangers in my game ofc'\n",
      " 'Multiplayer online, with friends (sometimes in the same room), sometimes with strangers.'\n",
      " 'I prefer playing with RLF but I also play it to make a living.'\n",
      " 'Multiplayer - online - with strangers or real life friends'\n",
      " 'Multiplayer - online with online team mates and real life friends'\n",
      " 'Mutliplayer - A mix of friends/strangers.'\n",
      " 'Multiplayer - online - with real life friends and strangers'\n",
      " 'Play solo but in skype call with friends'\n",
      " 'mix of real life friends and online acquaintances'\n",
      " 'A combination of all of the aboive'\n",
      " 'With real life friends against strangers' \"It's really a bit of all\"\n",
      " 'multiplayer online with online friends' 'With friends and strangers.'\n",
      " 'multiplayer - online with real life friends + stragners'\n",
      " 'sometimes with friends, sometimes with strangers :)'\n",
      " 'Multiplayer with online friends and real life friends'\n",
      " 'Multilayer - online - with real life friends and online friends as well as with strangers']\n",
      "-------------\n",
      "------ accept ------\n",
      "['Accept' nan]\n",
      "-------------\n",
      "------ GAD_T ------\n",
      "[ 1  8  0 14 12 10 19  3  2  4 15  5  6  7 13 11  9 18 16 21 17 20]\n",
      "-------------\n",
      "------ SWL_T ------\n",
      "[23 16 17 14 12 13 27 33 31 26 28 15 19  6  9 35  8  7 24 25 21 11 22 20\n",
      " 10 30 29 18  5 34]\n",
      "-------------\n",
      "------ SPIN_T ------\n",
      "[ 5. 33. 31. 11. 13. 26. nan 55.  6.  3. 23. 29. 30. 36.  8. 37.  0. 47.\n",
      " 20. 39. 15. 12. 14. 46. 60. 41. 24.  9.  1. 17.]\n",
      "-------------\n",
      "------ Residence_ISO3 ------\n",
      "['USA' 'DEU' 'KOR' 'JPN' 'FIN' 'CAN' 'AUS' 'GBR' 'BIH' 'IRL' 'MYS' 'ROU'\n",
      " 'SWE' 'GRC' 'TUR' 'BEL' 'LVA' 'AUT' 'ZAF' 'HRV' 'CHE' 'IND' 'NLD' 'DNK'\n",
      " 'PRT' 'FRA' 'ARG' 'EST' 'RUS' 'CZE']\n",
      "-------------\n",
      "------ Birthplace_ISO3 ------\n",
      "['USA' 'DEU' 'FIN' 'CAN' 'AUS' 'GBR' 'BIH' 'KOR' 'ROU' 'SWE' 'GRC' 'IRL'\n",
      " 'CHE' 'TUR' 'BGR' 'BEL' 'LVA' 'AUT' 'ZAF' 'HRV' 'IND' 'NLD' 'DNK' 'PRT'\n",
      " 'FRA' 'ARG' 'COL' 'EST' 'RUS' 'SVK']\n",
      "-------------\n"
     ]
    }
   ],
   "source": [
    "for i in df:\n",
    "    print('------',i,'------')\n",
    "    print(df[i].unique()[:30])\n",
    "    print('-------------')"
   ]
  },
  {
   "cell_type": "code",
   "execution_count": 11,
   "id": "835974ec",
   "metadata": {
    "execution": {
     "iopub.execute_input": "2022-10-27T02:30:14.452340Z",
     "iopub.status.busy": "2022-10-27T02:30:14.451943Z",
     "iopub.status.idle": "2022-10-27T02:30:14.484365Z",
     "shell.execute_reply": "2022-10-27T02:30:14.482963Z"
    },
    "papermill": {
     "duration": 0.073456,
     "end_time": "2022-10-27T02:30:14.487376",
     "exception": false,
     "start_time": "2022-10-27T02:30:14.413920",
     "status": "completed"
    },
    "tags": []
   },
   "outputs": [
    {
     "name": "stdout",
     "output_type": "stream",
     "text": [
      "------ GAD1 ------\n",
      "4\n",
      "-------------\n",
      "------ GAD2 ------\n",
      "4\n",
      "-------------\n",
      "------ GAD3 ------\n",
      "4\n",
      "-------------\n",
      "------ GAD4 ------\n",
      "4\n",
      "-------------\n",
      "------ GAD5 ------\n",
      "4\n",
      "-------------\n",
      "------ GAD6 ------\n",
      "4\n",
      "-------------\n",
      "------ GAD7 ------\n",
      "4\n",
      "-------------\n",
      "------ GADE ------\n",
      "4\n",
      "-------------\n",
      "------ SWL1 ------\n",
      "7\n",
      "-------------\n",
      "------ SWL2 ------\n",
      "7\n",
      "-------------\n",
      "------ SWL3 ------\n",
      "7\n",
      "-------------\n",
      "------ SWL4 ------\n",
      "7\n",
      "-------------\n",
      "------ SWL5 ------\n",
      "7\n",
      "-------------\n",
      "------ Game ------\n",
      "11\n",
      "-------------\n",
      "------ Platform ------\n",
      "3\n",
      "-------------\n",
      "------ Hours ------\n",
      "84\n",
      "-------------\n",
      "------ earnings ------\n",
      "314\n",
      "-------------\n",
      "------ whyplay ------\n",
      "407\n",
      "-------------\n",
      "------ League ------\n",
      "1455\n",
      "-------------\n",
      "------ highestleague ------\n",
      "0\n",
      "-------------\n",
      "------ streams ------\n",
      "65\n",
      "-------------\n",
      "------ SPIN1 ------\n",
      "5\n",
      "-------------\n",
      "------ SPIN2 ------\n",
      "5\n",
      "-------------\n",
      "------ SPIN3 ------\n",
      "5\n",
      "-------------\n",
      "------ SPIN4 ------\n",
      "5\n",
      "-------------\n",
      "------ SPIN5 ------\n",
      "5\n",
      "-------------\n",
      "------ SPIN6 ------\n",
      "5\n",
      "-------------\n",
      "------ SPIN7 ------\n",
      "5\n",
      "-------------\n",
      "------ SPIN8 ------\n",
      "5\n",
      "-------------\n",
      "------ SPIN9 ------\n",
      "5\n",
      "-------------\n",
      "------ SPIN10 ------\n",
      "5\n",
      "-------------\n",
      "------ SPIN11 ------\n",
      "5\n",
      "-------------\n",
      "------ SPIN12 ------\n",
      "5\n",
      "-------------\n",
      "------ SPIN13 ------\n",
      "5\n",
      "-------------\n",
      "------ SPIN14 ------\n",
      "5\n",
      "-------------\n",
      "------ SPIN15 ------\n",
      "5\n",
      "-------------\n",
      "------ SPIN16 ------\n",
      "5\n",
      "-------------\n",
      "------ SPIN17 ------\n",
      "5\n",
      "-------------\n",
      "------ Narcissism ------\n",
      "5\n",
      "-------------\n",
      "------ Gender ------\n",
      "3\n",
      "-------------\n",
      "------ Age ------\n",
      "30\n",
      "-------------\n",
      "------ Work ------\n",
      "4\n",
      "-------------\n",
      "------ Degree ------\n",
      "5\n",
      "-------------\n",
      "------ Birthplace ------\n",
      "126\n",
      "-------------\n",
      "------ Residence ------\n",
      "109\n",
      "-------------\n",
      "------ Reference ------\n",
      "4\n",
      "-------------\n",
      "------ Playstyle ------\n",
      "298\n",
      "-------------\n",
      "------ accept ------\n",
      "1\n",
      "-------------\n",
      "------ GAD_T ------\n",
      "22\n",
      "-------------\n",
      "------ SWL_T ------\n",
      "31\n",
      "-------------\n",
      "------ SPIN_T ------\n",
      "69\n",
      "-------------\n",
      "------ Residence_ISO3 ------\n",
      "107\n",
      "-------------\n",
      "------ Birthplace_ISO3 ------\n",
      "124\n",
      "-------------\n"
     ]
    }
   ],
   "source": [
    "for i in df:\n",
    "    print('------',i,'------')\n",
    "    print(df[i].nunique())\n",
    "    print('-------------')"
   ]
  },
  {
   "cell_type": "code",
   "execution_count": 12,
   "id": "4f730a76",
   "metadata": {
    "execution": {
     "iopub.execute_input": "2022-10-27T02:30:14.634613Z",
     "iopub.status.busy": "2022-10-27T02:30:14.634198Z",
     "iopub.status.idle": "2022-10-27T02:30:14.641697Z",
     "shell.execute_reply": "2022-10-27T02:30:14.640481Z"
    },
    "papermill": {
     "duration": 0.046695,
     "end_time": "2022-10-27T02:30:14.643877",
     "exception": false,
     "start_time": "2022-10-27T02:30:14.597182",
     "status": "completed"
    },
    "tags": []
   },
   "outputs": [
    {
     "data": {
      "text/plain": [
       "(13464, 53)"
      ]
     },
     "execution_count": 12,
     "metadata": {},
     "output_type": "execute_result"
    }
   ],
   "source": [
    "df.shape"
   ]
  },
  {
   "cell_type": "code",
   "execution_count": 13,
   "id": "53f92cca",
   "metadata": {
    "execution": {
     "iopub.execute_input": "2022-10-27T02:30:14.715028Z",
     "iopub.status.busy": "2022-10-27T02:30:14.714540Z",
     "iopub.status.idle": "2022-10-27T02:30:14.737447Z",
     "shell.execute_reply": "2022-10-27T02:30:14.736184Z"
    },
    "papermill": {
     "duration": 0.061602,
     "end_time": "2022-10-27T02:30:14.740383",
     "exception": false,
     "start_time": "2022-10-27T02:30:14.678781",
     "status": "completed"
    },
    "tags": []
   },
   "outputs": [],
   "source": [
    "df['Hours_streams'] = df['Hours'] + df['streams']\n",
    "df.drop(  ((df[df['Hours_streams'] > 115].index) | (df[df['Hours_streams']==0].index)),\n",
    "                                             axis=0,inplace=True)"
   ]
  },
  {
   "cell_type": "code",
   "execution_count": 14,
   "id": "e2df7966",
   "metadata": {
    "execution": {
     "iopub.execute_input": "2022-10-27T02:30:14.813072Z",
     "iopub.status.busy": "2022-10-27T02:30:14.811841Z",
     "iopub.status.idle": "2022-10-27T02:30:14.826231Z",
     "shell.execute_reply": "2022-10-27T02:30:14.825042Z"
    },
    "papermill": {
     "duration": 0.05319,
     "end_time": "2022-10-27T02:30:14.828694",
     "exception": false,
     "start_time": "2022-10-27T02:30:14.775504",
     "status": "completed"
    },
    "tags": []
   },
   "outputs": [
    {
     "data": {
      "text/plain": [
       "30.0     961\n",
       "25.0     763\n",
       "40.0     732\n",
       "35.0     689\n",
       "20.0     662\n",
       "22.0     443\n",
       "15.0     427\n",
       "50.0     415\n",
       "45.0     397\n",
       "28.0     358\n",
       "18.0     328\n",
       "60.0     306\n",
       "24.0     298\n",
       "23.0     280\n",
       "17.0     278\n",
       "26.0     272\n",
       "32.0     251\n",
       "16.0     250\n",
       "21.0     246\n",
       "12.0     246\n",
       "10.0     245\n",
       "55.0     225\n",
       "13.0     218\n",
       "14.0     212\n",
       "27.0     207\n",
       "19.0     184\n",
       "38.0     182\n",
       "33.0     166\n",
       "34.0     166\n",
       "70.0     163\n",
       "36.0     156\n",
       "11.0     155\n",
       "31.0     153\n",
       "42.0     143\n",
       "8.0      121\n",
       "37.0     111\n",
       "29.0     109\n",
       "80.0     107\n",
       "65.0     101\n",
       "7.0       98\n",
       "9.0       94\n",
       "43.0      90\n",
       "41.0      84\n",
       "44.0      78\n",
       "6.0       73\n",
       "47.0      61\n",
       "48.0      59\n",
       "5.0       59\n",
       "39.0      56\n",
       "46.0      53\n",
       "52.0      52\n",
       "75.0      46\n",
       "90.0      42\n",
       "56.0      39\n",
       "53.0      36\n",
       "49.0      36\n",
       "4.0       35\n",
       "51.0      34\n",
       "54.0      31\n",
       "58.0      28\n",
       "100.0     24\n",
       "57.0      22\n",
       "63.0      21\n",
       "62.0      20\n",
       "85.0      19\n",
       "3.0       18\n",
       "64.0      17\n",
       "110.0     17\n",
       "68.0      14\n",
       "76.0      13\n",
       "59.0      12\n",
       "66.0      11\n",
       "95.0      10\n",
       "84.0      10\n",
       "74.0      10\n",
       "105.0     10\n",
       "72.0      10\n",
       "61.0      10\n",
       "98.0       8\n",
       "2.0        8\n",
       "78.0       7\n",
       "71.0       7\n",
       "77.0       7\n",
       "92.0       6\n",
       "73.0       6\n",
       "69.0       6\n",
       "82.0       6\n",
       "67.0       5\n",
       "104.0      5\n",
       "83.0       4\n",
       "115.0      4\n",
       "1.0        4\n",
       "96.0       4\n",
       "86.0       3\n",
       "79.0       3\n",
       "102.0      3\n",
       "89.0       2\n",
       "88.0       2\n",
       "112.0      2\n",
       "101.0      2\n",
       "106.0      2\n",
       "87.0       1\n",
       "81.0       1\n",
       "109.0      1\n",
       "94.0       1\n",
       "114.0      1\n",
       "99.0       1\n",
       "93.0       1\n",
       "Name: Hours_streams, dtype: int64"
      ]
     },
     "execution_count": 14,
     "metadata": {},
     "output_type": "execute_result"
    }
   ],
   "source": [
    "df['Hours_streams'].value_counts()"
   ]
  },
  {
   "cell_type": "code",
   "execution_count": 15,
   "id": "0df0a58e",
   "metadata": {
    "execution": {
     "iopub.execute_input": "2022-10-27T02:30:14.900045Z",
     "iopub.status.busy": "2022-10-27T02:30:14.898917Z",
     "iopub.status.idle": "2022-10-27T02:30:14.909164Z",
     "shell.execute_reply": "2022-10-27T02:30:14.907793Z"
    },
    "papermill": {
     "duration": 0.047789,
     "end_time": "2022-10-27T02:30:14.911228",
     "exception": false,
     "start_time": "2022-10-27T02:30:14.863439",
     "status": "completed"
    },
    "tags": []
   },
   "outputs": [
    {
     "data": {
      "text/plain": [
       "Not difficult at all    6218\n",
       "Somewhat difficult      5132\n",
       "Very difficult          1004\n",
       "Extremely difficult      409\n",
       "Name: GADE, dtype: int64"
      ]
     },
     "execution_count": 15,
     "metadata": {},
     "output_type": "execute_result"
    }
   ],
   "source": [
    "df.GADE.value_counts()"
   ]
  },
  {
   "cell_type": "code",
   "execution_count": 16,
   "id": "5d70f72f",
   "metadata": {
    "execution": {
     "iopub.execute_input": "2022-10-27T02:30:14.981448Z",
     "iopub.status.busy": "2022-10-27T02:30:14.980812Z",
     "iopub.status.idle": "2022-10-27T02:30:14.989208Z",
     "shell.execute_reply": "2022-10-27T02:30:14.988024Z"
    },
    "papermill": {
     "duration": 0.046387,
     "end_time": "2022-10-27T02:30:14.991694",
     "exception": false,
     "start_time": "2022-10-27T02:30:14.945307",
     "status": "completed"
    },
    "tags": []
   },
   "outputs": [],
   "source": [
    "df.GADE.fillna(df.GADE.value_counts().index[1] , inplace=True) #1"
   ]
  },
  {
   "cell_type": "code",
   "execution_count": 17,
   "id": "8123cabc",
   "metadata": {
    "execution": {
     "iopub.execute_input": "2022-10-27T02:30:15.066785Z",
     "iopub.status.busy": "2022-10-27T02:30:15.066319Z",
     "iopub.status.idle": "2022-10-27T02:30:15.075796Z",
     "shell.execute_reply": "2022-10-27T02:30:15.074636Z"
    },
    "papermill": {
     "duration": 0.049694,
     "end_time": "2022-10-27T02:30:15.078069",
     "exception": false,
     "start_time": "2022-10-27T02:30:15.028375",
     "status": "completed"
    },
    "tags": []
   },
   "outputs": [
    {
     "data": {
      "text/plain": [
       "Not difficult at all    6218\n",
       "Somewhat difficult      5780\n",
       "Very difficult          1004\n",
       "Extremely difficult      409\n",
       "Name: GADE, dtype: int64"
      ]
     },
     "execution_count": 17,
     "metadata": {},
     "output_type": "execute_result"
    }
   ],
   "source": [
    "df.GADE.value_counts()"
   ]
  },
  {
   "cell_type": "code",
   "execution_count": 18,
   "id": "04fdf6a7",
   "metadata": {
    "execution": {
     "iopub.execute_input": "2022-10-27T02:30:15.150308Z",
     "iopub.status.busy": "2022-10-27T02:30:15.149206Z",
     "iopub.status.idle": "2022-10-27T02:30:15.156052Z",
     "shell.execute_reply": "2022-10-27T02:30:15.154804Z"
    },
    "papermill": {
     "duration": 0.045051,
     "end_time": "2022-10-27T02:30:15.158300",
     "exception": false,
     "start_time": "2022-10-27T02:30:15.113249",
     "status": "completed"
    },
    "tags": []
   },
   "outputs": [
    {
     "data": {
      "text/plain": [
       "(13411, 54)"
      ]
     },
     "execution_count": 18,
     "metadata": {},
     "output_type": "execute_result"
    }
   ],
   "source": [
    "df.shape"
   ]
  },
  {
   "cell_type": "code",
   "execution_count": 19,
   "id": "acffa891",
   "metadata": {
    "execution": {
     "iopub.execute_input": "2022-10-27T02:30:15.231764Z",
     "iopub.status.busy": "2022-10-27T02:30:15.231037Z",
     "iopub.status.idle": "2022-10-27T02:30:15.238881Z",
     "shell.execute_reply": "2022-10-27T02:30:15.237558Z"
    },
    "papermill": {
     "duration": 0.047813,
     "end_time": "2022-10-27T02:30:15.241377",
     "exception": false,
     "start_time": "2022-10-27T02:30:15.193564",
     "status": "completed"
    },
    "tags": []
   },
   "outputs": [],
   "source": [
    "df.streams.fillna(int(df.streams.mean()) , inplace = True)\n",
    "df.Hours.fillna(int(df.Hours.mean()) , inplace = True)"
   ]
  },
  {
   "cell_type": "code",
   "execution_count": 20,
   "id": "c2f36076",
   "metadata": {
    "execution": {
     "iopub.execute_input": "2022-10-27T02:30:15.315333Z",
     "iopub.status.busy": "2022-10-27T02:30:15.314869Z",
     "iopub.status.idle": "2022-10-27T02:30:15.325497Z",
     "shell.execute_reply": "2022-10-27T02:30:15.324552Z"
    },
    "papermill": {
     "duration": 0.050511,
     "end_time": "2022-10-27T02:30:15.328131",
     "exception": false,
     "start_time": "2022-10-27T02:30:15.277620",
     "status": "completed"
    },
    "tags": []
   },
   "outputs": [],
   "source": [
    "df.drop('Hours_streams' , axis = 1 , inplace = True)"
   ]
  },
  {
   "cell_type": "code",
   "execution_count": 21,
   "id": "751c592f",
   "metadata": {
    "execution": {
     "iopub.execute_input": "2022-10-27T02:30:15.405620Z",
     "iopub.status.busy": "2022-10-27T02:30:15.404726Z",
     "iopub.status.idle": "2022-10-27T02:30:15.425773Z",
     "shell.execute_reply": "2022-10-27T02:30:15.424318Z"
    },
    "papermill": {
     "duration": 0.063265,
     "end_time": "2022-10-27T02:30:15.428640",
     "exception": false,
     "start_time": "2022-10-27T02:30:15.365375",
     "status": "completed"
    },
    "tags": []
   },
   "outputs": [
    {
     "name": "stdout",
     "output_type": "stream",
     "text": [
      "1444\n",
      "1199\n"
     ]
    }
   ],
   "source": [
    "print(df.League.nunique())\n",
    "df.League = df.League.str.lower().str.strip()\n",
    "print(df.League.nunique())"
   ]
  },
  {
   "cell_type": "code",
   "execution_count": 22,
   "id": "3d64c736",
   "metadata": {
    "execution": {
     "iopub.execute_input": "2022-10-27T02:30:15.504560Z",
     "iopub.status.busy": "2022-10-27T02:30:15.504111Z",
     "iopub.status.idle": "2022-10-27T02:30:15.515457Z",
     "shell.execute_reply": "2022-10-27T02:30:15.514189Z"
    },
    "papermill": {
     "duration": 0.052233,
     "end_time": "2022-10-27T02:30:15.518070",
     "exception": false,
     "start_time": "2022-10-27T02:30:15.465837",
     "status": "completed"
    },
    "tags": []
   },
   "outputs": [
    {
     "data": {
      "text/plain": [
       "gold            1347\n",
       "silver           899\n",
       "platinum         838\n",
       "diamond          728\n",
       "unranked         393\n",
       "gold 3           265\n",
       "gold 1           264\n",
       "diamond 5        264\n",
       "gold 5           263\n",
       "silver 1         250\n",
       "gold v           227\n",
       "silver 2         219\n",
       "gold 2           218\n",
       "silver 3         199\n",
       "bronze           191\n",
       "platinum 3       159\n",
       "gold 4           156\n",
       "platinum 1       143\n",
       "platinum 2       138\n",
       "silver 4         138\n",
       "platinum 5       128\n",
       "silver 5         121\n",
       "diamond v        110\n",
       "platinum 4       102\n",
       "plat             100\n",
       "diamond 4         96\n",
       "diamond 3         96\n",
       "platinum v        89\n",
       "plat 5            87\n",
       "plat 3            84\n",
       "gold iv           82\n",
       "diamond 1         75\n",
       "master            74\n",
       "plat 2            72\n",
       "gold iii          69\n",
       "bronze 1          69\n",
       "silver iii        68\n",
       "plat 1            67\n",
       "plat 4            62\n",
       "diamond 2         61\n",
       "silver v          59\n",
       "silver iv         59\n",
       "bronze 2          58\n",
       "bronze 3          55\n",
       "challenger        53\n",
       "silver i          52\n",
       "silver ii         50\n",
       "platinum iv       48\n",
       "platinum iii      48\n",
       "plat v            46\n",
       "Name: League, dtype: int64"
      ]
     },
     "execution_count": 22,
     "metadata": {},
     "output_type": "execute_result"
    }
   ],
   "source": [
    "df[\"League\"].value_counts().head(50)"
   ]
  },
  {
   "cell_type": "code",
   "execution_count": 23,
   "id": "bc7a6a47",
   "metadata": {
    "execution": {
     "iopub.execute_input": "2022-10-27T02:30:15.593272Z",
     "iopub.status.busy": "2022-10-27T02:30:15.592839Z",
     "iopub.status.idle": "2022-10-27T02:30:15.621541Z",
     "shell.execute_reply": "2022-10-27T02:30:15.620332Z"
    },
    "papermill": {
     "duration": 0.070053,
     "end_time": "2022-10-27T02:30:15.624210",
     "exception": false,
     "start_time": "2022-10-27T02:30:15.554157",
     "status": "completed"
    },
    "tags": []
   },
   "outputs": [],
   "source": [
    "df[\"League\"] =df[\"League\"].str.extract(r'^([a-z]+)')"
   ]
  },
  {
   "cell_type": "code",
   "execution_count": 24,
   "id": "b76f3fd2",
   "metadata": {
    "execution": {
     "iopub.execute_input": "2022-10-27T02:30:15.698262Z",
     "iopub.status.busy": "2022-10-27T02:30:15.697872Z",
     "iopub.status.idle": "2022-10-27T02:30:15.707136Z",
     "shell.execute_reply": "2022-10-27T02:30:15.705981Z"
    },
    "papermill": {
     "duration": 0.049216,
     "end_time": "2022-10-27T02:30:15.709635",
     "exception": false,
     "start_time": "2022-10-27T02:30:15.660419",
     "status": "completed"
    },
    "tags": []
   },
   "outputs": [
    {
     "data": {
      "text/plain": [
       "207"
      ]
     },
     "execution_count": 24,
     "metadata": {},
     "output_type": "execute_result"
    }
   ],
   "source": [
    "df.League.nunique()"
   ]
  },
  {
   "cell_type": "code",
   "execution_count": 25,
   "id": "ee24de79",
   "metadata": {
    "execution": {
     "iopub.execute_input": "2022-10-27T02:30:15.784637Z",
     "iopub.status.busy": "2022-10-27T02:30:15.784199Z",
     "iopub.status.idle": "2022-10-27T02:30:15.793970Z",
     "shell.execute_reply": "2022-10-27T02:30:15.792738Z"
    },
    "papermill": {
     "duration": 0.050176,
     "end_time": "2022-10-27T02:30:15.796607",
     "exception": false,
     "start_time": "2022-10-27T02:30:15.746431",
     "status": "completed"
    },
    "tags": []
   },
   "outputs": [
    {
     "data": {
      "text/plain": [
       "array([nan, 'gold', 'none', 'na', 'diamond', 'not', 'bronze', 'silver',\n",
       "       'n', 'unranked', 'bad', 'legendary', 'global', 'potato', 'master',\n",
       "       'silverii', 'platinum', 'masters', 'challenger', 'lvl', 'platin',\n",
       "       'promos', 'top', 'd', 'plat', 'i', 'rank', 'grandmaster',\n",
       "       'platnium', 's', 'haven', 'platinium', 'in', 'gv', 'provisional',\n",
       "       'placements', 'g', 'was', 'the', 'division', 'pplatinum', 'hr',\n",
       "       'only', 'platium', 'legend', 'platine', 'plarinum', 'dmg',\n",
       "       'sliver', 'dont', 'high', 'very', 'starcraft', 'challenjour',\n",
       "       'fusion', 'low', 'unraked', 'havent', 'got', 'golden', 'cs', 'p',\n",
       "       'standard', 'still', 'highest', 'nope', 'dia', 'league', 'nova',\n",
       "       'mge', 'silber', 'siver', 'never', 'b', 'platinun', 'mg',\n",
       "       'supreme', 'for', 'greater', 'wood', 'le', 'no', 'natural', 'aram',\n",
       "       'don', 'currently', 'noone', 'grand', 'hs', 'current', 'last',\n",
       "       'first', 'recently', 'fucking', 'grandmasters', 'golf', 'of',\n",
       "       'glod', 'tier', 'soloq', 'unrranked', 'esl', 'golld', 'double',\n",
       "       'used', 'new', 'lem', 'csgo', 'c', 'platonum', 'eu', 'bronce',\n",
       "       'sil', 'finished', 'what', 'zilean', 'unrank', 'cardboard',\n",
       "       'goled', 'ranked', 'heroic', 'torment', 'lowest', 'lol', 'plata',\n",
       "       'almost', 'platnum', 'season', 'diaomnd', 'german', 'placed', 'un',\n",
       "       'mid', 'uwot', 'spanish', 'around', 'sc', 'germany', 'conqueror',\n",
       "       'charrenjour', 'unrankt', 'im', 'plantinum', 'placement', 'close',\n",
       "       'diamont', 'platinuim', 'hearthstone', 'finishing', 'non', 'coals',\n",
       "       'qualifiying', 'god', 'distinguished', 'doing', 'seaon', 'pre',\n",
       "       'unable', 'legdendary', 'ended', 'unfranked', 'were', 'promotion',\n",
       "       'seeding', 'idk', 'probably', 'ex', 'smfc', 'unplaced',\n",
       "       'gladiator', 'peaked', 'will', 'climbing', 'gm', 'angolan',\n",
       "       'challeneger', 'golderino', 'didnt', 'platinumm', 'provisionals',\n",
       "       'atm', 'unrakned', 'x', 'yes', 'under', 'range', 'formerly',\n",
       "       'having', 'silveriv', 'sem', 'elohell', 'promotions', 'unseeded',\n",
       "       'ugc', 'giii', 'if', 'level', 'lissandra', 'north', 'guardian',\n",
       "       'broze', 'diamomd', 'just', 'platv', 'unfinished', 'euw',\n",
       "       'platina', 'ahgl'], dtype=object)"
      ]
     },
     "execution_count": 25,
     "metadata": {},
     "output_type": "execute_result"
    }
   ],
   "source": [
    "df.League.unique()"
   ]
  },
  {
   "cell_type": "code",
   "execution_count": 26,
   "id": "c6f99752",
   "metadata": {
    "execution": {
     "iopub.execute_input": "2022-10-27T02:30:15.872231Z",
     "iopub.status.busy": "2022-10-27T02:30:15.871839Z",
     "iopub.status.idle": "2022-10-27T02:30:15.884120Z",
     "shell.execute_reply": "2022-10-27T02:30:15.883084Z"
    },
    "papermill": {
     "duration": 0.052854,
     "end_time": "2022-10-27T02:30:15.886709",
     "exception": false,
     "start_time": "2022-10-27T02:30:15.833855",
     "status": "completed"
    },
    "tags": []
   },
   "outputs": [],
   "source": [
    "df.loc[(df['whyplay']== 'having fun') ,'League'] =df.loc[(df['whyplay']== 'having fun') ,'League'].fillna('unranked')\n",
    "df.League.fillna('gold' , inplace = True)"
   ]
  },
  {
   "cell_type": "code",
   "execution_count": 27,
   "id": "b43fb85c",
   "metadata": {
    "execution": {
     "iopub.execute_input": "2022-10-27T02:30:15.968384Z",
     "iopub.status.busy": "2022-10-27T02:30:15.967413Z",
     "iopub.status.idle": "2022-10-27T02:30:15.980506Z",
     "shell.execute_reply": "2022-10-27T02:30:15.979511Z"
    },
    "papermill": {
     "duration": 0.057418,
     "end_time": "2022-10-27T02:30:15.983085",
     "exception": false,
     "start_time": "2022-10-27T02:30:15.925667",
     "status": "completed"
    },
    "tags": []
   },
   "outputs": [],
   "source": [
    "golds = ['g', 'gv', 'golden' ,'glod' ,'golld' ,'golf', 'goled', 'golderino' ,'giii']\n",
    "df['League'] = df.League.replace(golds , 'gold')"
   ]
  },
  {
   "cell_type": "code",
   "execution_count": 28,
   "id": "cb39001e",
   "metadata": {
    "execution": {
     "iopub.execute_input": "2022-10-27T02:30:16.056612Z",
     "iopub.status.busy": "2022-10-27T02:30:16.055293Z",
     "iopub.status.idle": "2022-10-27T02:30:16.066469Z",
     "shell.execute_reply": "2022-10-27T02:30:16.065650Z"
    },
    "papermill": {
     "duration": 0.049832,
     "end_time": "2022-10-27T02:30:16.068853",
     "exception": false,
     "start_time": "2022-10-27T02:30:16.019021",
     "status": "completed"
    },
    "tags": []
   },
   "outputs": [],
   "source": [
    "silvers = [ 'silverii' , 's' , 'sliver' , 'siver' , 'silber' , 'sil' , 'silveriv']\n",
    "df['League'] = df.League.replace(silvers , 'silver')"
   ]
  },
  {
   "cell_type": "code",
   "execution_count": 29,
   "id": "82bea1fe",
   "metadata": {
    "execution": {
     "iopub.execute_input": "2022-10-27T02:30:16.141271Z",
     "iopub.status.busy": "2022-10-27T02:30:16.140346Z",
     "iopub.status.idle": "2022-10-27T02:30:16.159220Z",
     "shell.execute_reply": "2022-10-27T02:30:16.158264Z"
    },
    "papermill": {
     "duration": 0.057998,
     "end_time": "2022-10-27T02:30:16.161645",
     "exception": false,
     "start_time": "2022-10-27T02:30:16.103647",
     "status": "completed"
    },
    "tags": []
   },
   "outputs": [],
   "source": [
    "plats = [\n",
    "    'platinium' , 'platnium' , 'platin' ,'pplatinum' ,'plarinum' ,'platium', 'p' ,'platine' ,\n",
    "    'platinun' ,'platonum' ,'platnum', 'plata' ,'plantinum',\n",
    "    'platinuim' ,'platunum', 'plantinum' ,'platunum' ,'platinumm' ,'platv' ,'platina' , 'plat' \n",
    "]\n",
    "df['League'] = df.League.replace(plats , 'platinum')"
   ]
  },
  {
   "cell_type": "code",
   "execution_count": 30,
   "id": "badb596d",
   "metadata": {
    "execution": {
     "iopub.execute_input": "2022-10-27T02:30:16.233767Z",
     "iopub.status.busy": "2022-10-27T02:30:16.233062Z",
     "iopub.status.idle": "2022-10-27T02:30:16.243044Z",
     "shell.execute_reply": "2022-10-27T02:30:16.242037Z"
    },
    "papermill": {
     "duration": 0.048749,
     "end_time": "2022-10-27T02:30:16.245400",
     "exception": false,
     "start_time": "2022-10-27T02:30:16.196651",
     "status": "completed"
    },
    "tags": []
   },
   "outputs": [],
   "source": [
    "bronzers = ['bronce' , 'b' , 'broze' ,'lowest' , 'wood', 'elohell'] \n",
    "df['League'] = df.League.replace(bronzers , 'bronze')"
   ]
  },
  {
   "cell_type": "code",
   "execution_count": 31,
   "id": "012f1117",
   "metadata": {
    "execution": {
     "iopub.execute_input": "2022-10-27T02:30:16.317992Z",
     "iopub.status.busy": "2022-10-27T02:30:16.317376Z",
     "iopub.status.idle": "2022-10-27T02:30:16.345944Z",
     "shell.execute_reply": "2022-10-27T02:30:16.344786Z"
    },
    "papermill": {
     "duration": 0.067984,
     "end_time": "2022-10-27T02:30:16.348692",
     "exception": false,
     "start_time": "2022-10-27T02:30:16.280708",
     "status": "completed"
    },
    "tags": []
   },
   "outputs": [],
   "source": [
    "unranked = ['none' ,'na', 'not' ,'n' ,'promos' ,'provisional' ,'placements' , 'dont' , 'was', 'unraked',\n",
    "            'havent', 'never', 'nope', 'no', 'noone', 'don', 'of', 'unrranked', 'new', 'what', 'unrank' ,\n",
    "            'ranked', 'placement', 'unrankt' , 'non', 'unfranked' , 'promotion', 'idk',\n",
    "            'unplaced', 'probably', 'provisionals', 'didnt' ,'unrakned' , 'unfinished' , 'just' , 'x' ,\n",
    "            'promotions' , 'unseeded' , 'haven']\n",
    "df['League'] = df.League.replace(unranked , 'unranked')"
   ]
  },
  {
   "cell_type": "code",
   "execution_count": 32,
   "id": "3803153e",
   "metadata": {
    "execution": {
     "iopub.execute_input": "2022-10-27T02:30:16.425558Z",
     "iopub.status.busy": "2022-10-27T02:30:16.424950Z",
     "iopub.status.idle": "2022-10-27T02:30:16.434212Z",
     "shell.execute_reply": "2022-10-27T02:30:16.433150Z"
    },
    "papermill": {
     "duration": 0.051439,
     "end_time": "2022-10-27T02:30:16.436830",
     "exception": false,
     "start_time": "2022-10-27T02:30:16.385391",
     "status": "completed"
    },
    "tags": []
   },
   "outputs": [],
   "source": [
    "diamonds =  ['d', 'dia', 'diaomnd', 'diamont','diamomd']\n",
    "df['League'] = df.League.replace(diamonds , 'diamond')"
   ]
  },
  {
   "cell_type": "code",
   "execution_count": 33,
   "id": "23aec543",
   "metadata": {
    "execution": {
     "iopub.execute_input": "2022-10-27T02:30:16.513843Z",
     "iopub.status.busy": "2022-10-27T02:30:16.513404Z",
     "iopub.status.idle": "2022-10-27T02:30:16.523344Z",
     "shell.execute_reply": "2022-10-27T02:30:16.521696Z"
    },
    "papermill": {
     "duration": 0.053181,
     "end_time": "2022-10-27T02:30:16.526746",
     "exception": false,
     "start_time": "2022-10-27T02:30:16.473565",
     "status": "completed"
    },
    "tags": []
   },
   "outputs": [],
   "source": [
    "gm =  ['grand', 'gm', 'grandmasters']\n",
    "df['League'] = df.League.replace(gm , 'grandmaster')"
   ]
  },
  {
   "cell_type": "code",
   "execution_count": 34,
   "id": "76c00a8e",
   "metadata": {
    "execution": {
     "iopub.execute_input": "2022-10-27T02:30:16.601542Z",
     "iopub.status.busy": "2022-10-27T02:30:16.601121Z",
     "iopub.status.idle": "2022-10-27T02:30:16.611702Z",
     "shell.execute_reply": "2022-10-27T02:30:16.610309Z"
    },
    "papermill": {
     "duration": 0.051701,
     "end_time": "2022-10-27T02:30:16.614396",
     "exception": false,
     "start_time": "2022-10-27T02:30:16.562695",
     "status": "completed"
    },
    "tags": []
   },
   "outputs": [],
   "source": [
    "chall =  ['challenjour', 'c', 'charrenjour', 'challeneger']\n",
    "df['League'] = df.League.replace(chall , 'challenger')"
   ]
  },
  {
   "cell_type": "code",
   "execution_count": 35,
   "id": "4da6cc87",
   "metadata": {
    "execution": {
     "iopub.execute_input": "2022-10-27T02:30:16.691191Z",
     "iopub.status.busy": "2022-10-27T02:30:16.690779Z",
     "iopub.status.idle": "2022-10-27T02:30:16.704047Z",
     "shell.execute_reply": "2022-10-27T02:30:16.702776Z"
    },
    "papermill": {
     "duration": 0.054972,
     "end_time": "2022-10-27T02:30:16.706715",
     "exception": false,
     "start_time": "2022-10-27T02:30:16.651743",
     "status": "completed"
    },
    "tags": []
   },
   "outputs": [],
   "source": [
    "df['League'] = df.League.replace('mg' , 'mge')\n",
    "df['League'] = df.League.replace('masters' , 'master')\n",
    "df['League'] = df.League.replace( ['le', 'legdendary'] , 'legendary')"
   ]
  },
  {
   "cell_type": "code",
   "execution_count": 36,
   "id": "b0f779ed",
   "metadata": {
    "execution": {
     "iopub.execute_input": "2022-10-27T02:30:16.785984Z",
     "iopub.status.busy": "2022-10-27T02:30:16.785482Z",
     "iopub.status.idle": "2022-10-27T02:30:16.796845Z",
     "shell.execute_reply": "2022-10-27T02:30:16.795677Z"
    },
    "papermill": {
     "duration": 0.05366,
     "end_time": "2022-10-27T02:30:16.799193",
     "exception": false,
     "start_time": "2022-10-27T02:30:16.745533",
     "status": "completed"
    },
    "scrolled": true,
    "tags": []
   },
   "outputs": [
    {
     "data": {
      "text/plain": [
       "gold             4074\n",
       "platinum         2640\n",
       "silver           2278\n",
       "unranked         1714\n",
       "diamond          1628\n",
       "bronze            552\n",
       "master            163\n",
       "challenger         76\n",
       "rank               28\n",
       "i                  20\n",
       "grandmaster        17\n",
       "dmg                11\n",
       "currently          11\n",
       "legendary           8\n",
       "season              8\n",
       "mge                 8\n",
       "high                8\n",
       "league              7\n",
       "lol                 7\n",
       "in                  7\n",
       "still               7\n",
       "legend              6\n",
       "top                 6\n",
       "cs                  6\n",
       "nova                5\n",
       "greater             4\n",
       "supreme             4\n",
       "starcraft           3\n",
       "last                3\n",
       "lem                 3\n",
       "csgo                3\n",
       "sc                  2\n",
       "finished            2\n",
       "low                 2\n",
       "the                 2\n",
       "mid                 2\n",
       "ugc                 2\n",
       "global              2\n",
       "eu                  2\n",
       "aram                2\n",
       "division            2\n",
       "got                 2\n",
       "level               2\n",
       "used                2\n",
       "for                 2\n",
       "peaked              2\n",
       "under               1\n",
       "north               1\n",
       "zilean              1\n",
       "very                1\n",
       "finishing           1\n",
       "range               1\n",
       "were                1\n",
       "hearthstone         1\n",
       "ahgl                1\n",
       "unable              1\n",
       "pre                 1\n",
       "qualifiying         1\n",
       "seaon               1\n",
       "conqueror           1\n",
       "will                1\n",
       "un                  1\n",
       "esl                 1\n",
       "potato              1\n",
       "doing               1\n",
       "soloq               1\n",
       "yes                 1\n",
       "uwot                1\n",
       "torment             1\n",
       "lissandra           1\n",
       "having              1\n",
       "only                1\n",
       "highest             1\n",
       "natural             1\n",
       "distinguished       1\n",
       "close               1\n",
       "seeding             1\n",
       "fucking             1\n",
       "around              1\n",
       "standard            1\n",
       "if                  1\n",
       "cardboard           1\n",
       "german              1\n",
       "ex                  1\n",
       "spanish             1\n",
       "formerly            1\n",
       "current             1\n",
       "smfc                1\n",
       "euw                 1\n",
       "ended               1\n",
       "coals               1\n",
       "god                 1\n",
       "im                  1\n",
       "bad                 1\n",
       "guardian            1\n",
       "almost              1\n",
       "hr                  1\n",
       "atm                 1\n",
       "lvl                 1\n",
       "gladiator           1\n",
       "first               1\n",
       "recently            1\n",
       "climbing            1\n",
       "hs                  1\n",
       "angolan             1\n",
       "fusion              1\n",
       "tier                1\n",
       "germany             1\n",
       "double              1\n",
       "placed              1\n",
       "sem                 1\n",
       "heroic              1\n",
       "Name: League, dtype: int64"
      ]
     },
     "execution_count": 36,
     "metadata": {},
     "output_type": "execute_result"
    }
   ],
   "source": [
    "df.League.value_counts()"
   ]
  },
  {
   "cell_type": "code",
   "execution_count": 37,
   "id": "17d1a7b7",
   "metadata": {
    "execution": {
     "iopub.execute_input": "2022-10-27T02:30:16.873088Z",
     "iopub.status.busy": "2022-10-27T02:30:16.872125Z",
     "iopub.status.idle": "2022-10-27T02:30:16.884699Z",
     "shell.execute_reply": "2022-10-27T02:30:16.883461Z"
    },
    "papermill": {
     "duration": 0.052546,
     "end_time": "2022-10-27T02:30:16.887380",
     "exception": false,
     "start_time": "2022-10-27T02:30:16.834834",
     "status": "completed"
    },
    "scrolled": true,
    "tags": []
   },
   "outputs": [],
   "source": [
    "counts = df['League'].value_counts()\n",
    "df['League'] = df['League'][~df['League'].isin(counts[counts < 3].index)]"
   ]
  },
  {
   "cell_type": "code",
   "execution_count": 38,
   "id": "deae34c3",
   "metadata": {
    "execution": {
     "iopub.execute_input": "2022-10-27T02:30:16.965483Z",
     "iopub.status.busy": "2022-10-27T02:30:16.964016Z",
     "iopub.status.idle": "2022-10-27T02:30:16.980395Z",
     "shell.execute_reply": "2022-10-27T02:30:16.978991Z"
    },
    "papermill": {
     "duration": 0.057229,
     "end_time": "2022-10-27T02:30:16.983082",
     "exception": false,
     "start_time": "2022-10-27T02:30:16.925853",
     "status": "completed"
    },
    "tags": []
   },
   "outputs": [],
   "source": [
    "df['League'] = df.League.replace(['i' , 'currently' , 'high' , 'season' , 'lol','cs' ,\n",
    "                                  'last' ,'csgo','starcraft' ,'geater' , 'in', 'rank' , 'still'] , np.nan)"
   ]
  },
  {
   "cell_type": "code",
   "execution_count": 39,
   "id": "507b6dca",
   "metadata": {
    "execution": {
     "iopub.execute_input": "2022-10-27T02:30:17.056553Z",
     "iopub.status.busy": "2022-10-27T02:30:17.056031Z",
     "iopub.status.idle": "2022-10-27T02:30:17.063342Z",
     "shell.execute_reply": "2022-10-27T02:30:17.062217Z"
    },
    "papermill": {
     "duration": 0.046535,
     "end_time": "2022-10-27T02:30:17.065712",
     "exception": false,
     "start_time": "2022-10-27T02:30:17.019177",
     "status": "completed"
    },
    "tags": []
   },
   "outputs": [],
   "source": [
    "df.League.fillna('unspecified' , inplace=True)"
   ]
  },
  {
   "cell_type": "code",
   "execution_count": 40,
   "id": "845f3441",
   "metadata": {
    "execution": {
     "iopub.execute_input": "2022-10-27T02:30:17.140651Z",
     "iopub.status.busy": "2022-10-27T02:30:17.140233Z",
     "iopub.status.idle": "2022-10-27T02:30:17.149293Z",
     "shell.execute_reply": "2022-10-27T02:30:17.148316Z"
    },
    "papermill": {
     "duration": 0.049359,
     "end_time": "2022-10-27T02:30:17.151552",
     "exception": false,
     "start_time": "2022-10-27T02:30:17.102193",
     "status": "completed"
    },
    "tags": []
   },
   "outputs": [
    {
     "data": {
      "text/plain": [
       "array(['unranked', 'gold', 'diamond', 'bronze', 'silver', 'unspecified',\n",
       "       'legendary', 'master', 'platinum', 'challenger', 'top',\n",
       "       'grandmaster', 'legend', 'dmg', 'league', 'nova', 'mge', 'supreme',\n",
       "       'greater', 'lem'], dtype=object)"
      ]
     },
     "execution_count": 40,
     "metadata": {},
     "output_type": "execute_result"
    }
   ],
   "source": [
    "df.League.unique()"
   ]
  },
  {
   "cell_type": "code",
   "execution_count": 41,
   "id": "15a3e1a5",
   "metadata": {
    "execution": {
     "iopub.execute_input": "2022-10-27T02:30:17.228730Z",
     "iopub.status.busy": "2022-10-27T02:30:17.228070Z",
     "iopub.status.idle": "2022-10-27T02:30:17.237796Z",
     "shell.execute_reply": "2022-10-27T02:30:17.236658Z"
    },
    "papermill": {
     "duration": 0.051016,
     "end_time": "2022-10-27T02:30:17.240208",
     "exception": false,
     "start_time": "2022-10-27T02:30:17.189192",
     "status": "completed"
    },
    "tags": []
   },
   "outputs": [
    {
     "data": {
      "text/plain": [
       "gold           4074\n",
       "platinum       2640\n",
       "silver         2278\n",
       "unranked       1714\n",
       "diamond        1628\n",
       "bronze          552\n",
       "unspecified     207\n",
       "master          163\n",
       "challenger       76\n",
       "grandmaster      17\n",
       "dmg              11\n",
       "legendary         8\n",
       "mge               8\n",
       "league            7\n",
       "top               6\n",
       "legend            6\n",
       "nova              5\n",
       "greater           4\n",
       "supreme           4\n",
       "lem               3\n",
       "Name: League, dtype: int64"
      ]
     },
     "execution_count": 41,
     "metadata": {},
     "output_type": "execute_result"
    }
   ],
   "source": [
    "df.League.value_counts()"
   ]
  },
  {
   "cell_type": "code",
   "execution_count": 42,
   "id": "ed1e9d66",
   "metadata": {
    "execution": {
     "iopub.execute_input": "2022-10-27T02:30:17.313229Z",
     "iopub.status.busy": "2022-10-27T02:30:17.312834Z",
     "iopub.status.idle": "2022-10-27T02:30:17.321368Z",
     "shell.execute_reply": "2022-10-27T02:30:17.320429Z"
    },
    "papermill": {
     "duration": 0.047398,
     "end_time": "2022-10-27T02:30:17.323439",
     "exception": false,
     "start_time": "2022-10-27T02:30:17.276041",
     "status": "completed"
    },
    "tags": []
   },
   "outputs": [
    {
     "data": {
      "text/plain": [
       "1.0    5240\n",
       "2.0    4344\n",
       "3.0    2335\n",
       "4.0    1147\n",
       "5.0     322\n",
       "Name: Narcissism, dtype: int64"
      ]
     },
     "execution_count": 42,
     "metadata": {},
     "output_type": "execute_result"
    }
   ],
   "source": [
    "df['Narcissism'].value_counts()"
   ]
  },
  {
   "cell_type": "code",
   "execution_count": 43,
   "id": "5412fca1",
   "metadata": {
    "execution": {
     "iopub.execute_input": "2022-10-27T02:30:17.400745Z",
     "iopub.status.busy": "2022-10-27T02:30:17.399929Z",
     "iopub.status.idle": "2022-10-27T02:30:17.408872Z",
     "shell.execute_reply": "2022-10-27T02:30:17.407806Z"
    },
    "papermill": {
     "duration": 0.05089,
     "end_time": "2022-10-27T02:30:17.411411",
     "exception": false,
     "start_time": "2022-10-27T02:30:17.360521",
     "status": "completed"
    },
    "tags": []
   },
   "outputs": [],
   "source": [
    "df.drop([\"Birthplace\",\"Birthplace_ISO3\"],axis=1,inplace=True)"
   ]
  },
  {
   "cell_type": "code",
   "execution_count": 44,
   "id": "bb57edd1",
   "metadata": {
    "execution": {
     "iopub.execute_input": "2022-10-27T02:30:17.489875Z",
     "iopub.status.busy": "2022-10-27T02:30:17.489454Z",
     "iopub.status.idle": "2022-10-27T02:30:17.497822Z",
     "shell.execute_reply": "2022-10-27T02:30:17.496942Z"
    },
    "papermill": {
     "duration": 0.050409,
     "end_time": "2022-10-27T02:30:17.500172",
     "exception": false,
     "start_time": "2022-10-27T02:30:17.449763",
     "status": "completed"
    },
    "tags": []
   },
   "outputs": [],
   "source": [
    "df['Residence'] = df['Residence'].replace('Unknown',df['Residence'].mode()[0])"
   ]
  },
  {
   "cell_type": "code",
   "execution_count": 45,
   "id": "6fdfacd3",
   "metadata": {
    "execution": {
     "iopub.execute_input": "2022-10-27T02:30:17.578191Z",
     "iopub.status.busy": "2022-10-27T02:30:17.577780Z",
     "iopub.status.idle": "2022-10-27T02:30:17.584657Z",
     "shell.execute_reply": "2022-10-27T02:30:17.583396Z"
    },
    "papermill": {
     "duration": 0.048502,
     "end_time": "2022-10-27T02:30:17.586863",
     "exception": false,
     "start_time": "2022-10-27T02:30:17.538361",
     "status": "completed"
    },
    "tags": []
   },
   "outputs": [],
   "source": [
    "df['Reference'].fillna('Other',inplace=True)"
   ]
  },
  {
   "cell_type": "code",
   "execution_count": 46,
   "id": "62412b9c",
   "metadata": {
    "execution": {
     "iopub.execute_input": "2022-10-27T02:30:17.665293Z",
     "iopub.status.busy": "2022-10-27T02:30:17.664410Z",
     "iopub.status.idle": "2022-10-27T02:30:17.678309Z",
     "shell.execute_reply": "2022-10-27T02:30:17.677286Z"
    },
    "papermill": {
     "duration": 0.05634,
     "end_time": "2022-10-27T02:30:17.681041",
     "exception": false,
     "start_time": "2022-10-27T02:30:17.624701",
     "status": "completed"
    },
    "tags": []
   },
   "outputs": [],
   "source": [
    "df.drop(df[df['accept'].isnull()].index , axis=0 , inplace=True)\n"
   ]
  },
  {
   "cell_type": "code",
   "execution_count": 47,
   "id": "6d4a9e99",
   "metadata": {
    "execution": {
     "iopub.execute_input": "2022-10-27T02:30:17.758640Z",
     "iopub.status.busy": "2022-10-27T02:30:17.758189Z",
     "iopub.status.idle": "2022-10-27T02:30:17.765753Z",
     "shell.execute_reply": "2022-10-27T02:30:17.764375Z"
    },
    "papermill": {
     "duration": 0.049115,
     "end_time": "2022-10-27T02:30:17.768184",
     "exception": false,
     "start_time": "2022-10-27T02:30:17.719069",
     "status": "completed"
    },
    "tags": []
   },
   "outputs": [],
   "source": [
    "df['Residence_ISO3'].fillna('USA',inplace=True) #11063"
   ]
  },
  {
   "cell_type": "code",
   "execution_count": 48,
   "id": "6f522b3e",
   "metadata": {
    "execution": {
     "iopub.execute_input": "2022-10-27T02:30:17.845737Z",
     "iopub.status.busy": "2022-10-27T02:30:17.845278Z",
     "iopub.status.idle": "2022-10-27T02:30:17.852415Z",
     "shell.execute_reply": "2022-10-27T02:30:17.851146Z"
    },
    "papermill": {
     "duration": 0.049037,
     "end_time": "2022-10-27T02:30:17.854958",
     "exception": false,
     "start_time": "2022-10-27T02:30:17.805921",
     "status": "completed"
    },
    "tags": []
   },
   "outputs": [],
   "source": [
    "df.loc[11063,'Residence_ISO3'] = 'XXK'"
   ]
  },
  {
   "cell_type": "code",
   "execution_count": 49,
   "id": "6a532c6c",
   "metadata": {
    "execution": {
     "iopub.execute_input": "2022-10-27T02:30:17.928617Z",
     "iopub.status.busy": "2022-10-27T02:30:17.927833Z",
     "iopub.status.idle": "2022-10-27T02:30:17.946766Z",
     "shell.execute_reply": "2022-10-27T02:30:17.945742Z"
    },
    "papermill": {
     "duration": 0.05841,
     "end_time": "2022-10-27T02:30:17.949527",
     "exception": false,
     "start_time": "2022-10-27T02:30:17.891117",
     "status": "completed"
    },
    "tags": []
   },
   "outputs": [],
   "source": [
    "col = ['SPIN1','SPIN2','SPIN3','SPIN4','SPIN5','SPIN6','SPIN7','SPIN8','SPIN9',\n",
    "     'SPIN10','SPIN11','SPIN12','SPIN13','SPIN14','SPIN15','SPIN16','SPIN17' ,'SPIN_T']\n",
    "for i in col :\n",
    "    df[i].fillna(df[i].mode()[0], inplace = True)"
   ]
  },
  {
   "cell_type": "code",
   "execution_count": 50,
   "id": "94516757",
   "metadata": {
    "execution": {
     "iopub.execute_input": "2022-10-27T02:30:18.030077Z",
     "iopub.status.busy": "2022-10-27T02:30:18.029634Z",
     "iopub.status.idle": "2022-10-27T02:30:18.128270Z",
     "shell.execute_reply": "2022-10-27T02:30:18.126712Z"
    },
    "papermill": {
     "duration": 0.142142,
     "end_time": "2022-10-27T02:30:18.131247",
     "exception": false,
     "start_time": "2022-10-27T02:30:17.989105",
     "status": "completed"
    },
    "tags": []
   },
   "outputs": [],
   "source": [
    "df['Playstyle'] = df['Playstyle'].apply(lambda x: ' '.join(word.strip(st.punctuation) for word in x.split()))\n",
    "df['earnings'] = df['earnings'].apply(lambda x: ' '.join(word.strip(st.punctuation) for word in x.split()))\n",
    "df['whyplay'] = df['whyplay'].apply(lambda x: ' '.join(word.strip(st.punctuation) for word in x.split()))\n"
   ]
  },
  {
   "cell_type": "code",
   "execution_count": 51,
   "id": "fe678aef",
   "metadata": {
    "execution": {
     "iopub.execute_input": "2022-10-27T02:30:18.204983Z",
     "iopub.status.busy": "2022-10-27T02:30:18.204531Z",
     "iopub.status.idle": "2022-10-27T02:30:18.241783Z",
     "shell.execute_reply": "2022-10-27T02:30:18.240449Z"
    },
    "papermill": {
     "duration": 0.077663,
     "end_time": "2022-10-27T02:30:18.244506",
     "exception": false,
     "start_time": "2022-10-27T02:30:18.166843",
     "status": "completed"
    },
    "tags": []
   },
   "outputs": [],
   "source": [
    "df['Playstyle'] = df['Playstyle'].str.lower().str.strip()\n",
    "df['whyplay'] = df['whyplay'].str.lower().str.strip()\n",
    "df['earnings'] = df['earnings'].str.lower().str.strip()"
   ]
  },
  {
   "cell_type": "code",
   "execution_count": 52,
   "id": "f38177f5",
   "metadata": {
    "execution": {
     "iopub.execute_input": "2022-10-27T02:30:18.322493Z",
     "iopub.status.busy": "2022-10-27T02:30:18.322081Z",
     "iopub.status.idle": "2022-10-27T02:30:18.331043Z",
     "shell.execute_reply": "2022-10-27T02:30:18.329898Z"
    },
    "papermill": {
     "duration": 0.051857,
     "end_time": "2022-10-27T02:30:18.333520",
     "exception": false,
     "start_time": "2022-10-27T02:30:18.281663",
     "status": "completed"
    },
    "tags": []
   },
   "outputs": [
    {
     "data": {
      "text/plain": [
       "278"
      ]
     },
     "execution_count": 52,
     "metadata": {},
     "output_type": "execute_result"
    }
   ],
   "source": [
    "df['Playstyle'].nunique()"
   ]
  },
  {
   "cell_type": "code",
   "execution_count": 53,
   "id": "9048083b",
   "metadata": {
    "execution": {
     "iopub.execute_input": "2022-10-27T02:30:18.412254Z",
     "iopub.status.busy": "2022-10-27T02:30:18.411868Z",
     "iopub.status.idle": "2022-10-27T02:30:18.420822Z",
     "shell.execute_reply": "2022-10-27T02:30:18.419570Z"
    },
    "papermill": {
     "duration": 0.051652,
     "end_time": "2022-10-27T02:30:18.423364",
     "exception": false,
     "start_time": "2022-10-27T02:30:18.371712",
     "status": "completed"
    },
    "tags": []
   },
   "outputs": [],
   "source": [
    "df.drop('highestleague' , axis = 1 , inplace = True)"
   ]
  },
  {
   "cell_type": "code",
   "execution_count": 54,
   "id": "74fc06ea",
   "metadata": {
    "execution": {
     "iopub.execute_input": "2022-10-27T02:30:18.501090Z",
     "iopub.status.busy": "2022-10-27T02:30:18.499908Z",
     "iopub.status.idle": "2022-10-27T02:30:18.556747Z",
     "shell.execute_reply": "2022-10-27T02:30:18.555486Z"
    },
    "papermill": {
     "duration": 0.099538,
     "end_time": "2022-10-27T02:30:18.559204",
     "exception": false,
     "start_time": "2022-10-27T02:30:18.459666",
     "status": "completed"
    },
    "tags": []
   },
   "outputs": [
    {
     "data": {
      "text/html": [
       "<div>\n",
       "<style scoped>\n",
       "    .dataframe tbody tr th:only-of-type {\n",
       "        vertical-align: middle;\n",
       "    }\n",
       "\n",
       "    .dataframe tbody tr th {\n",
       "        vertical-align: top;\n",
       "    }\n",
       "\n",
       "    .dataframe thead th {\n",
       "        text-align: right;\n",
       "    }\n",
       "</style>\n",
       "<table border=\"1\" class=\"dataframe\">\n",
       "  <thead>\n",
       "    <tr style=\"text-align: right;\">\n",
       "      <th></th>\n",
       "      <th>GAD1</th>\n",
       "      <th>GAD2</th>\n",
       "      <th>GAD3</th>\n",
       "      <th>GAD4</th>\n",
       "      <th>GAD5</th>\n",
       "      <th>GAD6</th>\n",
       "      <th>GAD7</th>\n",
       "      <th>GADE</th>\n",
       "      <th>SWL1</th>\n",
       "      <th>SWL2</th>\n",
       "      <th>SWL3</th>\n",
       "      <th>SWL4</th>\n",
       "      <th>SWL5</th>\n",
       "      <th>Game</th>\n",
       "      <th>Platform</th>\n",
       "      <th>Hours</th>\n",
       "      <th>earnings</th>\n",
       "      <th>whyplay</th>\n",
       "      <th>League</th>\n",
       "      <th>streams</th>\n",
       "      <th>SPIN1</th>\n",
       "      <th>SPIN2</th>\n",
       "      <th>SPIN3</th>\n",
       "      <th>SPIN4</th>\n",
       "      <th>SPIN5</th>\n",
       "      <th>SPIN6</th>\n",
       "      <th>SPIN7</th>\n",
       "      <th>SPIN8</th>\n",
       "      <th>SPIN9</th>\n",
       "      <th>SPIN10</th>\n",
       "      <th>SPIN11</th>\n",
       "      <th>SPIN12</th>\n",
       "      <th>SPIN13</th>\n",
       "      <th>SPIN14</th>\n",
       "      <th>SPIN15</th>\n",
       "      <th>SPIN16</th>\n",
       "      <th>SPIN17</th>\n",
       "      <th>Narcissism</th>\n",
       "      <th>Gender</th>\n",
       "      <th>Age</th>\n",
       "      <th>Work</th>\n",
       "      <th>Degree</th>\n",
       "      <th>Residence</th>\n",
       "      <th>Reference</th>\n",
       "      <th>Playstyle</th>\n",
       "      <th>accept</th>\n",
       "      <th>GAD_T</th>\n",
       "      <th>SWL_T</th>\n",
       "      <th>SPIN_T</th>\n",
       "      <th>Residence_ISO3</th>\n",
       "    </tr>\n",
       "  </thead>\n",
       "  <tbody>\n",
       "    <tr>\n",
       "      <th>0</th>\n",
       "      <td>0</td>\n",
       "      <td>0</td>\n",
       "      <td>0</td>\n",
       "      <td>0</td>\n",
       "      <td>1</td>\n",
       "      <td>0</td>\n",
       "      <td>0</td>\n",
       "      <td>Not difficult at all</td>\n",
       "      <td>3</td>\n",
       "      <td>5</td>\n",
       "      <td>5</td>\n",
       "      <td>5</td>\n",
       "      <td>5</td>\n",
       "      <td>Skyrim</td>\n",
       "      <td>Console (PS, Xbox, ...)</td>\n",
       "      <td>15.0</td>\n",
       "      <td>i play for fun</td>\n",
       "      <td>having fun</td>\n",
       "      <td>unranked</td>\n",
       "      <td>0.0</td>\n",
       "      <td>1.0</td>\n",
       "      <td>0.0</td>\n",
       "      <td>0.0</td>\n",
       "      <td>1.0</td>\n",
       "      <td>0.0</td>\n",
       "      <td>0.0</td>\n",
       "      <td>1.0</td>\n",
       "      <td>0.0</td>\n",
       "      <td>0.0</td>\n",
       "      <td>0.0</td>\n",
       "      <td>0.0</td>\n",
       "      <td>0.0</td>\n",
       "      <td>0.0</td>\n",
       "      <td>1.0</td>\n",
       "      <td>0.0</td>\n",
       "      <td>1.0</td>\n",
       "      <td>0.0</td>\n",
       "      <td>1.0</td>\n",
       "      <td>Male</td>\n",
       "      <td>25</td>\n",
       "      <td>Unemployed / between jobs</td>\n",
       "      <td>Bachelor (or equivalent)</td>\n",
       "      <td>USA</td>\n",
       "      <td>Reddit</td>\n",
       "      <td>singleplayer</td>\n",
       "      <td>Accept</td>\n",
       "      <td>1</td>\n",
       "      <td>23</td>\n",
       "      <td>5.0</td>\n",
       "      <td>USA</td>\n",
       "    </tr>\n",
       "    <tr>\n",
       "      <th>1</th>\n",
       "      <td>1</td>\n",
       "      <td>2</td>\n",
       "      <td>2</td>\n",
       "      <td>2</td>\n",
       "      <td>0</td>\n",
       "      <td>1</td>\n",
       "      <td>0</td>\n",
       "      <td>Somewhat difficult</td>\n",
       "      <td>3</td>\n",
       "      <td>5</td>\n",
       "      <td>2</td>\n",
       "      <td>5</td>\n",
       "      <td>1</td>\n",
       "      <td>Other</td>\n",
       "      <td>PC</td>\n",
       "      <td>8.0</td>\n",
       "      <td>i play for fun</td>\n",
       "      <td>having fun</td>\n",
       "      <td>unranked</td>\n",
       "      <td>2.0</td>\n",
       "      <td>2.0</td>\n",
       "      <td>1.0</td>\n",
       "      <td>1.0</td>\n",
       "      <td>3.0</td>\n",
       "      <td>2.0</td>\n",
       "      <td>3.0</td>\n",
       "      <td>1.0</td>\n",
       "      <td>3.0</td>\n",
       "      <td>4.0</td>\n",
       "      <td>0.0</td>\n",
       "      <td>3.0</td>\n",
       "      <td>0.0</td>\n",
       "      <td>1.0</td>\n",
       "      <td>3.0</td>\n",
       "      <td>3.0</td>\n",
       "      <td>1.0</td>\n",
       "      <td>2.0</td>\n",
       "      <td>1.0</td>\n",
       "      <td>Male</td>\n",
       "      <td>41</td>\n",
       "      <td>Unemployed / between jobs</td>\n",
       "      <td>Bachelor (or equivalent)</td>\n",
       "      <td>USA</td>\n",
       "      <td>Reddit</td>\n",
       "      <td>multiplayer  online  with strangers</td>\n",
       "      <td>Accept</td>\n",
       "      <td>8</td>\n",
       "      <td>16</td>\n",
       "      <td>33.0</td>\n",
       "      <td>USA</td>\n",
       "    </tr>\n",
       "    <tr>\n",
       "      <th>3</th>\n",
       "      <td>0</td>\n",
       "      <td>0</td>\n",
       "      <td>0</td>\n",
       "      <td>0</td>\n",
       "      <td>0</td>\n",
       "      <td>0</td>\n",
       "      <td>0</td>\n",
       "      <td>Not difficult at all</td>\n",
       "      <td>2</td>\n",
       "      <td>5</td>\n",
       "      <td>5</td>\n",
       "      <td>3</td>\n",
       "      <td>2</td>\n",
       "      <td>Other</td>\n",
       "      <td>PC</td>\n",
       "      <td>20.0</td>\n",
       "      <td>i play for fun</td>\n",
       "      <td>improving</td>\n",
       "      <td>gold</td>\n",
       "      <td>5.0</td>\n",
       "      <td>2.0</td>\n",
       "      <td>0.0</td>\n",
       "      <td>0.0</td>\n",
       "      <td>1.0</td>\n",
       "      <td>3.0</td>\n",
       "      <td>0.0</td>\n",
       "      <td>0.0</td>\n",
       "      <td>0.0</td>\n",
       "      <td>0.0</td>\n",
       "      <td>0.0</td>\n",
       "      <td>1.0</td>\n",
       "      <td>3.0</td>\n",
       "      <td>0.0</td>\n",
       "      <td>0.0</td>\n",
       "      <td>1.0</td>\n",
       "      <td>0.0</td>\n",
       "      <td>0.0</td>\n",
       "      <td>2.0</td>\n",
       "      <td>Male</td>\n",
       "      <td>28</td>\n",
       "      <td>Employed</td>\n",
       "      <td>Bachelor (or equivalent)</td>\n",
       "      <td>USA</td>\n",
       "      <td>Reddit</td>\n",
       "      <td>multiplayer  online  with online acquaintances...</td>\n",
       "      <td>Accept</td>\n",
       "      <td>0</td>\n",
       "      <td>17</td>\n",
       "      <td>11.0</td>\n",
       "      <td>USA</td>\n",
       "    </tr>\n",
       "    <tr>\n",
       "      <th>4</th>\n",
       "      <td>2</td>\n",
       "      <td>1</td>\n",
       "      <td>2</td>\n",
       "      <td>2</td>\n",
       "      <td>2</td>\n",
       "      <td>3</td>\n",
       "      <td>2</td>\n",
       "      <td>Very difficult</td>\n",
       "      <td>2</td>\n",
       "      <td>2</td>\n",
       "      <td>4</td>\n",
       "      <td>5</td>\n",
       "      <td>1</td>\n",
       "      <td>Other</td>\n",
       "      <td>Console (PS, Xbox, ...)</td>\n",
       "      <td>20.0</td>\n",
       "      <td>i play for fun</td>\n",
       "      <td>having fun</td>\n",
       "      <td>unranked</td>\n",
       "      <td>1.0</td>\n",
       "      <td>2.0</td>\n",
       "      <td>0.0</td>\n",
       "      <td>0.0</td>\n",
       "      <td>0.0</td>\n",
       "      <td>1.0</td>\n",
       "      <td>0.0</td>\n",
       "      <td>0.0</td>\n",
       "      <td>4.0</td>\n",
       "      <td>2.0</td>\n",
       "      <td>0.0</td>\n",
       "      <td>1.0</td>\n",
       "      <td>0.0</td>\n",
       "      <td>0.0</td>\n",
       "      <td>0.0</td>\n",
       "      <td>0.0</td>\n",
       "      <td>3.0</td>\n",
       "      <td>0.0</td>\n",
       "      <td>1.0</td>\n",
       "      <td>Male</td>\n",
       "      <td>19</td>\n",
       "      <td>Employed</td>\n",
       "      <td>High school diploma (or equivalent)</td>\n",
       "      <td>South Korea</td>\n",
       "      <td>Reddit</td>\n",
       "      <td>multiplayer  online  with strangers</td>\n",
       "      <td>Accept</td>\n",
       "      <td>14</td>\n",
       "      <td>14</td>\n",
       "      <td>13.0</td>\n",
       "      <td>KOR</td>\n",
       "    </tr>\n",
       "    <tr>\n",
       "      <th>5</th>\n",
       "      <td>0</td>\n",
       "      <td>0</td>\n",
       "      <td>0</td>\n",
       "      <td>0</td>\n",
       "      <td>0</td>\n",
       "      <td>1</td>\n",
       "      <td>0</td>\n",
       "      <td>Not difficult at all</td>\n",
       "      <td>3</td>\n",
       "      <td>5</td>\n",
       "      <td>3</td>\n",
       "      <td>3</td>\n",
       "      <td>3</td>\n",
       "      <td>Other</td>\n",
       "      <td>Console (PS, Xbox, ...)</td>\n",
       "      <td>4.0</td>\n",
       "      <td>i play for fun</td>\n",
       "      <td>relaxing</td>\n",
       "      <td>gold</td>\n",
       "      <td>0.0</td>\n",
       "      <td>1.0</td>\n",
       "      <td>1.0</td>\n",
       "      <td>2.0</td>\n",
       "      <td>3.0</td>\n",
       "      <td>2.0</td>\n",
       "      <td>1.0</td>\n",
       "      <td>0.0</td>\n",
       "      <td>0.0</td>\n",
       "      <td>0.0</td>\n",
       "      <td>1.0</td>\n",
       "      <td>0.0</td>\n",
       "      <td>0.0</td>\n",
       "      <td>0.0</td>\n",
       "      <td>1.0</td>\n",
       "      <td>1.0</td>\n",
       "      <td>0.0</td>\n",
       "      <td>0.0</td>\n",
       "      <td>2.0</td>\n",
       "      <td>Male</td>\n",
       "      <td>24</td>\n",
       "      <td>Employed</td>\n",
       "      <td>Bachelor (or equivalent)</td>\n",
       "      <td>USA</td>\n",
       "      <td>Reddit</td>\n",
       "      <td>multiplayer  online  with real life friends</td>\n",
       "      <td>Accept</td>\n",
       "      <td>1</td>\n",
       "      <td>17</td>\n",
       "      <td>13.0</td>\n",
       "      <td>USA</td>\n",
       "    </tr>\n",
       "    <tr>\n",
       "      <th>6</th>\n",
       "      <td>0</td>\n",
       "      <td>0</td>\n",
       "      <td>0</td>\n",
       "      <td>0</td>\n",
       "      <td>0</td>\n",
       "      <td>0</td>\n",
       "      <td>0</td>\n",
       "      <td>Not difficult at all</td>\n",
       "      <td>3</td>\n",
       "      <td>4</td>\n",
       "      <td>4</td>\n",
       "      <td>3</td>\n",
       "      <td>2</td>\n",
       "      <td>Other</td>\n",
       "      <td>PC</td>\n",
       "      <td>30.0</td>\n",
       "      <td>i play for fun</td>\n",
       "      <td>relaxing</td>\n",
       "      <td>gold</td>\n",
       "      <td>8.0</td>\n",
       "      <td>1.0</td>\n",
       "      <td>2.0</td>\n",
       "      <td>2.0</td>\n",
       "      <td>3.0</td>\n",
       "      <td>1.0</td>\n",
       "      <td>1.0</td>\n",
       "      <td>1.0</td>\n",
       "      <td>2.0</td>\n",
       "      <td>3.0</td>\n",
       "      <td>1.0</td>\n",
       "      <td>3.0</td>\n",
       "      <td>1.0</td>\n",
       "      <td>0.0</td>\n",
       "      <td>1.0</td>\n",
       "      <td>2.0</td>\n",
       "      <td>1.0</td>\n",
       "      <td>1.0</td>\n",
       "      <td>2.0</td>\n",
       "      <td>Male</td>\n",
       "      <td>29</td>\n",
       "      <td>Employed</td>\n",
       "      <td>High school diploma (or equivalent)</td>\n",
       "      <td>USA</td>\n",
       "      <td>Reddit</td>\n",
       "      <td>multiplayer  online  with online acquaintances...</td>\n",
       "      <td>Accept</td>\n",
       "      <td>0</td>\n",
       "      <td>16</td>\n",
       "      <td>26.0</td>\n",
       "      <td>USA</td>\n",
       "    </tr>\n",
       "    <tr>\n",
       "      <th>7</th>\n",
       "      <td>0</td>\n",
       "      <td>0</td>\n",
       "      <td>0</td>\n",
       "      <td>0</td>\n",
       "      <td>0</td>\n",
       "      <td>0</td>\n",
       "      <td>0</td>\n",
       "      <td>Somewhat difficult</td>\n",
       "      <td>3</td>\n",
       "      <td>6</td>\n",
       "      <td>4</td>\n",
       "      <td>3</td>\n",
       "      <td>7</td>\n",
       "      <td>Other</td>\n",
       "      <td>Console (PS, Xbox, ...)</td>\n",
       "      <td>25.0</td>\n",
       "      <td>i play for fun</td>\n",
       "      <td>having fun</td>\n",
       "      <td>unranked</td>\n",
       "      <td>0.0</td>\n",
       "      <td>0.0</td>\n",
       "      <td>0.0</td>\n",
       "      <td>0.0</td>\n",
       "      <td>0.0</td>\n",
       "      <td>0.0</td>\n",
       "      <td>0.0</td>\n",
       "      <td>0.0</td>\n",
       "      <td>0.0</td>\n",
       "      <td>0.0</td>\n",
       "      <td>0.0</td>\n",
       "      <td>0.0</td>\n",
       "      <td>0.0</td>\n",
       "      <td>0.0</td>\n",
       "      <td>0.0</td>\n",
       "      <td>0.0</td>\n",
       "      <td>0.0</td>\n",
       "      <td>0.0</td>\n",
       "      <td>5.0</td>\n",
       "      <td>Female</td>\n",
       "      <td>23</td>\n",
       "      <td>Employed</td>\n",
       "      <td>Bachelor (or equivalent)</td>\n",
       "      <td>Japan</td>\n",
       "      <td>Reddit</td>\n",
       "      <td>singleplayer</td>\n",
       "      <td>Accept</td>\n",
       "      <td>0</td>\n",
       "      <td>23</td>\n",
       "      <td>14.0</td>\n",
       "      <td>JPN</td>\n",
       "    </tr>\n",
       "  </tbody>\n",
       "</table>\n",
       "</div>"
      ],
      "text/plain": [
       "   GAD1  GAD2  GAD3  GAD4  GAD5  GAD6  GAD7                  GADE  SWL1  SWL2  \\\n",
       "0     0     0     0     0     1     0     0  Not difficult at all     3     5   \n",
       "1     1     2     2     2     0     1     0    Somewhat difficult     3     5   \n",
       "3     0     0     0     0     0     0     0  Not difficult at all     2     5   \n",
       "4     2     1     2     2     2     3     2        Very difficult     2     2   \n",
       "5     0     0     0     0     0     1     0  Not difficult at all     3     5   \n",
       "6     0     0     0     0     0     0     0  Not difficult at all     3     4   \n",
       "7     0     0     0     0     0     0     0    Somewhat difficult     3     6   \n",
       "\n",
       "   SWL3  SWL4  SWL5    Game                 Platform  Hours        earnings  \\\n",
       "0     5     5     5  Skyrim  Console (PS, Xbox, ...)   15.0  i play for fun   \n",
       "1     2     5     1   Other                       PC    8.0  i play for fun   \n",
       "3     5     3     2   Other                       PC   20.0  i play for fun   \n",
       "4     4     5     1   Other  Console (PS, Xbox, ...)   20.0  i play for fun   \n",
       "5     3     3     3   Other  Console (PS, Xbox, ...)    4.0  i play for fun   \n",
       "6     4     3     2   Other                       PC   30.0  i play for fun   \n",
       "7     4     3     7   Other  Console (PS, Xbox, ...)   25.0  i play for fun   \n",
       "\n",
       "      whyplay    League  streams  SPIN1  SPIN2  SPIN3  SPIN4  SPIN5  SPIN6  \\\n",
       "0  having fun  unranked      0.0    1.0    0.0    0.0    1.0    0.0    0.0   \n",
       "1  having fun  unranked      2.0    2.0    1.0    1.0    3.0    2.0    3.0   \n",
       "3   improving      gold      5.0    2.0    0.0    0.0    1.0    3.0    0.0   \n",
       "4  having fun  unranked      1.0    2.0    0.0    0.0    0.0    1.0    0.0   \n",
       "5    relaxing      gold      0.0    1.0    1.0    2.0    3.0    2.0    1.0   \n",
       "6    relaxing      gold      8.0    1.0    2.0    2.0    3.0    1.0    1.0   \n",
       "7  having fun  unranked      0.0    0.0    0.0    0.0    0.0    0.0    0.0   \n",
       "\n",
       "   SPIN7  SPIN8  SPIN9  SPIN10  SPIN11  SPIN12  SPIN13  SPIN14  SPIN15  \\\n",
       "0    1.0    0.0    0.0     0.0     0.0     0.0     0.0     1.0     0.0   \n",
       "1    1.0    3.0    4.0     0.0     3.0     0.0     1.0     3.0     3.0   \n",
       "3    0.0    0.0    0.0     0.0     1.0     3.0     0.0     0.0     1.0   \n",
       "4    0.0    4.0    2.0     0.0     1.0     0.0     0.0     0.0     0.0   \n",
       "5    0.0    0.0    0.0     1.0     0.0     0.0     0.0     1.0     1.0   \n",
       "6    1.0    2.0    3.0     1.0     3.0     1.0     0.0     1.0     2.0   \n",
       "7    0.0    0.0    0.0     0.0     0.0     0.0     0.0     0.0     0.0   \n",
       "\n",
       "   SPIN16  SPIN17  Narcissism  Gender  Age                       Work  \\\n",
       "0     1.0     0.0         1.0    Male   25  Unemployed / between jobs   \n",
       "1     1.0     2.0         1.0    Male   41  Unemployed / between jobs   \n",
       "3     0.0     0.0         2.0    Male   28                   Employed   \n",
       "4     3.0     0.0         1.0    Male   19                   Employed   \n",
       "5     0.0     0.0         2.0    Male   24                   Employed   \n",
       "6     1.0     1.0         2.0    Male   29                   Employed   \n",
       "7     0.0     0.0         5.0  Female   23                   Employed   \n",
       "\n",
       "                                Degree    Residence Reference  \\\n",
       "0             Bachelor (or equivalent)          USA    Reddit   \n",
       "1             Bachelor (or equivalent)          USA    Reddit   \n",
       "3             Bachelor (or equivalent)          USA    Reddit   \n",
       "4  High school diploma (or equivalent)  South Korea    Reddit   \n",
       "5             Bachelor (or equivalent)          USA    Reddit   \n",
       "6  High school diploma (or equivalent)          USA    Reddit   \n",
       "7             Bachelor (or equivalent)        Japan    Reddit   \n",
       "\n",
       "                                           Playstyle  accept  GAD_T  SWL_T  \\\n",
       "0                                       singleplayer  Accept      1     23   \n",
       "1                multiplayer  online  with strangers  Accept      8     16   \n",
       "3  multiplayer  online  with online acquaintances...  Accept      0     17   \n",
       "4                multiplayer  online  with strangers  Accept     14     14   \n",
       "5        multiplayer  online  with real life friends  Accept      1     17   \n",
       "6  multiplayer  online  with online acquaintances...  Accept      0     16   \n",
       "7                                       singleplayer  Accept      0     23   \n",
       "\n",
       "   SPIN_T Residence_ISO3  \n",
       "0     5.0            USA  \n",
       "1    33.0            USA  \n",
       "3    11.0            USA  \n",
       "4    13.0            KOR  \n",
       "5    13.0            USA  \n",
       "6    26.0            USA  \n",
       "7    14.0            JPN  "
      ]
     },
     "execution_count": 54,
     "metadata": {},
     "output_type": "execute_result"
    }
   ],
   "source": [
    "df.head(7)"
   ]
  },
  {
   "cell_type": "code",
   "execution_count": 55,
   "id": "454c7ed0",
   "metadata": {
    "execution": {
     "iopub.execute_input": "2022-10-27T02:30:18.637364Z",
     "iopub.status.busy": "2022-10-27T02:30:18.635893Z",
     "iopub.status.idle": "2022-10-27T02:30:18.656423Z",
     "shell.execute_reply": "2022-10-27T02:30:18.655650Z"
    },
    "papermill": {
     "duration": 0.060549,
     "end_time": "2022-10-27T02:30:18.658883",
     "exception": false,
     "start_time": "2022-10-27T02:30:18.598334",
     "status": "completed"
    },
    "scrolled": true,
    "tags": []
   },
   "outputs": [
    {
     "data": {
      "text/plain": [
       "GAD1               0\n",
       "GAD2               0\n",
       "GAD3               0\n",
       "GAD4               0\n",
       "GAD5               0\n",
       "GAD6               0\n",
       "GAD7               0\n",
       "GADE               0\n",
       "SWL1               0\n",
       "SWL2               0\n",
       "SWL3               0\n",
       "SWL4               0\n",
       "SWL5               0\n",
       "Game               0\n",
       "Platform           0\n",
       "Hours              0\n",
       "earnings           0\n",
       "whyplay            0\n",
       "League             0\n",
       "streams            0\n",
       "SPIN1              0\n",
       "SPIN2              0\n",
       "SPIN3              0\n",
       "SPIN4              0\n",
       "SPIN5              0\n",
       "SPIN6              0\n",
       "SPIN7              0\n",
       "SPIN8              0\n",
       "SPIN9              0\n",
       "SPIN10             0\n",
       "SPIN11             0\n",
       "SPIN12             0\n",
       "SPIN13             0\n",
       "SPIN14             0\n",
       "SPIN15             0\n",
       "SPIN16             0\n",
       "SPIN17             0\n",
       "Narcissism        23\n",
       "Gender             0\n",
       "Age                0\n",
       "Work              37\n",
       "Degree             0\n",
       "Residence          0\n",
       "Reference          0\n",
       "Playstyle          0\n",
       "accept             0\n",
       "GAD_T              0\n",
       "SWL_T              0\n",
       "SPIN_T             0\n",
       "Residence_ISO3     0\n",
       "dtype: int64"
      ]
     },
     "execution_count": 55,
     "metadata": {},
     "output_type": "execute_result"
    }
   ],
   "source": [
    "df.isnull().sum()"
   ]
  },
  {
   "cell_type": "code",
   "execution_count": 56,
   "id": "3ce19d42",
   "metadata": {
    "execution": {
     "iopub.execute_input": "2022-10-27T02:30:18.736321Z",
     "iopub.status.busy": "2022-10-27T02:30:18.735717Z",
     "iopub.status.idle": "2022-10-27T02:30:18.744262Z",
     "shell.execute_reply": "2022-10-27T02:30:18.742808Z"
    },
    "papermill": {
     "duration": 0.051224,
     "end_time": "2022-10-27T02:30:18.747363",
     "exception": false,
     "start_time": "2022-10-27T02:30:18.696139",
     "status": "completed"
    },
    "tags": []
   },
   "outputs": [],
   "source": [
    "df.Work.fillna(df.Work.mode()[0] , inplace=True)"
   ]
  },
  {
   "cell_type": "code",
   "execution_count": 57,
   "id": "fdaa5793",
   "metadata": {
    "execution": {
     "iopub.execute_input": "2022-10-27T02:30:18.827859Z",
     "iopub.status.busy": "2022-10-27T02:30:18.827100Z",
     "iopub.status.idle": "2022-10-27T02:30:18.836405Z",
     "shell.execute_reply": "2022-10-27T02:30:18.834937Z"
    },
    "papermill": {
     "duration": 0.054297,
     "end_time": "2022-10-27T02:30:18.839498",
     "exception": false,
     "start_time": "2022-10-27T02:30:18.785201",
     "status": "completed"
    },
    "tags": []
   },
   "outputs": [],
   "source": [
    "df.drop(['Residence' , 'accept'] , axis = 1 , inplace = True)"
   ]
  },
  {
   "cell_type": "code",
   "execution_count": 58,
   "id": "135d6be6",
   "metadata": {
    "execution": {
     "iopub.execute_input": "2022-10-27T02:30:18.918999Z",
     "iopub.status.busy": "2022-10-27T02:30:18.918296Z",
     "iopub.status.idle": "2022-10-27T02:30:18.929082Z",
     "shell.execute_reply": "2022-10-27T02:30:18.927941Z"
    },
    "papermill": {
     "duration": 0.053201,
     "end_time": "2022-10-27T02:30:18.931504",
     "exception": false,
     "start_time": "2022-10-27T02:30:18.878303",
     "status": "completed"
    },
    "scrolled": true,
    "tags": []
   },
   "outputs": [
    {
     "data": {
      "text/plain": [
       "GAD1                int64\n",
       "GAD2                int64\n",
       "GAD3                int64\n",
       "GAD4                int64\n",
       "GAD5                int64\n",
       "GAD6                int64\n",
       "GAD7                int64\n",
       "GADE               object\n",
       "SWL1                int64\n",
       "SWL2                int64\n",
       "SWL3                int64\n",
       "SWL4                int64\n",
       "SWL5                int64\n",
       "Game               object\n",
       "Platform           object\n",
       "Hours             float64\n",
       "earnings           object\n",
       "whyplay            object\n",
       "League             object\n",
       "streams           float64\n",
       "SPIN1             float64\n",
       "SPIN2             float64\n",
       "SPIN3             float64\n",
       "SPIN4             float64\n",
       "SPIN5             float64\n",
       "SPIN6             float64\n",
       "SPIN7             float64\n",
       "SPIN8             float64\n",
       "SPIN9             float64\n",
       "SPIN10            float64\n",
       "SPIN11            float64\n",
       "SPIN12            float64\n",
       "SPIN13            float64\n",
       "SPIN14            float64\n",
       "SPIN15            float64\n",
       "SPIN16            float64\n",
       "SPIN17            float64\n",
       "Narcissism        float64\n",
       "Gender             object\n",
       "Age                 int64\n",
       "Work               object\n",
       "Degree             object\n",
       "Reference          object\n",
       "Playstyle          object\n",
       "GAD_T               int64\n",
       "SWL_T               int64\n",
       "SPIN_T            float64\n",
       "Residence_ISO3     object\n",
       "dtype: object"
      ]
     },
     "execution_count": 58,
     "metadata": {},
     "output_type": "execute_result"
    }
   ],
   "source": [
    "df.dtypes"
   ]
  },
  {
   "cell_type": "code",
   "execution_count": 59,
   "id": "72e2a735",
   "metadata": {
    "execution": {
     "iopub.execute_input": "2022-10-27T02:30:19.010501Z",
     "iopub.status.busy": "2022-10-27T02:30:19.010016Z",
     "iopub.status.idle": "2022-10-27T02:30:19.145494Z",
     "shell.execute_reply": "2022-10-27T02:30:19.144285Z"
    },
    "papermill": {
     "duration": 0.178256,
     "end_time": "2022-10-27T02:30:19.147896",
     "exception": false,
     "start_time": "2022-10-27T02:30:18.969640",
     "status": "completed"
    },
    "tags": []
   },
   "outputs": [
    {
     "data": {
      "text/plain": [
       "i play for fun                                                                           11708\n",
       "i play mostly for fun but earn a little on the side tournament winnings streaming etc      957\n",
       "Other                                                                                      294\n",
       "i earn a living by playing this game                                                        39\n",
       "Name: earnings, dtype: int64"
      ]
     },
     "execution_count": 59,
     "metadata": {},
     "output_type": "execute_result"
    }
   ],
   "source": [
    "df.earnings.replace(df.earnings.value_counts().index[3:] , 'Other',inplace=True)\n",
    "df['earnings'].value_counts()"
   ]
  },
  {
   "cell_type": "code",
   "execution_count": 60,
   "id": "2c7c9fc0",
   "metadata": {
    "execution": {
     "iopub.execute_input": "2022-10-27T02:30:19.224287Z",
     "iopub.status.busy": "2022-10-27T02:30:19.223857Z",
     "iopub.status.idle": "2022-10-27T02:30:19.374377Z",
     "shell.execute_reply": "2022-10-27T02:30:19.373174Z"
    },
    "papermill": {
     "duration": 0.192034,
     "end_time": "2022-10-27T02:30:19.376924",
     "exception": false,
     "start_time": "2022-10-27T02:30:19.184890",
     "status": "completed"
    },
    "tags": []
   },
   "outputs": [
    {
     "data": {
      "text/plain": [
       "having fun          5138\n",
       "improving           4728\n",
       "winning             2018\n",
       "relaxing             630\n",
       "Other                428\n",
       "all of the above      56\n",
       "Name: whyplay, dtype: int64"
      ]
     },
     "execution_count": 60,
     "metadata": {},
     "output_type": "execute_result"
    }
   ],
   "source": [
    "df.whyplay.replace(df.whyplay.value_counts().index[5:] , 'Other',inplace=True)\n",
    "df['whyplay'].value_counts()"
   ]
  },
  {
   "cell_type": "code",
   "execution_count": 61,
   "id": "a916f2d5",
   "metadata": {
    "execution": {
     "iopub.execute_input": "2022-10-27T02:30:19.452422Z",
     "iopub.status.busy": "2022-10-27T02:30:19.452040Z",
     "iopub.status.idle": "2022-10-27T02:30:19.580076Z",
     "shell.execute_reply": "2022-10-27T02:30:19.578841Z"
    },
    "papermill": {
     "duration": 0.168899,
     "end_time": "2022-10-27T02:30:19.582744",
     "exception": false,
     "start_time": "2022-10-27T02:30:19.413845",
     "status": "completed"
    },
    "tags": []
   },
   "outputs": [
    {
     "data": {
      "text/plain": [
       "multiplayer  online  with real life friends                    5428\n",
       "multiplayer  online  with strangers                            3969\n",
       "multiplayer  online  with online acquaintances or teammates    2545\n",
       "singleplayer                                                    720\n",
       "Other                                                           292\n",
       "multiplayer  offline people in the same room                     44\n",
       "Name: Playstyle, dtype: int64"
      ]
     },
     "execution_count": 61,
     "metadata": {},
     "output_type": "execute_result"
    }
   ],
   "source": [
    "df.Playstyle.replace(df.Playstyle.value_counts().index[5:] , 'Other',inplace=True)\n",
    "df['Playstyle'].value_counts()"
   ]
  },
  {
   "cell_type": "code",
   "execution_count": 62,
   "id": "de389afd",
   "metadata": {
    "execution": {
     "iopub.execute_input": "2022-10-27T02:30:19.658803Z",
     "iopub.status.busy": "2022-10-27T02:30:19.658390Z",
     "iopub.status.idle": "2022-10-27T02:30:19.668507Z",
     "shell.execute_reply": "2022-10-27T02:30:19.667637Z"
    },
    "papermill": {
     "duration": 0.050917,
     "end_time": "2022-10-27T02:30:19.670763",
     "exception": false,
     "start_time": "2022-10-27T02:30:19.619846",
     "status": "completed"
    },
    "tags": []
   },
   "outputs": [],
   "source": [
    "df.Playstyle.replace('Other' , np.nan , inplace=True)\n",
    "df.whyplay.replace('Other' , np.nan , inplace=True)\n",
    "df.earnings.replace('Other' , np.nan , inplace=True)"
   ]
  },
  {
   "cell_type": "code",
   "execution_count": 63,
   "id": "e3a7587c",
   "metadata": {
    "execution": {
     "iopub.execute_input": "2022-10-27T02:30:19.752852Z",
     "iopub.status.busy": "2022-10-27T02:30:19.751595Z",
     "iopub.status.idle": "2022-10-27T02:30:19.771140Z",
     "shell.execute_reply": "2022-10-27T02:30:19.769923Z"
    },
    "papermill": {
     "duration": 0.06302,
     "end_time": "2022-10-27T02:30:19.774328",
     "exception": false,
     "start_time": "2022-10-27T02:30:19.711308",
     "status": "completed"
    },
    "tags": []
   },
   "outputs": [
    {
     "data": {
      "text/plain": [
       "GAD1                0\n",
       "GAD2                0\n",
       "GAD3                0\n",
       "GAD4                0\n",
       "GAD5                0\n",
       "GAD6                0\n",
       "GAD7                0\n",
       "GADE                0\n",
       "SWL1                0\n",
       "SWL2                0\n",
       "SWL3                0\n",
       "SWL4                0\n",
       "SWL5                0\n",
       "Game                0\n",
       "Platform            0\n",
       "Hours               0\n",
       "earnings          294\n",
       "whyplay           428\n",
       "League              0\n",
       "streams             0\n",
       "SPIN1               0\n",
       "SPIN2               0\n",
       "SPIN3               0\n",
       "SPIN4               0\n",
       "SPIN5               0\n",
       "SPIN6               0\n",
       "SPIN7               0\n",
       "SPIN8               0\n",
       "SPIN9               0\n",
       "SPIN10              0\n",
       "SPIN11              0\n",
       "SPIN12              0\n",
       "SPIN13              0\n",
       "SPIN14              0\n",
       "SPIN15              0\n",
       "SPIN16              0\n",
       "SPIN17              0\n",
       "Narcissism         23\n",
       "Gender              0\n",
       "Age                 0\n",
       "Work                0\n",
       "Degree              0\n",
       "Reference           0\n",
       "Playstyle         292\n",
       "GAD_T               0\n",
       "SWL_T               0\n",
       "SPIN_T              0\n",
       "Residence_ISO3      0\n",
       "dtype: int64"
      ]
     },
     "execution_count": 63,
     "metadata": {},
     "output_type": "execute_result"
    }
   ],
   "source": [
    "df.isnull().sum()"
   ]
  },
  {
   "cell_type": "code",
   "execution_count": 64,
   "id": "24b56fa2",
   "metadata": {
    "execution": {
     "iopub.execute_input": "2022-10-27T02:30:19.857447Z",
     "iopub.status.busy": "2022-10-27T02:30:19.856720Z",
     "iopub.status.idle": "2022-10-27T02:30:19.878623Z",
     "shell.execute_reply": "2022-10-27T02:30:19.877288Z"
    },
    "papermill": {
     "duration": 0.066006,
     "end_time": "2022-10-27T02:30:19.881432",
     "exception": false,
     "start_time": "2022-10-27T02:30:19.815426",
     "status": "completed"
    },
    "tags": []
   },
   "outputs": [],
   "source": [
    "df.dropna(inplace=True)"
   ]
  },
  {
   "cell_type": "code",
   "execution_count": 65,
   "id": "95899a6e",
   "metadata": {
    "execution": {
     "iopub.execute_input": "2022-10-27T02:30:19.958122Z",
     "iopub.status.busy": "2022-10-27T02:30:19.957728Z",
     "iopub.status.idle": "2022-10-27T02:30:19.963897Z",
     "shell.execute_reply": "2022-10-27T02:30:19.963142Z"
    },
    "papermill": {
     "duration": 0.047501,
     "end_time": "2022-10-27T02:30:19.966204",
     "exception": false,
     "start_time": "2022-10-27T02:30:19.918703",
     "status": "completed"
    },
    "tags": []
   },
   "outputs": [
    {
     "data": {
      "text/plain": [
       "(12081, 48)"
      ]
     },
     "execution_count": 65,
     "metadata": {},
     "output_type": "execute_result"
    }
   ],
   "source": [
    "df.shape"
   ]
  },
  {
   "cell_type": "code",
   "execution_count": 66,
   "id": "e393bbce",
   "metadata": {
    "execution": {
     "iopub.execute_input": "2022-10-27T02:30:20.125099Z",
     "iopub.status.busy": "2022-10-27T02:30:20.124705Z",
     "iopub.status.idle": "2022-10-27T02:30:20.129849Z",
     "shell.execute_reply": "2022-10-27T02:30:20.128565Z"
    },
    "papermill": {
     "duration": 0.046939,
     "end_time": "2022-10-27T02:30:20.132406",
     "exception": false,
     "start_time": "2022-10-27T02:30:20.085467",
     "status": "completed"
    },
    "tags": []
   },
   "outputs": [],
   "source": [
    "plt.rcParams['font.size'] = 15\n",
    "plt.rcParams['font.family'] = 'Arial'\n",
    "plt.rcParams['font.weight'] = 'bold'"
   ]
  },
  {
   "cell_type": "code",
   "execution_count": 67,
   "id": "29bb9130",
   "metadata": {
    "execution": {
     "iopub.execute_input": "2022-10-27T02:30:20.209763Z",
     "iopub.status.busy": "2022-10-27T02:30:20.209354Z",
     "iopub.status.idle": "2022-10-27T02:30:20.246612Z",
     "shell.execute_reply": "2022-10-27T02:30:20.245341Z"
    },
    "papermill": {
     "duration": 0.078308,
     "end_time": "2022-10-27T02:30:20.249038",
     "exception": false,
     "start_time": "2022-10-27T02:30:20.170730",
     "status": "completed"
    },
    "tags": []
   },
   "outputs": [
    {
     "data": {
      "text/html": [
       "<div>\n",
       "<style scoped>\n",
       "    .dataframe tbody tr th:only-of-type {\n",
       "        vertical-align: middle;\n",
       "    }\n",
       "\n",
       "    .dataframe tbody tr th {\n",
       "        vertical-align: top;\n",
       "    }\n",
       "\n",
       "    .dataframe thead th {\n",
       "        text-align: right;\n",
       "    }\n",
       "</style>\n",
       "<table border=\"1\" class=\"dataframe\">\n",
       "  <thead>\n",
       "    <tr style=\"text-align: right;\">\n",
       "      <th></th>\n",
       "      <th>GAD1</th>\n",
       "      <th>GAD2</th>\n",
       "      <th>GAD3</th>\n",
       "      <th>GAD4</th>\n",
       "      <th>GAD5</th>\n",
       "      <th>GAD6</th>\n",
       "      <th>GAD7</th>\n",
       "      <th>GADE</th>\n",
       "      <th>SWL1</th>\n",
       "      <th>SWL2</th>\n",
       "      <th>SWL3</th>\n",
       "      <th>SWL4</th>\n",
       "      <th>SWL5</th>\n",
       "      <th>Game</th>\n",
       "      <th>Platform</th>\n",
       "      <th>Hours</th>\n",
       "      <th>earnings</th>\n",
       "      <th>whyplay</th>\n",
       "      <th>League</th>\n",
       "      <th>streams</th>\n",
       "      <th>SPIN1</th>\n",
       "      <th>SPIN2</th>\n",
       "      <th>SPIN3</th>\n",
       "      <th>SPIN4</th>\n",
       "      <th>SPIN5</th>\n",
       "      <th>SPIN6</th>\n",
       "      <th>SPIN7</th>\n",
       "      <th>SPIN8</th>\n",
       "      <th>SPIN9</th>\n",
       "      <th>SPIN10</th>\n",
       "      <th>SPIN11</th>\n",
       "      <th>SPIN12</th>\n",
       "      <th>SPIN13</th>\n",
       "      <th>SPIN14</th>\n",
       "      <th>SPIN15</th>\n",
       "      <th>SPIN16</th>\n",
       "      <th>SPIN17</th>\n",
       "      <th>Narcissism</th>\n",
       "      <th>Gender</th>\n",
       "      <th>Age</th>\n",
       "      <th>Work</th>\n",
       "      <th>Degree</th>\n",
       "      <th>Reference</th>\n",
       "      <th>Playstyle</th>\n",
       "      <th>GAD_T</th>\n",
       "      <th>SWL_T</th>\n",
       "      <th>SPIN_T</th>\n",
       "      <th>Residence_ISO3</th>\n",
       "    </tr>\n",
       "  </thead>\n",
       "  <tbody>\n",
       "    <tr>\n",
       "      <th>0</th>\n",
       "      <td>0</td>\n",
       "      <td>0</td>\n",
       "      <td>0</td>\n",
       "      <td>0</td>\n",
       "      <td>1</td>\n",
       "      <td>0</td>\n",
       "      <td>0</td>\n",
       "      <td>Not difficult at all</td>\n",
       "      <td>3</td>\n",
       "      <td>5</td>\n",
       "      <td>5</td>\n",
       "      <td>5</td>\n",
       "      <td>5</td>\n",
       "      <td>Skyrim</td>\n",
       "      <td>Console (PS, Xbox, ...)</td>\n",
       "      <td>15.0</td>\n",
       "      <td>i play for fun</td>\n",
       "      <td>having fun</td>\n",
       "      <td>unranked</td>\n",
       "      <td>0.0</td>\n",
       "      <td>1.0</td>\n",
       "      <td>0.0</td>\n",
       "      <td>0.0</td>\n",
       "      <td>1.0</td>\n",
       "      <td>0.0</td>\n",
       "      <td>0.0</td>\n",
       "      <td>1.0</td>\n",
       "      <td>0.0</td>\n",
       "      <td>0.0</td>\n",
       "      <td>0.0</td>\n",
       "      <td>0.0</td>\n",
       "      <td>0.0</td>\n",
       "      <td>0.0</td>\n",
       "      <td>1.0</td>\n",
       "      <td>0.0</td>\n",
       "      <td>1.0</td>\n",
       "      <td>0.0</td>\n",
       "      <td>1.0</td>\n",
       "      <td>Male</td>\n",
       "      <td>25</td>\n",
       "      <td>Unemployed / between jobs</td>\n",
       "      <td>Bachelor (or equivalent)</td>\n",
       "      <td>Reddit</td>\n",
       "      <td>singleplayer</td>\n",
       "      <td>1</td>\n",
       "      <td>23</td>\n",
       "      <td>5.0</td>\n",
       "      <td>USA</td>\n",
       "    </tr>\n",
       "    <tr>\n",
       "      <th>1</th>\n",
       "      <td>1</td>\n",
       "      <td>2</td>\n",
       "      <td>2</td>\n",
       "      <td>2</td>\n",
       "      <td>0</td>\n",
       "      <td>1</td>\n",
       "      <td>0</td>\n",
       "      <td>Somewhat difficult</td>\n",
       "      <td>3</td>\n",
       "      <td>5</td>\n",
       "      <td>2</td>\n",
       "      <td>5</td>\n",
       "      <td>1</td>\n",
       "      <td>Other</td>\n",
       "      <td>PC</td>\n",
       "      <td>8.0</td>\n",
       "      <td>i play for fun</td>\n",
       "      <td>having fun</td>\n",
       "      <td>unranked</td>\n",
       "      <td>2.0</td>\n",
       "      <td>2.0</td>\n",
       "      <td>1.0</td>\n",
       "      <td>1.0</td>\n",
       "      <td>3.0</td>\n",
       "      <td>2.0</td>\n",
       "      <td>3.0</td>\n",
       "      <td>1.0</td>\n",
       "      <td>3.0</td>\n",
       "      <td>4.0</td>\n",
       "      <td>0.0</td>\n",
       "      <td>3.0</td>\n",
       "      <td>0.0</td>\n",
       "      <td>1.0</td>\n",
       "      <td>3.0</td>\n",
       "      <td>3.0</td>\n",
       "      <td>1.0</td>\n",
       "      <td>2.0</td>\n",
       "      <td>1.0</td>\n",
       "      <td>Male</td>\n",
       "      <td>41</td>\n",
       "      <td>Unemployed / between jobs</td>\n",
       "      <td>Bachelor (or equivalent)</td>\n",
       "      <td>Reddit</td>\n",
       "      <td>multiplayer  online  with strangers</td>\n",
       "      <td>8</td>\n",
       "      <td>16</td>\n",
       "      <td>33.0</td>\n",
       "      <td>USA</td>\n",
       "    </tr>\n",
       "  </tbody>\n",
       "</table>\n",
       "</div>"
      ],
      "text/plain": [
       "   GAD1  GAD2  GAD3  GAD4  GAD5  GAD6  GAD7                  GADE  SWL1  SWL2  \\\n",
       "0     0     0     0     0     1     0     0  Not difficult at all     3     5   \n",
       "1     1     2     2     2     0     1     0    Somewhat difficult     3     5   \n",
       "\n",
       "   SWL3  SWL4  SWL5    Game                 Platform  Hours        earnings  \\\n",
       "0     5     5     5  Skyrim  Console (PS, Xbox, ...)   15.0  i play for fun   \n",
       "1     2     5     1   Other                       PC    8.0  i play for fun   \n",
       "\n",
       "      whyplay    League  streams  SPIN1  SPIN2  SPIN3  SPIN4  SPIN5  SPIN6  \\\n",
       "0  having fun  unranked      0.0    1.0    0.0    0.0    1.0    0.0    0.0   \n",
       "1  having fun  unranked      2.0    2.0    1.0    1.0    3.0    2.0    3.0   \n",
       "\n",
       "   SPIN7  SPIN8  SPIN9  SPIN10  SPIN11  SPIN12  SPIN13  SPIN14  SPIN15  \\\n",
       "0    1.0    0.0    0.0     0.0     0.0     0.0     0.0     1.0     0.0   \n",
       "1    1.0    3.0    4.0     0.0     3.0     0.0     1.0     3.0     3.0   \n",
       "\n",
       "   SPIN16  SPIN17  Narcissism Gender  Age                       Work  \\\n",
       "0     1.0     0.0         1.0   Male   25  Unemployed / between jobs   \n",
       "1     1.0     2.0         1.0   Male   41  Unemployed / between jobs   \n",
       "\n",
       "                     Degree Reference                            Playstyle  \\\n",
       "0  Bachelor (or equivalent)    Reddit                         singleplayer   \n",
       "1  Bachelor (or equivalent)    Reddit  multiplayer  online  with strangers   \n",
       "\n",
       "   GAD_T  SWL_T  SPIN_T Residence_ISO3  \n",
       "0      1     23     5.0            USA  \n",
       "1      8     16    33.0            USA  "
      ]
     },
     "execution_count": 67,
     "metadata": {},
     "output_type": "execute_result"
    }
   ],
   "source": [
    "df.head(2)"
   ]
  },
  {
   "cell_type": "code",
   "execution_count": 68,
   "id": "fa7d4c38",
   "metadata": {
    "execution": {
     "iopub.execute_input": "2022-10-27T02:30:20.326821Z",
     "iopub.status.busy": "2022-10-27T02:30:20.326388Z",
     "iopub.status.idle": "2022-10-27T02:30:20.334115Z",
     "shell.execute_reply": "2022-10-27T02:30:20.332941Z"
    },
    "papermill": {
     "duration": 0.049132,
     "end_time": "2022-10-27T02:30:20.336203",
     "exception": false,
     "start_time": "2022-10-27T02:30:20.287071",
     "status": "completed"
    },
    "tags": []
   },
   "outputs": [
    {
     "data": {
      "text/plain": [
       "Index(['GAD1', 'GAD2', 'GAD3', 'GAD4', 'GAD5', 'GAD6', 'GAD7', 'GADE', 'SWL1',\n",
       "       'SWL2', 'SWL3', 'SWL4', 'SWL5', 'Game', 'Platform', 'Hours', 'earnings',\n",
       "       'whyplay', 'League', 'streams', 'SPIN1', 'SPIN2', 'SPIN3', 'SPIN4',\n",
       "       'SPIN5', 'SPIN6', 'SPIN7', 'SPIN8', 'SPIN9', 'SPIN10', 'SPIN11',\n",
       "       'SPIN12', 'SPIN13', 'SPIN14', 'SPIN15', 'SPIN16', 'SPIN17',\n",
       "       'Narcissism', 'Gender', 'Age', 'Work', 'Degree', 'Reference',\n",
       "       'Playstyle', 'GAD_T', 'SWL_T', 'SPIN_T', 'Residence_ISO3'],\n",
       "      dtype='object')"
      ]
     },
     "execution_count": 68,
     "metadata": {},
     "output_type": "execute_result"
    }
   ],
   "source": [
    "df.columns"
   ]
  },
  {
   "cell_type": "code",
   "execution_count": 69,
   "id": "1f4fdcf9",
   "metadata": {
    "execution": {
     "iopub.execute_input": "2022-10-27T02:30:20.489923Z",
     "iopub.status.busy": "2022-10-27T02:30:20.489468Z",
     "iopub.status.idle": "2022-10-27T02:30:20.494836Z",
     "shell.execute_reply": "2022-10-27T02:30:20.493569Z"
    },
    "papermill": {
     "duration": 0.048162,
     "end_time": "2022-10-27T02:30:20.497370",
     "exception": false,
     "start_time": "2022-10-27T02:30:20.449208",
     "status": "completed"
    },
    "tags": []
   },
   "outputs": [],
   "source": [
    "from sklearn.preprocessing import MinMaxScaler"
   ]
  },
  {
   "cell_type": "code",
   "execution_count": 70,
   "id": "fdb6b1d4",
   "metadata": {
    "execution": {
     "iopub.execute_input": "2022-10-27T02:30:20.575169Z",
     "iopub.status.busy": "2022-10-27T02:30:20.574683Z",
     "iopub.status.idle": "2022-10-27T02:30:20.581444Z",
     "shell.execute_reply": "2022-10-27T02:30:20.580301Z"
    },
    "papermill": {
     "duration": 0.047996,
     "end_time": "2022-10-27T02:30:20.583750",
     "exception": false,
     "start_time": "2022-10-27T02:30:20.535754",
     "status": "completed"
    },
    "tags": []
   },
   "outputs": [],
   "source": [
    "cols = ['Hours' , 'streams' ,'Age','GAD_T', 'SWL_T', 'SPIN_T']\n",
    "sc = MinMaxScaler()"
   ]
  },
  {
   "cell_type": "code",
   "execution_count": 71,
   "id": "f7012f38",
   "metadata": {
    "execution": {
     "iopub.execute_input": "2022-10-27T02:30:20.661619Z",
     "iopub.status.busy": "2022-10-27T02:30:20.661164Z",
     "iopub.status.idle": "2022-10-27T02:30:20.675138Z",
     "shell.execute_reply": "2022-10-27T02:30:20.673995Z"
    },
    "papermill": {
     "duration": 0.056173,
     "end_time": "2022-10-27T02:30:20.677813",
     "exception": false,
     "start_time": "2022-10-27T02:30:20.621640",
     "status": "completed"
    },
    "tags": []
   },
   "outputs": [],
   "source": [
    "df[cols] = sc.fit_transform(df[cols])"
   ]
  },
  {
   "cell_type": "code",
   "execution_count": 72,
   "id": "5c639a07",
   "metadata": {
    "execution": {
     "iopub.execute_input": "2022-10-27T02:30:20.832242Z",
     "iopub.status.busy": "2022-10-27T02:30:20.831849Z",
     "iopub.status.idle": "2022-10-27T02:30:27.431526Z",
     "shell.execute_reply": "2022-10-27T02:30:27.430351Z"
    },
    "papermill": {
     "duration": 6.641465,
     "end_time": "2022-10-27T02:30:27.434165",
     "exception": false,
     "start_time": "2022-10-27T02:30:20.792700",
     "status": "completed"
    },
    "tags": []
   },
   "outputs": [
    {
     "data": {
      "image/png": "[encoded data removed]",
      "text/plain": [
       "<Figure size 432x288 with 1 Axes>"
      ]
     },
     "metadata": {
      "needs_background": "light"
     },
     "output_type": "display_data"
    },
    {
     "data": {
      "image/png": "[encoded data removed]",
      "text/plain": [
       "<Figure size 432x288 with 1 Axes>"
      ]
     },
     "metadata": {
      "needs_background": "light"
     },
     "output_type": "display_data"
    },
    {
     "data": {
      "image/png": "[encoded data removed]",
      "text/plain": [
       "<Figure size 432x288 with 1 Axes>"
      ]
     },
     "metadata": {
      "needs_background": "light"
     },
     "output_type": "display_data"
    },
    {
     "data": {
      "image/png": "[encoded data removed]",
      "text/plain": [
       "<Figure size 432x288 with 1 Axes>"
      ]
     },
     "metadata": {
      "needs_background": "light"
     },
     "output_type": "display_data"
    },
    {
     "data": {
      "image/png": "[encoded data removed]",
      "text/plain": [
       "<Figure size 432x288 with 1 Axes>"
      ]
     },
     "metadata": {
      "needs_background": "light"
     },
     "output_type": "display_data"
    },
    {
     "data": {
      "image/png": "[encoded data removed]",
      "text/plain": [
       "<Figure size 432x288 with 1 Axes>"
      ]
     },
     "metadata": {
      "needs_background": "light"
     },
     "output_type": "display_data"
    },
    {
     "data": {
      "image/png": "[encoded data removed]",
      "text/plain": [
       "<Figure size 432x288 with 1 Axes>"
      ]
     },
     "metadata": {
      "needs_background": "light"
     },
     "output_type": "display_data"
    },
    {
     "data": {
      "image/png": "[encoded data removed]",
      "text/plain": [
       "<Figure size 432x288 with 1 Axes>"
      ]
     },
     "metadata": {
      "needs_background": "light"
     },
     "output_type": "display_data"
    },
    {
     "data": {
      "image/png": "[encoded data removed]",
      "text/plain": [
       "<Figure size 432x288 with 1 Axes>"
      ]
     },
     "metadata": {
      "needs_background": "light"
     },
     "output_type": "display_data"
    },
    {
     "data": {
      "image/png": "[encoded data removed]",
      "text/plain": [
       "<Figure size 432x288 with 1 Axes>"
      ]
     },
     "metadata": {
      "needs_background": "light"
     },
     "output_type": "display_data"
    },
    {
     "data": {
      "image/png": "[encoded data removed]",
      "text/plain": [
       "<Figure size 432x288 with 1 Axes>"
      ]
     },
     "metadata": {
      "needs_background": "light"
     },
     "output_type": "display_data"
    },
    {
     "data": {
      "image/png": "[encoded data removed]",
      "text/plain": [
       "<Figure size 432x288 with 1 Axes>"
      ]
     },
     "metadata": {
      "needs_background": "light"
     },
     "output_type": "display_data"
    },
    {
     "data": {
      "image/png": "[encoded data removed]",
      "text/plain": [
       "<Figure size 432x288 with 1 Axes>"
      ]
     },
     "metadata": {
      "needs_background": "light"
     },
     "output_type": "display_data"
    },
    {
     "data": {
      "image/png": "[encoded data removed]",
      "text/plain": [
       "<Figure size 432x288 with 1 Axes>"
      ]
     },
     "metadata": {
      "needs_background": "light"
     },
     "output_type": "display_data"
    },
    {
     "data": {
      "image/png": "[encoded data removed]",
      "text/plain": [
       "<Figure size 432x288 with 1 Axes>"
      ]
     },
     "metadata": {
      "needs_background": "light"
     },
     "output_type": "display_data"
    },
    {
     "data": {
      "image/png": "[encoded data removed]",
      "text/plain": [
       "<Figure size 432x288 with 1 Axes>"
      ]
     },
     "metadata": {
      "needs_background": "light"
     },
     "output_type": "display_data"
    },
    {
     "data": {
      "image/png": "[encoded data removed]",
      "text/plain": [
       "<Figure size 432x288 with 1 Axes>"
      ]
     },
     "metadata": {
      "needs_background": "light"
     },
     "output_type": "display_data"
    },
    {
     "data": {
      "image/png": "[encoded data removed]",
      "text/plain": [
       "<Figure size 432x288 with 1 Axes>"
      ]
     },
     "metadata": {
      "needs_background": "light"
     },
     "output_type": "display_data"
    },
    {
     "data": {
      "image/png": "[encoded data removed]",
      "text/plain": [
       "<Figure size 432x288 with 1 Axes>"
      ]
     },
     "metadata": {
      "needs_background": "light"
     },
     "output_type": "display_data"
    },
    {
     "data": {
      "image/png": "[encoded data removed]",
      "text/plain": [
       "<Figure size 432x288 with 1 Axes>"
      ]
     },
     "metadata": {
      "needs_background": "light"
     },
     "output_type": "display_data"
    },
    {
     "data": {
      "image/png": "[encoded data removed]",
      "text/plain": [
       "<Figure size 432x288 with 1 Axes>"
      ]
     },
     "metadata": {
      "needs_background": "light"
     },
     "output_type": "display_data"
    },
    {
     "data": {
      "image/png": "[encoded data removed]",
      "text/plain": [
       "<Figure size 432x288 with 1 Axes>"
      ]
     },
     "metadata": {
      "needs_background": "light"
     },
     "output_type": "display_data"
    },
    {
     "data": {
      "image/png": "[encoded data removed]",
      "text/plain": [
       "<Figure size 432x288 with 1 Axes>"
      ]
     },
     "metadata": {
      "needs_background": "light"
     },
     "output_type": "display_data"
    },
    {
     "data": {
      "image/png": "[encoded data removed]",
      "text/plain": [
       "<Figure size 432x288 with 1 Axes>"
      ]
     },
     "metadata": {
      "needs_background": "light"
     },
     "output_type": "display_data"
    },
    {
     "data": {
      "image/png": "[encoded data removed]",
      "text/plain": [
       "<Figure size 432x288 with 1 Axes>"
      ]
     },
     "metadata": {
      "needs_background": "light"
     },
     "output_type": "display_data"
    },
    {
     "data": {
      "image/png": "[encoded data removed]",
      "text/plain": [
       "<Figure size 432x288 with 1 Axes>"
      ]
     },
     "metadata": {
      "needs_background": "light"
     },
     "output_type": "display_data"
    },
    {
     "data": {
      "image/png": "[encoded data removed]",
      "text/plain": [
       "<Figure size 432x288 with 1 Axes>"
      ]
     },
     "metadata": {
      "needs_background": "light"
     },
     "output_type": "display_data"
    },
    {
     "data": {
      "image/png": "[encoded data removed]",
      "text/plain": [
       "<Figure size 432x288 with 1 Axes>"
      ]
     },
     "metadata": {
      "needs_background": "light"
     },
     "output_type": "display_data"
    },
    {
     "data": {
      "image/png": "[encoded data removed]",
      "text/plain": [
       "<Figure size 432x288 with 1 Axes>"
      ]
     },
     "metadata": {
      "needs_background": "light"
     },
     "output_type": "display_data"
    },
    {
     "data": {
      "image/png": "[encoded data removed]",
      "text/plain": [
       "<Figure size 432x288 with 1 Axes>"
      ]
     },
     "metadata": {
      "needs_background": "light"
     },
     "output_type": "display_data"
    },
    {
     "data": {
      "image/png": "[encoded data removed]",
      "text/plain": [
       "<Figure size 432x288 with 1 Axes>"
      ]
     },
     "metadata": {
      "needs_background": "light"
     },
     "output_type": "display_data"
    },
    {
     "data": {
      "image/png": "[encoded data removed]",
      "text/plain": [
       "<Figure size 432x288 with 1 Axes>"
      ]
     },
     "metadata": {
      "needs_background": "light"
     },
     "output_type": "display_data"
    },
    {
     "data": {
      "image/png": "[encoded data removed]",
      "text/plain": [
       "<Figure size 432x288 with 1 Axes>"
      ]
     },
     "metadata": {
      "needs_background": "light"
     },
     "output_type": "display_data"
    },
    {
     "data": {
      "image/png": "[encoded data removed]",
      "text/plain": [
       "<Figure size 432x288 with 1 Axes>"
      ]
     },
     "metadata": {
      "needs_background": "light"
     },
     "output_type": "display_data"
    },
    {
     "data": {
      "image/png": "[encoded data removed]",
      "text/plain": [
       "<Figure size 432x288 with 1 Axes>"
      ]
     },
     "metadata": {
      "needs_background": "light"
     },
     "output_type": "display_data"
    },
    {
     "data": {
      "image/png": "[encoded data removed]",
      "text/plain": [
       "<Figure size 432x288 with 1 Axes>"
      ]
     },
     "metadata": {
      "needs_background": "light"
     },
     "output_type": "display_data"
    }
   ],
   "source": [
    "for i in df:\n",
    "    if df[i].dtype != 'object':\n",
    "        sns.boxplot(df[i])\n",
    "        plt.show()"
   ]
  },
  {
   "cell_type": "code",
   "execution_count": 73,
   "id": "bca59fa7",
   "metadata": {
    "execution": {
     "iopub.execute_input": "2022-10-27T02:30:27.524432Z",
     "iopub.status.busy": "2022-10-27T02:30:27.523900Z",
     "iopub.status.idle": "2022-10-27T02:30:27.539722Z",
     "shell.execute_reply": "2022-10-27T02:30:27.538534Z"
    },
    "papermill": {
     "duration": 0.063959,
     "end_time": "2022-10-27T02:30:27.542393",
     "exception": false,
     "start_time": "2022-10-27T02:30:27.478434",
     "status": "completed"
    },
    "tags": []
   },
   "outputs": [],
   "source": [
    "df.drop( df[df['Age'] > 50].index , axis = 0 , inplace=True)"
   ]
  },
  {
   "cell_type": "code",
   "execution_count": 74,
   "id": "be86469a",
   "metadata": {
    "execution": {
     "iopub.execute_input": "2022-10-27T02:30:27.720501Z",
     "iopub.status.busy": "2022-10-27T02:30:27.720082Z",
     "iopub.status.idle": "2022-10-27T02:30:31.218787Z",
     "shell.execute_reply": "2022-10-27T02:30:31.217796Z"
    },
    "papermill": {
     "duration": 3.553628,
     "end_time": "2022-10-27T02:30:31.228314",
     "exception": false,
     "start_time": "2022-10-27T02:30:27.674686",
     "status": "completed"
    },
    "tags": []
   },
   "outputs": [],
   "source": [
    "corr = df.corr(method='spearman')\n"
   ]
  },
  {
   "cell_type": "code",
   "execution_count": 75,
   "id": "6a7c52ae",
   "metadata": {
    "execution": {
     "iopub.execute_input": "2022-10-27T02:30:41.061952Z",
     "iopub.status.busy": "2022-10-27T02:30:41.060940Z",
     "iopub.status.idle": "2022-10-27T02:30:41.752938Z",
     "shell.execute_reply": "2022-10-27T02:30:41.751166Z"
    },
    "papermill": {
     "duration": 0.756964,
     "end_time": "2022-10-27T02:30:41.758663",
     "exception": false,
     "start_time": "2022-10-27T02:30:41.001699",
     "status": "completed"
    },
    "tags": []
   },
   "outputs": [
    {
     "data": {
      "image/png": "[encoded data removed]",
      "text/plain": [
       "<Figure size 648x648 with 1 Axes>"
      ]
     },
     "metadata": {},
     "output_type": "display_data"
    },
    {
     "data": {
      "image/png": "[encoded data removed]",
      "text/plain": [
       "<Figure size 648x648 with 1 Axes>"
      ]
     },
     "metadata": {},
     "output_type": "display_data"
    },
    {
     "data": {
      "image/png": "[encoded data removed]",
      "text/plain": [
       "<Figure size 648x648 with 1 Axes>"
      ]
     },
     "metadata": {},
     "output_type": "display_data"
    }
   ],
   "source": [
    "plt.figure(figsize=(9,9))\n",
    "myexplode = [0, 0.7, 0.7]\n",
    "df.Platform.value_counts().plot(kind = 'pie' , autopct='%1.1f%%' , pctdistance=0.5, labeldistance=1 , explode=myexplode )\n",
    "plt.title(\"Platform used\")\n",
    "plt.show()\n",
    "\n",
    "plt.figure(figsize=(9,9))\n",
    "myexplode = [0,0,0,0,0.1]\n",
    "df.Playstyle.value_counts().head(5).plot(kind = 'pie' , autopct='%1.1f%%' , pctdistance=0.5 , explode=myexplode )\n",
    "plt.title(\"Playstyle\")\n",
    "plt.show()\n",
    "\n",
    "plt.figure(figsize=(9,9))\n",
    "myexplode = [0,0,0,0.1]\n",
    "df.GADE.value_counts().head(5).plot(kind = 'pie' , autopct='%1.1f%%' , pctdistance=0.5 , explode=myexplode )\n",
    "plt.title(\"General anxiety and life balance\")\n",
    "plt.show()"
   ]
  },
  {
   "cell_type": "code",
   "execution_count": 76,
   "id": "3bb078fb",
   "metadata": {
    "execution": {
     "iopub.execute_input": "2022-10-27T02:30:46.260968Z",
     "iopub.status.busy": "2022-10-27T02:30:46.259996Z",
     "iopub.status.idle": "2022-10-27T02:30:48.480428Z",
     "shell.execute_reply": "2022-10-27T02:30:48.478933Z"
    },
    "papermill": {
     "duration": 2.292236,
     "end_time": "2022-10-27T02:30:48.484418",
     "exception": false,
     "start_time": "2022-10-27T02:30:46.192182",
     "status": "completed"
    },
    "tags": []
   },
   "outputs": [
    {
     "data": {
      "image/png": "[encoded data removed]",
      "text/plain": [
       "<Figure size 1080x1440 with 8 Axes>"
      ]
     },
     "metadata": {
      "needs_background": "light"
     },
     "output_type": "display_data"
    }
   ],
   "source": [
    "labels = ['Game', 'Residence_ISO3' , 'Gender','GADE' , 'Degree' , 'Work','Narcissism','Playstyle']\n",
    "plt.figure(figsize=(15,20))\n",
    "plt.suptitle('Streams hours')\n",
    "for count, ele in enumerate(labels,1):\n",
    "    plt.subplot(3 , 3 , count)\n",
    "    plt.tight_layout()\n",
    "    df.groupby(ele)['streams'].mean().head(10).sort_values(ascending=False).plot(kind='bar')\n",
    "plt.show()"
   ]
  },
  {
   "cell_type": "code",
   "execution_count": 77,
   "id": "0231fbbd",
   "metadata": {
    "execution": {
     "iopub.execute_input": "2022-10-27T02:30:49.155747Z",
     "iopub.status.busy": "2022-10-27T02:30:49.155283Z",
     "iopub.status.idle": "2022-10-27T02:30:49.802633Z",
     "shell.execute_reply": "2022-10-27T02:30:49.801527Z"
    },
    "papermill": {
     "duration": 0.718007,
     "end_time": "2022-10-27T02:30:49.805528",
     "exception": false,
     "start_time": "2022-10-27T02:30:49.087521",
     "status": "completed"
    },
    "tags": []
   },
   "outputs": [
    {
     "data": {
      "image/png": "[encoded data removed]",
      "text/plain": [
       "<Figure size 1440x576 with 3 Axes>"
      ]
     },
     "metadata": {
      "needs_background": "light"
     },
     "output_type": "display_data"
    }
   ],
   "source": [
    "labels = ['Work', 'Degree' , 'Playstyle']\n",
    "plt.figure(figsize=(20,8))\n",
    "plt.suptitle('Satisifcation with life')\n",
    "for count, ele in enumerate(labels,1):\n",
    "    plt.subplot(1 , 4 , count)\n",
    "    plt.tight_layout()\n",
    "    df.groupby(ele)['SWL_T'].mean().head(10).sort_values(ascending=False).plot(kind='bar')\n",
    "plt.show()"
   ]
  },
  {
   "cell_type": "code",
   "execution_count": 78,
   "id": "700ea289",
   "metadata": {
    "execution": {
     "iopub.execute_input": "2022-10-27T02:30:49.947684Z",
     "iopub.status.busy": "2022-10-27T02:30:49.946617Z",
     "iopub.status.idle": "2022-10-27T02:30:50.179760Z",
     "shell.execute_reply": "2022-10-27T02:30:50.178549Z"
    },
    "papermill": {
     "duration": 0.306034,
     "end_time": "2022-10-27T02:30:50.182178",
     "exception": false,
     "start_time": "2022-10-27T02:30:49.876144",
     "status": "completed"
    },
    "tags": []
   },
   "outputs": [
    {
     "data": {
      "image/png": "[encoded data removed]",
      "text/plain": [
       "<Figure size 360x360 with 1 Axes>"
      ]
     },
     "metadata": {
      "needs_background": "light"
     },
     "output_type": "display_data"
    }
   ],
   "source": [
    "plt.figure(figsize=(5,5))\n",
    "df.groupby('GAD_T')['SPIN_T'].mean().plot()\n",
    "plt.title(\"GAD_T vs SPIN_T\")\n",
    "plt.xlabel(\"GAD_Total\")\n",
    "plt.ylabel(\"SPIN_Total\")\n",
    "plt.show()"
   ]
  },
  {
   "cell_type": "code",
   "execution_count": 79,
   "id": "ff894bee",
   "metadata": {
    "execution": {
     "iopub.execute_input": "2022-10-27T02:30:50.322630Z",
     "iopub.status.busy": "2022-10-27T02:30:50.321843Z",
     "iopub.status.idle": "2022-10-27T02:30:50.664807Z",
     "shell.execute_reply": "2022-10-27T02:30:50.663616Z"
    },
    "papermill": {
     "duration": 0.417633,
     "end_time": "2022-10-27T02:30:50.667414",
     "exception": false,
     "start_time": "2022-10-27T02:30:50.249781",
     "status": "completed"
    },
    "tags": []
   },
   "outputs": [
    {
     "data": {
      "image/png": "[encoded data removed]",
      "text/plain": [
       "<Figure size 720x504 with 1 Axes>"
      ]
     },
     "metadata": {
      "needs_background": "light"
     },
     "output_type": "display_data"
    }
   ],
   "source": [
    "plt.figure(figsize=(10,7))\n",
    "df.groupby('League').mean()['Hours'].sort_values(ascending=False).plot(kind='bar')\n",
    "plt.title(\"League vs Hours\")\n",
    "plt.xlabel(\"League\")\n",
    "plt.ylabel(\"Average Hours\")\n",
    "plt.show()"
   ]
  },
  {
   "cell_type": "code",
   "execution_count": 80,
   "id": "9f0fdf6e",
   "metadata": {
    "execution": {
     "iopub.execute_input": "2022-10-27T02:30:50.808777Z",
     "iopub.status.busy": "2022-10-27T02:30:50.808020Z",
     "iopub.status.idle": "2022-10-27T02:30:51.011638Z",
     "shell.execute_reply": "2022-10-27T02:30:51.010393Z"
    },
    "papermill": {
     "duration": 0.276427,
     "end_time": "2022-10-27T02:30:51.014272",
     "exception": false,
     "start_time": "2022-10-27T02:30:50.737845",
     "status": "completed"
    },
    "tags": []
   },
   "outputs": [
    {
     "data": {
      "image/png": "[encoded data removed]",
      "text/plain": [
       "<Figure size 720x504 with 1 Axes>"
      ]
     },
     "metadata": {
      "needs_background": "light"
     },
     "output_type": "display_data"
    }
   ],
   "source": [
    "x=df.SPIN_T.mean()\n",
    "y = df.SWL_T.mean()\n",
    "z = df.GAD_T.mean()\n",
    "c=[x,y,z]\n",
    "plt.figure(figsize=(10,7))\n",
    "plt.bar(['Social Phobia','Satisification with life','General Anxiety Disorder'],c,color ='maroon',\n",
    "        width = 0.5)\n",
    "plt.show()"
   ]
  },
  {
   "cell_type": "code",
   "execution_count": 81,
   "id": "49bbffca",
   "metadata": {
    "execution": {
     "iopub.execute_input": "2022-10-27T02:30:51.364812Z",
     "iopub.status.busy": "2022-10-27T02:30:51.364402Z",
     "iopub.status.idle": "2022-10-27T02:30:51.368670Z",
     "shell.execute_reply": "2022-10-27T02:30:51.367801Z"
    },
    "papermill": {
     "duration": 0.077166,
     "end_time": "2022-10-27T02:30:51.370826",
     "exception": false,
     "start_time": "2022-10-27T02:30:51.293660",
     "status": "completed"
    },
    "tags": []
   },
   "outputs": [],
   "source": [
    "le = LabelEncoder()"
   ]
  },
  {
   "cell_type": "code",
   "execution_count": 82,
   "id": "c55ff165",
   "metadata": {
    "execution": {
     "iopub.execute_input": "2022-10-27T02:30:51.511497Z",
     "iopub.status.busy": "2022-10-27T02:30:51.510768Z",
     "iopub.status.idle": "2022-10-27T02:30:51.566904Z",
     "shell.execute_reply": "2022-10-27T02:30:51.565698Z"
    },
    "papermill": {
     "duration": 0.129872,
     "end_time": "2022-10-27T02:30:51.569547",
     "exception": false,
     "start_time": "2022-10-27T02:30:51.439675",
     "status": "completed"
    },
    "tags": []
   },
   "outputs": [],
   "source": [
    "for i in df.columns:\n",
    "    if df[i].dtype == 'object':\n",
    "        df[i] = le.fit_transform(df[i])"
   ]
  },
  {
   "cell_type": "code",
   "execution_count": 83,
   "id": "5670c33b",
   "metadata": {
    "execution": {
     "iopub.execute_input": "2022-10-27T02:30:51.710122Z",
     "iopub.status.busy": "2022-10-27T02:30:51.709277Z",
     "iopub.status.idle": "2022-10-27T02:30:51.751880Z",
     "shell.execute_reply": "2022-10-27T02:30:51.750662Z"
    },
    "papermill": {
     "duration": 0.115483,
     "end_time": "2022-10-27T02:30:51.754354",
     "exception": false,
     "start_time": "2022-10-27T02:30:51.638871",
     "status": "completed"
    },
    "tags": []
   },
   "outputs": [
    {
     "data": {
      "text/html": [
       "<div>\n",
       "<style scoped>\n",
       "    .dataframe tbody tr th:only-of-type {\n",
       "        vertical-align: middle;\n",
       "    }\n",
       "\n",
       "    .dataframe tbody tr th {\n",
       "        vertical-align: top;\n",
       "    }\n",
       "\n",
       "    .dataframe thead th {\n",
       "        text-align: right;\n",
       "    }\n",
       "</style>\n",
       "<table border=\"1\" class=\"dataframe\">\n",
       "  <thead>\n",
       "    <tr style=\"text-align: right;\">\n",
       "      <th></th>\n",
       "      <th>GAD1</th>\n",
       "      <th>GAD2</th>\n",
       "      <th>GAD3</th>\n",
       "      <th>GAD4</th>\n",
       "      <th>GAD5</th>\n",
       "      <th>GAD6</th>\n",
       "      <th>GAD7</th>\n",
       "      <th>GADE</th>\n",
       "      <th>SWL1</th>\n",
       "      <th>SWL2</th>\n",
       "      <th>SWL3</th>\n",
       "      <th>SWL4</th>\n",
       "      <th>SWL5</th>\n",
       "      <th>Game</th>\n",
       "      <th>Platform</th>\n",
       "      <th>Hours</th>\n",
       "      <th>earnings</th>\n",
       "      <th>whyplay</th>\n",
       "      <th>League</th>\n",
       "      <th>streams</th>\n",
       "      <th>SPIN1</th>\n",
       "      <th>SPIN2</th>\n",
       "      <th>SPIN3</th>\n",
       "      <th>SPIN4</th>\n",
       "      <th>SPIN5</th>\n",
       "      <th>SPIN6</th>\n",
       "      <th>SPIN7</th>\n",
       "      <th>SPIN8</th>\n",
       "      <th>SPIN9</th>\n",
       "      <th>SPIN10</th>\n",
       "      <th>SPIN11</th>\n",
       "      <th>SPIN12</th>\n",
       "      <th>SPIN13</th>\n",
       "      <th>SPIN14</th>\n",
       "      <th>SPIN15</th>\n",
       "      <th>SPIN16</th>\n",
       "      <th>SPIN17</th>\n",
       "      <th>Narcissism</th>\n",
       "      <th>Gender</th>\n",
       "      <th>Age</th>\n",
       "      <th>Work</th>\n",
       "      <th>Degree</th>\n",
       "      <th>Reference</th>\n",
       "      <th>Playstyle</th>\n",
       "      <th>GAD_T</th>\n",
       "      <th>SWL_T</th>\n",
       "      <th>SPIN_T</th>\n",
       "      <th>Residence_ISO3</th>\n",
       "    </tr>\n",
       "  </thead>\n",
       "  <tbody>\n",
       "    <tr>\n",
       "      <th>0</th>\n",
       "      <td>0</td>\n",
       "      <td>0</td>\n",
       "      <td>0</td>\n",
       "      <td>0</td>\n",
       "      <td>1</td>\n",
       "      <td>0</td>\n",
       "      <td>0</td>\n",
       "      <td>1</td>\n",
       "      <td>3</td>\n",
       "      <td>5</td>\n",
       "      <td>5</td>\n",
       "      <td>5</td>\n",
       "      <td>5</td>\n",
       "      <td>8</td>\n",
       "      <td>0</td>\n",
       "      <td>0.136364</td>\n",
       "      <td>1</td>\n",
       "      <td>1</td>\n",
       "      <td>18</td>\n",
       "      <td>0.00</td>\n",
       "      <td>1.0</td>\n",
       "      <td>0.0</td>\n",
       "      <td>0.0</td>\n",
       "      <td>1.0</td>\n",
       "      <td>0.0</td>\n",
       "      <td>0.0</td>\n",
       "      <td>1.0</td>\n",
       "      <td>0.0</td>\n",
       "      <td>0.0</td>\n",
       "      <td>0.0</td>\n",
       "      <td>0.0</td>\n",
       "      <td>0.0</td>\n",
       "      <td>0.0</td>\n",
       "      <td>1.0</td>\n",
       "      <td>0.0</td>\n",
       "      <td>1.0</td>\n",
       "      <td>0.0</td>\n",
       "      <td>1.0</td>\n",
       "      <td>1</td>\n",
       "      <td>0.155556</td>\n",
       "      <td>3</td>\n",
       "      <td>0</td>\n",
       "      <td>2</td>\n",
       "      <td>4</td>\n",
       "      <td>0.047619</td>\n",
       "      <td>0.600000</td>\n",
       "      <td>0.073529</td>\n",
       "      <td>102</td>\n",
       "    </tr>\n",
       "    <tr>\n",
       "      <th>1</th>\n",
       "      <td>1</td>\n",
       "      <td>2</td>\n",
       "      <td>2</td>\n",
       "      <td>2</td>\n",
       "      <td>0</td>\n",
       "      <td>1</td>\n",
       "      <td>0</td>\n",
       "      <td>2</td>\n",
       "      <td>3</td>\n",
       "      <td>5</td>\n",
       "      <td>2</td>\n",
       "      <td>5</td>\n",
       "      <td>1</td>\n",
       "      <td>7</td>\n",
       "      <td>1</td>\n",
       "      <td>0.072727</td>\n",
       "      <td>1</td>\n",
       "      <td>1</td>\n",
       "      <td>18</td>\n",
       "      <td>0.02</td>\n",
       "      <td>2.0</td>\n",
       "      <td>1.0</td>\n",
       "      <td>1.0</td>\n",
       "      <td>3.0</td>\n",
       "      <td>2.0</td>\n",
       "      <td>3.0</td>\n",
       "      <td>1.0</td>\n",
       "      <td>3.0</td>\n",
       "      <td>4.0</td>\n",
       "      <td>0.0</td>\n",
       "      <td>3.0</td>\n",
       "      <td>0.0</td>\n",
       "      <td>1.0</td>\n",
       "      <td>3.0</td>\n",
       "      <td>3.0</td>\n",
       "      <td>1.0</td>\n",
       "      <td>2.0</td>\n",
       "      <td>1.0</td>\n",
       "      <td>1</td>\n",
       "      <td>0.511111</td>\n",
       "      <td>3</td>\n",
       "      <td>0</td>\n",
       "      <td>2</td>\n",
       "      <td>3</td>\n",
       "      <td>0.380952</td>\n",
       "      <td>0.366667</td>\n",
       "      <td>0.485294</td>\n",
       "      <td>102</td>\n",
       "    </tr>\n",
       "    <tr>\n",
       "      <th>3</th>\n",
       "      <td>0</td>\n",
       "      <td>0</td>\n",
       "      <td>0</td>\n",
       "      <td>0</td>\n",
       "      <td>0</td>\n",
       "      <td>0</td>\n",
       "      <td>0</td>\n",
       "      <td>1</td>\n",
       "      <td>2</td>\n",
       "      <td>5</td>\n",
       "      <td>5</td>\n",
       "      <td>3</td>\n",
       "      <td>2</td>\n",
       "      <td>7</td>\n",
       "      <td>1</td>\n",
       "      <td>0.181818</td>\n",
       "      <td>1</td>\n",
       "      <td>2</td>\n",
       "      <td>4</td>\n",
       "      <td>0.05</td>\n",
       "      <td>2.0</td>\n",
       "      <td>0.0</td>\n",
       "      <td>0.0</td>\n",
       "      <td>1.0</td>\n",
       "      <td>3.0</td>\n",
       "      <td>0.0</td>\n",
       "      <td>0.0</td>\n",
       "      <td>0.0</td>\n",
       "      <td>0.0</td>\n",
       "      <td>0.0</td>\n",
       "      <td>1.0</td>\n",
       "      <td>3.0</td>\n",
       "      <td>0.0</td>\n",
       "      <td>0.0</td>\n",
       "      <td>1.0</td>\n",
       "      <td>0.0</td>\n",
       "      <td>0.0</td>\n",
       "      <td>2.0</td>\n",
       "      <td>1</td>\n",
       "      <td>0.222222</td>\n",
       "      <td>0</td>\n",
       "      <td>0</td>\n",
       "      <td>2</td>\n",
       "      <td>1</td>\n",
       "      <td>0.000000</td>\n",
       "      <td>0.400000</td>\n",
       "      <td>0.161765</td>\n",
       "      <td>102</td>\n",
       "    </tr>\n",
       "    <tr>\n",
       "      <th>4</th>\n",
       "      <td>2</td>\n",
       "      <td>1</td>\n",
       "      <td>2</td>\n",
       "      <td>2</td>\n",
       "      <td>2</td>\n",
       "      <td>3</td>\n",
       "      <td>2</td>\n",
       "      <td>3</td>\n",
       "      <td>2</td>\n",
       "      <td>2</td>\n",
       "      <td>4</td>\n",
       "      <td>5</td>\n",
       "      <td>1</td>\n",
       "      <td>7</td>\n",
       "      <td>0</td>\n",
       "      <td>0.181818</td>\n",
       "      <td>1</td>\n",
       "      <td>1</td>\n",
       "      <td>18</td>\n",
       "      <td>0.01</td>\n",
       "      <td>2.0</td>\n",
       "      <td>0.0</td>\n",
       "      <td>0.0</td>\n",
       "      <td>0.0</td>\n",
       "      <td>1.0</td>\n",
       "      <td>0.0</td>\n",
       "      <td>0.0</td>\n",
       "      <td>4.0</td>\n",
       "      <td>2.0</td>\n",
       "      <td>0.0</td>\n",
       "      <td>1.0</td>\n",
       "      <td>0.0</td>\n",
       "      <td>0.0</td>\n",
       "      <td>0.0</td>\n",
       "      <td>0.0</td>\n",
       "      <td>3.0</td>\n",
       "      <td>0.0</td>\n",
       "      <td>1.0</td>\n",
       "      <td>1</td>\n",
       "      <td>0.022222</td>\n",
       "      <td>0</td>\n",
       "      <td>1</td>\n",
       "      <td>2</td>\n",
       "      <td>3</td>\n",
       "      <td>0.666667</td>\n",
       "      <td>0.300000</td>\n",
       "      <td>0.191176</td>\n",
       "      <td>56</td>\n",
       "    </tr>\n",
       "    <tr>\n",
       "      <th>5</th>\n",
       "      <td>0</td>\n",
       "      <td>0</td>\n",
       "      <td>0</td>\n",
       "      <td>0</td>\n",
       "      <td>0</td>\n",
       "      <td>1</td>\n",
       "      <td>0</td>\n",
       "      <td>1</td>\n",
       "      <td>3</td>\n",
       "      <td>5</td>\n",
       "      <td>3</td>\n",
       "      <td>3</td>\n",
       "      <td>3</td>\n",
       "      <td>7</td>\n",
       "      <td>0</td>\n",
       "      <td>0.036364</td>\n",
       "      <td>1</td>\n",
       "      <td>3</td>\n",
       "      <td>4</td>\n",
       "      <td>0.00</td>\n",
       "      <td>1.0</td>\n",
       "      <td>1.0</td>\n",
       "      <td>2.0</td>\n",
       "      <td>3.0</td>\n",
       "      <td>2.0</td>\n",
       "      <td>1.0</td>\n",
       "      <td>0.0</td>\n",
       "      <td>0.0</td>\n",
       "      <td>0.0</td>\n",
       "      <td>1.0</td>\n",
       "      <td>0.0</td>\n",
       "      <td>0.0</td>\n",
       "      <td>0.0</td>\n",
       "      <td>1.0</td>\n",
       "      <td>1.0</td>\n",
       "      <td>0.0</td>\n",
       "      <td>0.0</td>\n",
       "      <td>2.0</td>\n",
       "      <td>1</td>\n",
       "      <td>0.133333</td>\n",
       "      <td>0</td>\n",
       "      <td>0</td>\n",
       "      <td>2</td>\n",
       "      <td>2</td>\n",
       "      <td>0.047619</td>\n",
       "      <td>0.400000</td>\n",
       "      <td>0.191176</td>\n",
       "      <td>102</td>\n",
       "    </tr>\n",
       "  </tbody>\n",
       "</table>\n",
       "</div>"
      ],
      "text/plain": [
       "   GAD1  GAD2  GAD3  GAD4  GAD5  GAD6  GAD7  GADE  SWL1  SWL2  SWL3  SWL4  \\\n",
       "0     0     0     0     0     1     0     0     1     3     5     5     5   \n",
       "1     1     2     2     2     0     1     0     2     3     5     2     5   \n",
       "3     0     0     0     0     0     0     0     1     2     5     5     3   \n",
       "4     2     1     2     2     2     3     2     3     2     2     4     5   \n",
       "5     0     0     0     0     0     1     0     1     3     5     3     3   \n",
       "\n",
       "   SWL5  Game  Platform     Hours  earnings  whyplay  League  streams  SPIN1  \\\n",
       "0     5     8         0  0.136364         1        1      18     0.00    1.0   \n",
       "1     1     7         1  0.072727         1        1      18     0.02    2.0   \n",
       "3     2     7         1  0.181818         1        2       4     0.05    2.0   \n",
       "4     1     7         0  0.181818         1        1      18     0.01    2.0   \n",
       "5     3     7         0  0.036364         1        3       4     0.00    1.0   \n",
       "\n",
       "   SPIN2  SPIN3  SPIN4  SPIN5  SPIN6  SPIN7  SPIN8  SPIN9  SPIN10  SPIN11  \\\n",
       "0    0.0    0.0    1.0    0.0    0.0    1.0    0.0    0.0     0.0     0.0   \n",
       "1    1.0    1.0    3.0    2.0    3.0    1.0    3.0    4.0     0.0     3.0   \n",
       "3    0.0    0.0    1.0    3.0    0.0    0.0    0.0    0.0     0.0     1.0   \n",
       "4    0.0    0.0    0.0    1.0    0.0    0.0    4.0    2.0     0.0     1.0   \n",
       "5    1.0    2.0    3.0    2.0    1.0    0.0    0.0    0.0     1.0     0.0   \n",
       "\n",
       "   SPIN12  SPIN13  SPIN14  SPIN15  SPIN16  SPIN17  Narcissism  Gender  \\\n",
       "0     0.0     0.0     1.0     0.0     1.0     0.0         1.0       1   \n",
       "1     0.0     1.0     3.0     3.0     1.0     2.0         1.0       1   \n",
       "3     3.0     0.0     0.0     1.0     0.0     0.0         2.0       1   \n",
       "4     0.0     0.0     0.0     0.0     3.0     0.0         1.0       1   \n",
       "5     0.0     0.0     1.0     1.0     0.0     0.0         2.0       1   \n",
       "\n",
       "        Age  Work  Degree  Reference  Playstyle     GAD_T     SWL_T    SPIN_T  \\\n",
       "0  0.155556     3       0          2          4  0.047619  0.600000  0.073529   \n",
       "1  0.511111     3       0          2          3  0.380952  0.366667  0.485294   \n",
       "3  0.222222     0       0          2          1  0.000000  0.400000  0.161765   \n",
       "4  0.022222     0       1          2          3  0.666667  0.300000  0.191176   \n",
       "5  0.133333     0       0          2          2  0.047619  0.400000  0.191176   \n",
       "\n",
       "   Residence_ISO3  \n",
       "0             102  \n",
       "1             102  \n",
       "3             102  \n",
       "4              56  \n",
       "5             102  "
      ]
     },
     "execution_count": 83,
     "metadata": {},
     "output_type": "execute_result"
    }
   ],
   "source": [
    "df.head()"
   ]
  },
  {
   "cell_type": "code",
   "execution_count": 84,
   "id": "309485e3",
   "metadata": {
    "execution": {
     "iopub.execute_input": "2022-10-27T02:30:57.590619Z",
     "iopub.status.busy": "2022-10-27T02:30:57.589945Z",
     "iopub.status.idle": "2022-10-27T02:30:57.621618Z",
     "shell.execute_reply": "2022-10-27T02:30:57.620424Z"
    },
    "papermill": {
     "duration": 0.118282,
     "end_time": "2022-10-27T02:30:57.623892",
     "exception": false,
     "start_time": "2022-10-27T02:30:57.505610",
     "status": "completed"
    },
    "tags": []
   },
   "outputs": [
    {
     "data": {
      "text/html": [
       "<div>\n",
       "<style scoped>\n",
       "    .dataframe tbody tr th:only-of-type {\n",
       "        vertical-align: middle;\n",
       "    }\n",
       "\n",
       "    .dataframe tbody tr th {\n",
       "        vertical-align: top;\n",
       "    }\n",
       "\n",
       "    .dataframe thead th {\n",
       "        text-align: right;\n",
       "    }\n",
       "</style>\n",
       "<table border=\"1\" class=\"dataframe\">\n",
       "  <thead>\n",
       "    <tr style=\"text-align: right;\">\n",
       "      <th></th>\n",
       "      <th>GAD1</th>\n",
       "      <th>GAD2</th>\n",
       "      <th>GAD3</th>\n",
       "      <th>GAD4</th>\n",
       "      <th>GAD5</th>\n",
       "      <th>GAD6</th>\n",
       "      <th>GAD7</th>\n",
       "      <th>GADE</th>\n",
       "      <th>SWL1</th>\n",
       "      <th>SWL2</th>\n",
       "      <th>SWL3</th>\n",
       "      <th>SWL4</th>\n",
       "      <th>SWL5</th>\n",
       "      <th>Game</th>\n",
       "      <th>Platform</th>\n",
       "      <th>Hours</th>\n",
       "      <th>earnings</th>\n",
       "      <th>whyplay</th>\n",
       "      <th>League</th>\n",
       "      <th>streams</th>\n",
       "      <th>SPIN1</th>\n",
       "      <th>SPIN2</th>\n",
       "      <th>SPIN3</th>\n",
       "      <th>SPIN4</th>\n",
       "      <th>SPIN5</th>\n",
       "      <th>SPIN6</th>\n",
       "      <th>SPIN7</th>\n",
       "      <th>SPIN8</th>\n",
       "      <th>SPIN9</th>\n",
       "      <th>SPIN10</th>\n",
       "      <th>SPIN11</th>\n",
       "      <th>SPIN12</th>\n",
       "      <th>SPIN13</th>\n",
       "      <th>SPIN14</th>\n",
       "      <th>SPIN15</th>\n",
       "      <th>SPIN16</th>\n",
       "      <th>SPIN17</th>\n",
       "      <th>Narcissism</th>\n",
       "      <th>Gender</th>\n",
       "      <th>Age</th>\n",
       "      <th>Work</th>\n",
       "      <th>Degree</th>\n",
       "      <th>Reference</th>\n",
       "      <th>Playstyle</th>\n",
       "      <th>GAD_T</th>\n",
       "      <th>SWL_T</th>\n",
       "      <th>SPIN_T</th>\n",
       "      <th>Residence_ISO3</th>\n",
       "    </tr>\n",
       "  </thead>\n",
       "  <tbody>\n",
       "    <tr>\n",
       "      <th>0</th>\n",
       "      <td>0</td>\n",
       "      <td>0</td>\n",
       "      <td>0</td>\n",
       "      <td>0</td>\n",
       "      <td>1</td>\n",
       "      <td>0</td>\n",
       "      <td>0</td>\n",
       "      <td>1</td>\n",
       "      <td>3</td>\n",
       "      <td>5</td>\n",
       "      <td>5</td>\n",
       "      <td>5</td>\n",
       "      <td>5</td>\n",
       "      <td>8</td>\n",
       "      <td>0</td>\n",
       "      <td>0.136364</td>\n",
       "      <td>1</td>\n",
       "      <td>1</td>\n",
       "      <td>18</td>\n",
       "      <td>0.0</td>\n",
       "      <td>1.0</td>\n",
       "      <td>0.0</td>\n",
       "      <td>0.0</td>\n",
       "      <td>1.0</td>\n",
       "      <td>0.0</td>\n",
       "      <td>0.0</td>\n",
       "      <td>1.0</td>\n",
       "      <td>0.0</td>\n",
       "      <td>0.0</td>\n",
       "      <td>0.0</td>\n",
       "      <td>0.0</td>\n",
       "      <td>0.0</td>\n",
       "      <td>0.0</td>\n",
       "      <td>1.0</td>\n",
       "      <td>0.0</td>\n",
       "      <td>1.0</td>\n",
       "      <td>0.0</td>\n",
       "      <td>1.0</td>\n",
       "      <td>1</td>\n",
       "      <td>0.155556</td>\n",
       "      <td>3</td>\n",
       "      <td>0</td>\n",
       "      <td>2</td>\n",
       "      <td>4</td>\n",
       "      <td>0.047619</td>\n",
       "      <td>0.6</td>\n",
       "      <td>0.073529</td>\n",
       "      <td>102</td>\n",
       "    </tr>\n",
       "  </tbody>\n",
       "</table>\n",
       "</div>"
      ],
      "text/plain": [
       "   GAD1  GAD2  GAD3  GAD4  GAD5  GAD6  GAD7  GADE  SWL1  SWL2  SWL3  SWL4  \\\n",
       "0     0     0     0     0     1     0     0     1     3     5     5     5   \n",
       "\n",
       "   SWL5  Game  Platform     Hours  earnings  whyplay  League  streams  SPIN1  \\\n",
       "0     5     8         0  0.136364         1        1      18      0.0    1.0   \n",
       "\n",
       "   SPIN2  SPIN3  SPIN4  SPIN5  SPIN6  SPIN7  SPIN8  SPIN9  SPIN10  SPIN11  \\\n",
       "0    0.0    0.0    1.0    0.0    0.0    1.0    0.0    0.0     0.0     0.0   \n",
       "\n",
       "   SPIN12  SPIN13  SPIN14  SPIN15  SPIN16  SPIN17  Narcissism  Gender  \\\n",
       "0     0.0     0.0     1.0     0.0     1.0     0.0         1.0       1   \n",
       "\n",
       "        Age  Work  Degree  Reference  Playstyle     GAD_T  SWL_T    SPIN_T  \\\n",
       "0  0.155556     3       0          2          4  0.047619    0.6  0.073529   \n",
       "\n",
       "   Residence_ISO3  \n",
       "0             102  "
      ]
     },
     "execution_count": 84,
     "metadata": {},
     "output_type": "execute_result"
    }
   ],
   "source": [
    "df.head(1)"
   ]
  },
  {
   "cell_type": "code",
   "execution_count": 85,
   "id": "c131298e",
   "metadata": {
    "execution": {
     "iopub.execute_input": "2022-10-27T02:30:57.994920Z",
     "iopub.status.busy": "2022-10-27T02:30:57.994227Z",
     "iopub.status.idle": "2022-10-27T02:30:58.002485Z",
     "shell.execute_reply": "2022-10-27T02:30:58.001155Z"
    },
    "papermill": {
     "duration": 0.097829,
     "end_time": "2022-10-27T02:30:58.004945",
     "exception": false,
     "start_time": "2022-10-27T02:30:57.907116",
     "status": "completed"
    },
    "tags": []
   },
   "outputs": [],
   "source": [
    "df1 = df[['GAD_T'  , 'SWL_T' , 'SPIN_T' ]]\n",
    "df2 = df[[ 'Age' ,  'Hours' , 'streams' ]]"
   ]
  },
  {
   "cell_type": "code",
   "execution_count": 86,
   "id": "539c59cf",
   "metadata": {
    "execution": {
     "iopub.execute_input": "2022-10-27T02:30:58.172668Z",
     "iopub.status.busy": "2022-10-27T02:30:58.171899Z",
     "iopub.status.idle": "2022-10-27T02:30:58.177826Z",
     "shell.execute_reply": "2022-10-27T02:30:58.176498Z"
    },
    "papermill": {
     "duration": 0.092348,
     "end_time": "2022-10-27T02:30:58.180161",
     "exception": false,
     "start_time": "2022-10-27T02:30:58.087813",
     "status": "completed"
    },
    "tags": []
   },
   "outputs": [],
   "source": [
    "pc1 = PCA(n_components=2)\n",
    "pc2 = PCA(n_components=2)"
   ]
  },
  {
   "cell_type": "code",
   "execution_count": 87,
   "id": "5939c654",
   "metadata": {
    "execution": {
     "iopub.execute_input": "2022-10-27T02:30:58.347245Z",
     "iopub.status.busy": "2022-10-27T02:30:58.346482Z",
     "iopub.status.idle": "2022-10-27T02:30:58.408108Z",
     "shell.execute_reply": "2022-10-27T02:30:58.406362Z"
    },
    "papermill": {
     "duration": 0.151365,
     "end_time": "2022-10-27T02:30:58.412979",
     "exception": false,
     "start_time": "2022-10-27T02:30:58.261614",
     "status": "completed"
    },
    "tags": []
   },
   "outputs": [],
   "source": [
    "x1 = pc1.fit_transform(df1)\n",
    "x2 = pc2.fit_transform(df2)"
   ]
  },
  {
   "cell_type": "code",
   "execution_count": 88,
   "id": "963cfbd5",
   "metadata": {
    "execution": {
     "iopub.execute_input": "2022-10-27T02:30:58.665808Z",
     "iopub.status.busy": "2022-10-27T02:30:58.665402Z",
     "iopub.status.idle": "2022-10-27T02:30:58.670731Z",
     "shell.execute_reply": "2022-10-27T02:30:58.669844Z"
    },
    "papermill": {
     "duration": 0.091412,
     "end_time": "2022-10-27T02:30:58.672691",
     "exception": false,
     "start_time": "2022-10-27T02:30:58.581279",
     "status": "completed"
    },
    "tags": []
   },
   "outputs": [],
   "source": [
    "x = x1 + x2"
   ]
  },
  {
   "cell_type": "code",
   "execution_count": 89,
   "id": "a25c88dc",
   "metadata": {
    "execution": {
     "iopub.execute_input": "2022-10-27T02:30:59.008154Z",
     "iopub.status.busy": "2022-10-27T02:30:59.007375Z",
     "iopub.status.idle": "2022-10-27T02:31:15.806037Z",
     "shell.execute_reply": "2022-10-27T02:31:15.804742Z"
    },
    "papermill": {
     "duration": 16.886951,
     "end_time": "2022-10-27T02:31:15.808710",
     "exception": false,
     "start_time": "2022-10-27T02:30:58.921759",
     "status": "completed"
    },
    "tags": []
   },
   "outputs": [
    {
     "data": {
      "image/png": "[encoded data removed]",
      "text/plain": [
       "<Figure size 504x504 with 1 Axes>"
      ]
     },
     "metadata": {
      "needs_background": "light"
     },
     "output_type": "display_data"
    }
   ],
   "source": [
    "WCSS = []\n",
    "for i in range(1,12):\n",
    "    model = KMeans(n_clusters = i,init = 'k-means++')\n",
    "    model.fit(x)\n",
    "    WCSS.append(model.inertia_) #inertia --> error\n",
    "fig = plt.figure(figsize = (7,7))\n",
    "plt.plot(range(1,12),WCSS, linewidth=4, markersize=12,marker='o',color = 'green')\n",
    "plt.xticks(np.arange(12))\n",
    "plt.xlabel(\"Number of clusters\")\n",
    "plt.ylabel(\"WCSS\")\n",
    "plt.show()"
   ]
  },
  {
   "cell_type": "code",
   "execution_count": 90,
   "id": "b2253569",
   "metadata": {
    "execution": {
     "iopub.execute_input": "2022-10-27T02:31:16.138424Z",
     "iopub.status.busy": "2022-10-27T02:31:16.137526Z",
     "iopub.status.idle": "2022-10-27T02:31:21.873048Z",
     "shell.execute_reply": "2022-10-27T02:31:21.871920Z"
    },
    "papermill": {
     "duration": 5.822,
     "end_time": "2022-10-27T02:31:21.875851",
     "exception": false,
     "start_time": "2022-10-27T02:31:16.053851",
     "status": "completed"
    },
    "tags": []
   },
   "outputs": [],
   "source": [
    "model = KMeans(n_clusters = 5, init = \"k-means++\", max_iter = 300, n_init = 40, random_state = 0)\n",
    "y_clusters = model.fit_predict(x)"
   ]
  },
  {
   "cell_type": "code",
   "execution_count": 91,
   "id": "0b2156b0",
   "metadata": {
    "execution": {
     "iopub.execute_input": "2022-10-27T02:31:22.044560Z",
     "iopub.status.busy": "2022-10-27T02:31:22.044171Z",
     "iopub.status.idle": "2022-10-27T02:31:22.271234Z",
     "shell.execute_reply": "2022-10-27T02:31:22.269950Z"
    },
    "papermill": {
     "duration": 0.314035,
     "end_time": "2022-10-27T02:31:22.273821",
     "exception": false,
     "start_time": "2022-10-27T02:31:21.959786",
     "status": "completed"
    },
    "tags": []
   },
   "outputs": [
    {
     "data": {
      "image/png": "[encoded data removed]",
      "text/plain": [
       "<Figure size 432x288 with 1 Axes>"
      ]
     },
     "metadata": {
      "needs_background": "light"
     },
     "output_type": "display_data"
    }
   ],
   "source": [
    "pd.Series(y_clusters).value_counts().plot(kind='bar');"
   ]
  },
  {
   "cell_type": "code",
   "execution_count": 92,
   "id": "9b1acb37",
   "metadata": {
    "execution": {
     "iopub.execute_input": "2022-10-27T02:31:22.443520Z",
     "iopub.status.busy": "2022-10-27T02:31:22.443123Z",
     "iopub.status.idle": "2022-10-27T02:31:23.109431Z",
     "shell.execute_reply": "2022-10-27T02:31:23.108326Z"
    },
    "papermill": {
     "duration": 0.753896,
     "end_time": "2022-10-27T02:31:23.111865",
     "exception": false,
     "start_time": "2022-10-27T02:31:22.357969",
     "status": "completed"
    },
    "tags": []
   },
   "outputs": [
    {
     "data": {
      "image/png": "[encoded data removed]",
      "text/plain": [
       "<Figure size 432x288 with 1 Axes>"
      ]
     },
     "metadata": {
      "needs_background": "light"
     },
     "output_type": "display_data"
    }
   ],
   "source": [
    "plt.scatter(x[y_clusters == 0, 0], x[y_clusters == 0, 1], s = 60, c = 'red', label = 'Cluster1')\n",
    "plt.scatter(x[y_clusters == 1, 0], x[y_clusters == 1, 1], s = 60, c = 'blue', label = 'Cluster2')\n",
    "plt.scatter(x[y_clusters == 2, 0], x[y_clusters == 2, 1], s = 60, c = 'green', label = 'Cluster3')\n",
    "plt.scatter(x[y_clusters == 3, 0], x[y_clusters == 3, 1], s = 60, c = 'violet', label = 'Cluster4')\n",
    "plt.scatter(x[y_clusters == 4, 0], x[y_clusters == 4, 1], s = 60, c = 'yellow', label = 'Cluster5') \n",
    "\n",
    "plt.legend()\n",
    "plt.show()"
   ]
  },
  {
   "cell_type": "code",
   "execution_count": 93,
   "id": "1fb12bd7",
   "metadata": {
    "execution": {
     "iopub.execute_input": "2022-10-27T02:31:23.446204Z",
     "iopub.status.busy": "2022-10-27T02:31:23.445781Z",
     "iopub.status.idle": "2022-10-27T02:31:23.453525Z",
     "shell.execute_reply": "2022-10-27T02:31:23.452548Z"
    },
    "papermill": {
     "duration": 0.095827,
     "end_time": "2022-10-27T02:31:23.455996",
     "exception": false,
     "start_time": "2022-10-27T02:31:23.360169",
     "status": "completed"
    },
    "tags": []
   },
   "outputs": [],
   "source": [
    "df['Label'] = y_clusters"
   ]
  },
  {
   "cell_type": "code",
   "execution_count": 94,
   "id": "6c24e385",
   "metadata": {
    "execution": {
     "iopub.execute_input": "2022-10-27T02:31:30.274827Z",
     "iopub.status.busy": "2022-10-27T02:31:30.274097Z",
     "iopub.status.idle": "2022-10-27T02:31:30.278497Z",
     "shell.execute_reply": "2022-10-27T02:31:30.277773Z"
    },
    "papermill": {
     "duration": 0.110995,
     "end_time": "2022-10-27T02:31:30.280499",
     "exception": false,
     "start_time": "2022-10-27T02:31:30.169504",
     "status": "completed"
    },
    "tags": []
   },
   "outputs": [],
   "source": [
    "plt.rcParams.update({'font.size': 12})"
   ]
  },
  {
   "cell_type": "code",
   "execution_count": 95,
   "id": "1c0a9ad1",
   "metadata": {
    "execution": {
     "iopub.execute_input": "2022-10-27T02:31:30.483627Z",
     "iopub.status.busy": "2022-10-27T02:31:30.482896Z",
     "iopub.status.idle": "2022-10-27T02:31:30.490431Z",
     "shell.execute_reply": "2022-10-27T02:31:30.489696Z"
    },
    "papermill": {
     "duration": 0.11237,
     "end_time": "2022-10-27T02:31:30.492602",
     "exception": false,
     "start_time": "2022-10-27T02:31:30.380232",
     "status": "completed"
    },
    "tags": []
   },
   "outputs": [
    {
     "data": {
      "text/plain": [
       "4    3245\n",
       "1    3215\n",
       "0    2360\n",
       "2    1992\n",
       "3    1269\n",
       "Name: Label, dtype: int64"
      ]
     },
     "execution_count": 95,
     "metadata": {},
     "output_type": "execute_result"
    }
   ],
   "source": [
    "df['Label'].value_counts()"
   ]
  },
  {
   "cell_type": "code",
   "execution_count": 96,
   "id": "650cdee5",
   "metadata": {
    "execution": {
     "iopub.execute_input": "2022-10-27T02:31:30.700502Z",
     "iopub.status.busy": "2022-10-27T02:31:30.699424Z",
     "iopub.status.idle": "2022-10-27T02:31:30.705999Z",
     "shell.execute_reply": "2022-10-27T02:31:30.705259Z"
    },
    "papermill": {
     "duration": 0.11279,
     "end_time": "2022-10-27T02:31:30.708083",
     "exception": false,
     "start_time": "2022-10-27T02:31:30.595293",
     "status": "completed"
    },
    "tags": []
   },
   "outputs": [],
   "source": [
    "X = df.iloc[:,:-1]\n",
    "y = df.iloc[:,-1]"
   ]
  },
  {
   "cell_type": "code",
   "execution_count": 97,
   "id": "beec52bb",
   "metadata": {
    "execution": {
     "iopub.execute_input": "2022-10-27T02:31:31.142980Z",
     "iopub.status.busy": "2022-10-27T02:31:31.141854Z",
     "iopub.status.idle": "2022-10-27T02:31:31.152595Z",
     "shell.execute_reply": "2022-10-27T02:31:31.151744Z"
    },
    "papermill": {
     "duration": 0.115353,
     "end_time": "2022-10-27T02:31:31.154910",
     "exception": false,
     "start_time": "2022-10-27T02:31:31.039557",
     "status": "completed"
    },
    "tags": []
   },
   "outputs": [],
   "source": [
    "X_train , X_test ,y_train , y_test = train_test_split(X,y,train_size=.8,random_state=44)"
   ]
  },
  {
   "cell_type": "code",
   "execution_count": 98,
   "id": "e50d311e",
   "metadata": {
    "execution": {
     "iopub.execute_input": "2022-10-27T02:31:31.774958Z",
     "iopub.status.busy": "2022-10-27T02:31:31.774556Z",
     "iopub.status.idle": "2022-10-27T02:31:31.990605Z",
     "shell.execute_reply": "2022-10-27T02:31:31.989770Z"
    },
    "papermill": {
     "duration": 0.325825,
     "end_time": "2022-10-27T02:31:31.992813",
     "exception": false,
     "start_time": "2022-10-27T02:31:31.666988",
     "status": "completed"
    },
    "tags": []
   },
   "outputs": [
    {
     "data": {
      "image/png": "[encoded data removed]",
      "text/plain": [
       "<Figure size 360x360 with 1 Axes>"
      ]
     },
     "metadata": {
      "needs_background": "light"
     },
     "output_type": "display_data"
    }
   ],
   "source": [
    "l1 = df[df['Label'] == 0]['GAD_T'].mean()\n",
    "l2 = df[df['Label'] == 0]['SWL_T'].mean()\n",
    "l3 = df[df['Label'] == 0]['SPIN_T'].mean()\n",
    "l4 = df[df['Label'] == 0]['Hours'].mean()\n",
    "l5 = df[df['Label'] == 0]['streams'].mean()\n",
    "\n",
    "c=[l1,l2,l3,l4,l5]\n",
    "plt.figure(figsize=(5,5))\n",
    "plt.bar(['GAD_T','SWL_T','SPIN_T' ,'Hours' , 'streams'],c,color ='maroon',width = 0.5)\n",
    "plt.show()"
   ]
  },
  {
   "cell_type": "code",
   "execution_count": 99,
   "id": "c9fcd2a2",
   "metadata": {
    "execution": {
     "iopub.execute_input": "2022-10-27T02:31:32.196628Z",
     "iopub.status.busy": "2022-10-27T02:31:32.196190Z",
     "iopub.status.idle": "2022-10-27T02:31:32.413402Z",
     "shell.execute_reply": "2022-10-27T02:31:32.412553Z"
    },
    "papermill": {
     "duration": 0.322003,
     "end_time": "2022-10-27T02:31:32.415876",
     "exception": false,
     "start_time": "2022-10-27T02:31:32.093873",
     "status": "completed"
    },
    "tags": []
   },
   "outputs": [
    {
     "data": {
      "image/png": "[encoded data removed]",
      "text/plain": [
       "<Figure size 360x360 with 1 Axes>"
      ]
     },
     "metadata": {
      "needs_background": "light"
     },
     "output_type": "display_data"
    }
   ],
   "source": [
    "l1 = df[df['Label'] == 1]['GAD_T'].mean()\n",
    "l2 = df[df['Label'] == 1]['SWL_T'].mean()\n",
    "l3 = df[df['Label'] == 1]['SPIN_T'].mean()\n",
    "l4 = df[df['Label'] == 1]['Hours'].mean()\n",
    "l5 = df[df['Label'] == 1]['streams'].mean()\n",
    "\n",
    "c=[l1,l2,l3,l4,l5]\n",
    "plt.figure(figsize=(5,5))\n",
    "plt.bar(['GAD_T','SWL_T','SPIN_T' ,'Hours' , 'streams'],c,color ='maroon',width = 0.5)\n",
    "plt.show()"
   ]
  },
  {
   "cell_type": "code",
   "execution_count": 100,
   "id": "5d56a957",
   "metadata": {
    "execution": {
     "iopub.execute_input": "2022-10-27T02:31:32.621869Z",
     "iopub.status.busy": "2022-10-27T02:31:32.621045Z",
     "iopub.status.idle": "2022-10-27T02:31:32.832196Z",
     "shell.execute_reply": "2022-10-27T02:31:32.831309Z"
    },
    "papermill": {
     "duration": 0.317083,
     "end_time": "2022-10-27T02:31:32.834727",
     "exception": false,
     "start_time": "2022-10-27T02:31:32.517644",
     "status": "completed"
    },
    "tags": []
   },
   "outputs": [
    {
     "data": {
      "image/png": "[encoded data removed]",
      "text/plain": [
       "<Figure size 360x360 with 1 Axes>"
      ]
     },
     "metadata": {
      "needs_background": "light"
     },
     "output_type": "display_data"
    }
   ],
   "source": [
    "l1 = df[df['Label'] == 2]['GAD_T'].mean()\n",
    "l2 = df[df['Label'] == 2]['SWL_T'].mean()\n",
    "l3 = df[df['Label'] == 2]['SPIN_T'].mean()\n",
    "l4 = df[df['Label'] == 2]['Hours'].mean()\n",
    "l5 = df[df['Label'] == 2]['streams'].mean()\n",
    "\n",
    "c=[l1,l2,l3,l4,l5]\n",
    "plt.figure(figsize=(5,5))\n",
    "plt.bar(['GAD_T','SWL_T','SPIN_T' ,'Hours' , 'streams'],c,color ='maroon',width = 0.5)\n",
    "plt.show()"
   ]
  },
  {
   "cell_type": "code",
   "execution_count": 101,
   "id": "addcdf84",
   "metadata": {
    "execution": {
     "iopub.execute_input": "2022-10-27T02:31:33.038609Z",
     "iopub.status.busy": "2022-10-27T02:31:33.037827Z",
     "iopub.status.idle": "2022-10-27T02:31:33.245710Z",
     "shell.execute_reply": "2022-10-27T02:31:33.244502Z"
    },
    "papermill": {
     "duration": 0.313206,
     "end_time": "2022-10-27T02:31:33.248117",
     "exception": false,
     "start_time": "2022-10-27T02:31:32.934911",
     "status": "completed"
    },
    "tags": []
   },
   "outputs": [
    {
     "data": {
      "image/png": "[encoded data removed]",
      "text/plain": [
       "<Figure size 360x360 with 1 Axes>"
      ]
     },
     "metadata": {
      "needs_background": "light"
     },
     "output_type": "display_data"
    }
   ],
   "source": [
    "l1 = df[df['Label'] == 3]['GAD_T'].mean()\n",
    "l2 = df[df['Label'] == 3]['SWL_T'].mean()\n",
    "l3 = df[df['Label'] == 3]['SPIN_T'].mean()\n",
    "l4 = df[df['Label'] == 3]['Hours'].mean()\n",
    "l5 = df[df['Label'] == 3]['streams'].mean()\n",
    "\n",
    "c=[l1,l2,l3,l4,l5]\n",
    "plt.figure(figsize=(5,5))\n",
    "plt.bar(['GAD_T','SWL_T','SPIN_T' ,'Hours' , 'streams'],c,color ='maroon',width = 0.5)\n",
    "plt.show()"
   ]
  },
  {
   "cell_type": "code",
   "execution_count": 102,
   "id": "99b67c29",
   "metadata": {
    "execution": {
     "iopub.execute_input": "2022-10-27T02:31:33.452315Z",
     "iopub.status.busy": "2022-10-27T02:31:33.451906Z",
     "iopub.status.idle": "2022-10-27T02:31:33.659125Z",
     "shell.execute_reply": "2022-10-27T02:31:33.657570Z"
    },
    "papermill": {
     "duration": 0.312965,
     "end_time": "2022-10-27T02:31:33.662055",
     "exception": false,
     "start_time": "2022-10-27T02:31:33.349090",
     "status": "completed"
    },
    "tags": []
   },
   "outputs": [
    {
     "data": {
      "image/png": "[encoded data removed]",
      "text/plain": [
       "<Figure size 360x360 with 1 Axes>"
      ]
     },
     "metadata": {
      "needs_background": "light"
     },
     "output_type": "display_data"
    }
   ],
   "source": [
    "l1 = df[df['Label'] == 4]['GAD_T'].mean()\n",
    "l2 = df[df['Label'] == 4]['SWL_T'].mean()\n",
    "l3 = df[df['Label'] == 4]['SPIN_T'].mean()\n",
    "l4 = df[df['Label'] == 4]['Hours'].mean()\n",
    "l5 = df[df['Label'] == 4]['streams'].mean()\n",
    "\n",
    "c=[l1,l2,l3,l4,l5]\n",
    "plt.figure(figsize=(5,5))\n",
    "plt.bar(['GAD_T','SWL_T','SPIN_T' ,'Hours' , 'streams'],c,color ='maroon',width = 0.5)\n",
    "plt.show()"
   ]
  },
  {
   "cell_type": "code",
   "execution_count": 103,
   "id": "37e44cd9",
   "metadata": {},
   "outputs": [
    {
     "name": "stdout",
     "output_type": "stream",
     "text": [
      "Epoch 1/5\n",
      "302/302 [==============================] - 1s 2ms/step - loss: -67.2276\n",
      "Epoch 2/5\n",
      "302/302 [==============================] - 1s 2ms/step - loss: -429.6688\n",
      "Epoch 3/5\n",
      "302/302 [==============================] - 1s 2ms/step - loss: -1128.5280\n",
      "Epoch 4/5\n",
      "302/302 [==============================] - 1s 2ms/step - loss: -2134.9829\n",
      "Epoch 5/5\n",
      "302/302 [==============================] - 1s 2ms/step - loss: -3423.0281\n"
     ]
    }
   ],
   "source": [
    "import tensorflow as tf\n",
    "ac=[]\n",
    "from tensorflow import keras\n",
    "from tensorflow.keras import layers\n",
    "x = layers.Input(shape=(12, 7)) \n",
    "cell = layers.SimpleRNNCell(3, activation='tanh')  \n",
    "rnn = layers.RNN(cell)\n",
    "rnn_output = rnn(x)\n",
    "from keras.models import Sequential\n",
    "from keras.layers import Dense\n",
    "model = Sequential()\n",
    "model.add(Dense(8,activation='relu',input_dim=48))\n",
    "model.add(Dense(1,activation='sigmoid'))\n",
    "\n",
    "model.compile(loss='binary_crossentropy',optimizer='adam')\n",
    "model.fit(X_train,y_train,epochs=5)\n",
    "ac.append(accuracy_score(model,y_test,sample_weight=0.2)*100)"
   ]
  },
  {
   "cell_type": "code",
   "execution_count": 104,
   "id": "ab7af983",
   "metadata": {},
   "outputs": [],
   "source": [
    "from sklearn.svm import SVC\n",
    "model=SVC(gamma='auto')\n",
    "model.fit(X_train, y_train)\n",
    "y_pred = model.predict(X_test)\n",
    "ac.append(accuracy_score(y_pred,y_test,sample_weight=1)*100)"
   ]
  },
  {
   "cell_type": "code",
   "execution_count": 105,
   "id": "8d2204a0",
   "metadata": {},
   "outputs": [],
   "source": [
    "import pickle\n",
    "f=open('model.pkl','rb')\n",
    "model=pickle.load(f)\n",
    "y_pred=model.predict(X_test)"
   ]
  },
  {
   "cell_type": "code",
   "execution_count": 106,
   "id": "dc38d74f",
   "metadata": {},
   "outputs": [
    {
     "name": "stdout",
     "output_type": "stream",
     "text": [
      "the accuracy of RCNN is 97.27 and SVM is 96.33\n"
     ]
    },
    {
     "data": {
      "text/html": [
       "<div>\n",
       "<style scoped>\n",
       "    .dataframe tbody tr th:only-of-type {\n",
       "        vertical-align: middle;\n",
       "    }\n",
       "\n",
       "    .dataframe tbody tr th {\n",
       "        vertical-align: top;\n",
       "    }\n",
       "\n",
       "    .dataframe thead th {\n",
       "        text-align: right;\n",
       "    }\n",
       "</style>\n",
       "<table border=\"1\" class=\"dataframe\">\n",
       "  <thead>\n",
       "    <tr style=\"text-align: right;\">\n",
       "      <th></th>\n",
       "      <th>Agorithms</th>\n",
       "      <th>accuracy</th>\n",
       "    </tr>\n",
       "  </thead>\n",
       "  <tbody>\n",
       "    <tr>\n",
       "      <th>0</th>\n",
       "      <td>RCNN</td>\n",
       "      <td>97.27</td>\n",
       "    </tr>\n",
       "    <tr>\n",
       "      <th>1</th>\n",
       "      <td>SVM</td>\n",
       "      <td>96.33</td>\n",
       "    </tr>\n",
       "  </tbody>\n",
       "</table>\n",
       "</div>"
      ],
      "text/plain": [
       "  Agorithms  accuracy\n",
       "0      RCNN     97.27\n",
       "1       SVM     96.33"
      ]
     },
     "execution_count": 106,
     "metadata": {},
     "output_type": "execute_result"
    },
    {
     "data": {
      "image/png": "[encoded data removed]",
      "text/plain": [
       "<Figure size 432x288 with 1 Axes>"
      ]
     },
     "metadata": {},
     "output_type": "display_data"
    }
   ],
   "source": [
    "import numpy as np\n",
    "import seaborn as sns\n",
    "import matplotlib as plt\n",
    "\n",
    "plt.style.use('ggplot')\n",
    "x=['RCNN','SVM']\n",
    " \n",
    "ax=sns.barplot(x,ac[:2])\n",
    "ax.set_title('Accuracy comparison')\n",
    "ax.set_ylabel('Accuracy')\n",
    "#ax.yaxis.set_major_locator(ticker.LinearLocator())\n",
    "print(\"the accuracy of {} is {} and {} is {}\".format(x[0],ac[0],x[1],ac[1]))\n",
    "ax.set_ylim(50,100)\n",
    "import pandas as pd\n",
    "data={'Agorithms':x,\n",
    "     \"accuracy\":ac[:2]}\n",
    "df=pd.DataFrame(data)\n",
    "df.head()\n",
    "\n",
    "\n",
    "\n",
    "\n"
   ]
  },
  {
   "cell_type": "code",
   "execution_count": 107,
   "id": "f450e4d6",
   "metadata": {},
   "outputs": [
    {
     "name": "stdout",
     "output_type": "stream",
     "text": [
      "Social Phobia\n",
      "Social Phobia\n",
      "normal\n",
      "general Anxiety\n",
      "general Anxiety\n",
      "normal\n",
      "general Anxiety\n",
      "general Anxiety\n",
      "general Anxiety\n"
     ]
    }
   ],
   "source": [
    "for i in range (1,10):\n",
    "    if(y_pred[i]==0):\n",
    "        print(\"normal\")\n",
    "    elif(y_pred[i]==2):\n",
    "        print(\"Social Phobia\")\n",
    "    else:\n",
    "        print(\"general Anxiety\")"
   ]
  },
  {
   "cell_type": "code",
   "execution_count": null,
   "id": "68b479ad",
   "metadata": {},
   "outputs": [],
   "source": []
  }
 ],
 "metadata": {
  "kernelspec": {
   "display_name": "Python 3",
   "language": "python",
   "name": "python3"
  },
  "language_info": {
   "codemirror_mode": {
    "name": "ipython",
    "version": 3
   },
   "file_extension": ".py",
   "mimetype": "text/x-python",
   "name": "python",
   "nbconvert_exporter": "python",
   "pygments_lexer": "ipython3",
   "version": "3.6.4"
  },
  "papermill": {
   "default_parameters": {},
   "duration": 170.660552,
   "end_time": "2022-10-27T02:32:53.278190",
   "environment_variables": {},
   "exception": null,
   "input_path": "__notebook__.ipynb",
   "output_path": "__notebook__.ipynb",
   "parameters": {},
   "start_time": "2022-10-27T02:30:02.617638",
   "version": "2.3.4"
  }
 },
 "nbformat": 4,
 "nbformat_minor": 5
}
